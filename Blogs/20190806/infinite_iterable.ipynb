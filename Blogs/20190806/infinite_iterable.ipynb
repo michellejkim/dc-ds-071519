{
 "cells": [
  {
   "cell_type": "code",
   "execution_count": 9,
   "metadata": {},
   "outputs": [
    {
     "name": "stdout",
     "output_type": "stream",
     "text": [
      "1\n",
      "2\n",
      "3\n",
      "1\n",
      "2\n",
      "3\n",
      "1\n"
     ]
    }
   ],
   "source": [
    "import itertools\n",
    "\n",
    "# Iterator Feed\n",
    "a = [1, 2, 3]\n",
    "\n",
    "# itertools.cycle() generates an iterator that cycles over its argument infinitely\n",
    "\n",
    "infinite_iterator = itertools.cycle(a)\n",
    "\n",
    "print(next(infinite_iterator))\n",
    "print(next(infinite_iterator))\n",
    "print(next(infinite_iterator))\n",
    "print(next(infinite_iterator))\n",
    "print(next(infinite_iterator))\n",
    "print(next(infinite_iterator))\n",
    "print(next(infinite_iterator))"
   ]
  }
 ],
 "metadata": {
  "kernelspec": {
   "display_name": "Python 3",
   "language": "python",
   "name": "python3"
  },
  "language_info": {
   "codemirror_mode": {
    "name": "ipython",
    "version": 3
   },
   "file_extension": ".py",
   "mimetype": "text/x-python",
   "name": "python",
   "nbconvert_exporter": "python",
   "pygments_lexer": "ipython3",
   "version": "3.7.3"
  }
 },
 "nbformat": 4,
 "nbformat_minor": 2
}
