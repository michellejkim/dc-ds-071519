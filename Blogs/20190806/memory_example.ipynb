{
 "cells": [
  {
   "cell_type": "code",
   "execution_count": 1,
   "metadata": {},
   "outputs": [],
   "source": [
    "# How much memory does an iterator save?\n",
    "import itertools\n",
    "\n",
    "# Generator a long iterator\n",
    "iterator_example = itertools.repeat(4,times = 10**6)\n",
    "\n",
    "# Generate the list version of the same iterator\n",
    "container_example = [7]*10**6"
   ]
  },
  {
   "cell_type": "code",
   "execution_count": 6,
   "metadata": {},
   "outputs": [
    {
     "name": "stdout",
     "output_type": "stream",
     "text": [
      "56\n",
      "8000064\n"
     ]
    }
   ],
   "source": [
    "import sys\n",
    "\n",
    "# Iterator size, in bytes\n",
    "print(sys.getsizeof(iterator_example)) \n",
    "\n",
    "# Container size, in bytes\n",
    "print(sys.getsizeof(container_example))\n",
    "\n",
    "# The iterator is about 142858 times smaller than the equivalent list"
   ]
  }
 ],
 "metadata": {
  "kernelspec": {
   "display_name": "Python 3",
   "language": "python",
   "name": "python3"
  },
  "language_info": {
   "codemirror_mode": {
    "name": "ipython",
    "version": 3
   },
   "file_extension": ".py",
   "mimetype": "text/x-python",
   "name": "python",
   "nbconvert_exporter": "python",
   "pygments_lexer": "ipython3",
   "version": "3.7.3"
  }
 },
 "nbformat": 4,
 "nbformat_minor": 2
}
