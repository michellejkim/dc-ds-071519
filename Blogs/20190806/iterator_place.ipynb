{
 "cells": [
  {
   "cell_type": "code",
   "execution_count": 5,
   "metadata": {},
   "outputs": [
    {
     "name": "stdout",
     "output_type": "stream",
     "text": [
      "1\n",
      "s\n",
      "2\n",
      "t\n",
      "3\n",
      "r\n",
      "4\n",
      "i\n",
      "5\n",
      "n\n",
      "6\n",
      "g\n"
     ]
    }
   ],
   "source": [
    "a = [1,2,3,4,5,6]\n",
    "b = 'string'\n",
    "\n",
    "iterator_a = iter(a)\n",
    "iterator_b = iter(b)\n",
    "\n",
    "print(next(iterator_a))\n",
    "print(next(iterator_b))\n",
    "\n",
    "print(next(iterator_a))\n",
    "print(next(iterator_b))\n",
    "\n",
    "print(next(iterator_a))\n",
    "print(next(iterator_b))\n",
    "\n",
    "print(next(iterator_a))\n",
    "print(next(iterator_b))\n",
    "\n",
    "print(next(iterator_a))\n",
    "print(next(iterator_b))\n",
    "\n",
    "print(next(iterator_a))\n",
    "print(next(iterator_b))"
   ]
  }
 ],
 "metadata": {
  "kernelspec": {
   "display_name": "Python 3",
   "language": "python",
   "name": "python3"
  },
  "language_info": {
   "codemirror_mode": {
    "name": "ipython",
    "version": 3
   },
   "file_extension": ".py",
   "mimetype": "text/x-python",
   "name": "python",
   "nbconvert_exporter": "python",
   "pygments_lexer": "ipython3",
   "version": "3.7.3"
  }
 },
 "nbformat": 4,
 "nbformat_minor": 2
}
