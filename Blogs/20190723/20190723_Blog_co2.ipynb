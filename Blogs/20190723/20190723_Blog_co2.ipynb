{
 "cells": [
  {
   "cell_type": "code",
   "execution_count": 1,
   "metadata": {},
   "outputs": [],
   "source": [
    "import pandas as pd\n",
    "import matplotlib.pyplot as plt"
   ]
  },
  {
   "cell_type": "markdown",
   "metadata": {},
   "source": [
    "### The Keeling Curve, Mona Loa, Scripps Institution of Oceanography\n",
    "Data Source: http://scrippsco2.ucsd.edu/data/atmospheric_co2/primary_mlo_co2_record <br>"
   ]
  },
  {
   "cell_type": "code",
   "execution_count": 4,
   "metadata": {
    "scrolled": false
   },
   "outputs": [
    {
     "data": {
      "text/html": [
       "<div>\n",
       "<style scoped>\n",
       "    .dataframe tbody tr th:only-of-type {\n",
       "        vertical-align: middle;\n",
       "    }\n",
       "\n",
       "    .dataframe tbody tr th {\n",
       "        vertical-align: top;\n",
       "    }\n",
       "\n",
       "    .dataframe thead th {\n",
       "        text-align: right;\n",
       "    }\n",
       "</style>\n",
       "<table border=\"1\" class=\"dataframe\">\n",
       "  <thead>\n",
       "    <tr style=\"text-align: right;\">\n",
       "      <th></th>\n",
       "      <th>Year</th>\n",
       "      <th>Month</th>\n",
       "      <th>ExcelDate</th>\n",
       "      <th>DateYears</th>\n",
       "      <th>CO2ppm</th>\n",
       "      <th>CO2ppmSeasonAdj</th>\n",
       "      <th>fit</th>\n",
       "      <th>CO2ppmSeasonAdjFit</th>\n",
       "      <th>CO2ppmFilled</th>\n",
       "      <th>CO2ppmSeasonAdjFilled</th>\n",
       "    </tr>\n",
       "  </thead>\n",
       "  <tbody>\n",
       "    <tr>\n",
       "      <th>0</th>\n",
       "      <td>1958</td>\n",
       "      <td>1</td>\n",
       "      <td>21200</td>\n",
       "      <td>1958.0411</td>\n",
       "      <td>NaN</td>\n",
       "      <td>NaN</td>\n",
       "      <td>NaN</td>\n",
       "      <td>NaN</td>\n",
       "      <td>NaN</td>\n",
       "      <td>NaN</td>\n",
       "    </tr>\n",
       "    <tr>\n",
       "      <th>1</th>\n",
       "      <td>1958</td>\n",
       "      <td>2</td>\n",
       "      <td>21231</td>\n",
       "      <td>1958.1260</td>\n",
       "      <td>NaN</td>\n",
       "      <td>NaN</td>\n",
       "      <td>NaN</td>\n",
       "      <td>NaN</td>\n",
       "      <td>NaN</td>\n",
       "      <td>NaN</td>\n",
       "    </tr>\n",
       "    <tr>\n",
       "      <th>2</th>\n",
       "      <td>1958</td>\n",
       "      <td>3</td>\n",
       "      <td>21259</td>\n",
       "      <td>1958.2027</td>\n",
       "      <td>315.70</td>\n",
       "      <td>314.43</td>\n",
       "      <td>316.19</td>\n",
       "      <td>314.90</td>\n",
       "      <td>315.70</td>\n",
       "      <td>314.43</td>\n",
       "    </tr>\n",
       "    <tr>\n",
       "      <th>3</th>\n",
       "      <td>1958</td>\n",
       "      <td>4</td>\n",
       "      <td>21290</td>\n",
       "      <td>1958.2877</td>\n",
       "      <td>317.45</td>\n",
       "      <td>315.16</td>\n",
       "      <td>317.30</td>\n",
       "      <td>314.98</td>\n",
       "      <td>317.45</td>\n",
       "      <td>315.16</td>\n",
       "    </tr>\n",
       "    <tr>\n",
       "      <th>4</th>\n",
       "      <td>1958</td>\n",
       "      <td>5</td>\n",
       "      <td>21320</td>\n",
       "      <td>1958.3699</td>\n",
       "      <td>317.51</td>\n",
       "      <td>314.71</td>\n",
       "      <td>317.86</td>\n",
       "      <td>315.06</td>\n",
       "      <td>317.51</td>\n",
       "      <td>314.71</td>\n",
       "    </tr>\n",
       "  </tbody>\n",
       "</table>\n",
       "</div>"
      ],
      "text/plain": [
       "   Year  Month  ExcelDate  DateYears  CO2ppm  CO2ppmSeasonAdj     fit  \\\n",
       "0  1958      1      21200  1958.0411     NaN              NaN     NaN   \n",
       "1  1958      2      21231  1958.1260     NaN              NaN     NaN   \n",
       "2  1958      3      21259  1958.2027  315.70           314.43  316.19   \n",
       "3  1958      4      21290  1958.2877  317.45           315.16  317.30   \n",
       "4  1958      5      21320  1958.3699  317.51           314.71  317.86   \n",
       "\n",
       "   CO2ppmSeasonAdjFit  CO2ppmFilled  CO2ppmSeasonAdjFilled  \n",
       "0                 NaN           NaN                    NaN  \n",
       "1                 NaN           NaN                    NaN  \n",
       "2              314.90        315.70                 314.43  \n",
       "3              314.98        317.45                 315.16  \n",
       "4              315.06        317.51                 314.71  "
      ]
     },
     "execution_count": 4,
     "metadata": {},
     "output_type": "execute_result"
    }
   ],
   "source": [
    "co2 = pd.read_csv(co2_url,skiprows=57, na_values=-99.99,\n",
    "                  names=['Year','Month','ExcelDate',\\\n",
    "                         'DateYears','CO2ppm',\\\n",
    "                         'CO2ppmSeasonAdj','fit',\\\n",
    "                         'CO2ppmSeasonAdjFit',\\\n",
    "                         'CO2ppmFilled',\\\n",
    "                         'CO2ppmSeasonAdjFilled'])\n",
    "co2.head()"
   ]
  },
  {
   "cell_type": "code",
   "execution_count": 13,
   "metadata": {},
   "outputs": [
    {
     "data": {
      "image/png": "[encoded data removed]",
      "text/plain": [
       "<Figure size 432x288 with 1 Axes>"
      ]
     },
     "metadata": {
      "needs_background": "light"
     },
     "output_type": "display_data"
    }
   ],
   "source": [
    "plt.plot(co2.DateYears,co2.CO2ppm)\n",
    "plt.title('The Keeling Curve: Background '\\\n",
    "          +'$CO_2$' + ' (ppm)')\n",
    "plt.xlabel('Years')\n",
    "plt.ylabel('$CO_2$'+'(ppm)')\n",
    "plt.show()"
   ]
  }
 ],
 "metadata": {
  "kernelspec": {
   "display_name": "Python 3",
   "language": "python",
   "name": "python3"
  },
  "language_info": {
   "codemirror_mode": {
    "name": "ipython",
    "version": 3
   },
   "file_extension": ".py",
   "mimetype": "text/x-python",
   "name": "python",
   "nbconvert_exporter": "python",
   "pygments_lexer": "ipython3",
   "version": "3.7.3"
  }
 },
 "nbformat": 4,
 "nbformat_minor": 2
}
