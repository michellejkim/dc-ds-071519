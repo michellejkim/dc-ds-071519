{
 "cells": [
  {
   "cell_type": "code",
   "execution_count": 1,
   "metadata": {},
   "outputs": [],
   "source": [
    "import pandas as pd\n",
    "import matplotlib.pyplot as plt"
   ]
  },
  {
   "cell_type": "markdown",
   "metadata": {},
   "source": [
    "### How are we doing on renewable energy?\n",
    "Data: https://openei.org/wiki/Map_of_Wind_Farms/Data <br>"
   ]
  },
  {
   "cell_type": "code",
   "execution_count": 2,
   "metadata": {
    "scrolled": true
   },
   "outputs": [],
   "source": [
    "wind_url = './result.csv'\n",
    "wind = pd.read_csv('result.csv')"
   ]
  },
  {
   "cell_type": "code",
   "execution_count": 4,
   "metadata": {
    "scrolled": true
   },
   "outputs": [
    {
     "data": {
      "text/html": [
       "<div>\n",
       "<style scoped>\n",
       "    .dataframe tbody tr th:only-of-type {\n",
       "        vertical-align: middle;\n",
       "    }\n",
       "\n",
       "    .dataframe tbody tr th {\n",
       "        vertical-align: top;\n",
       "    }\n",
       "\n",
       "    .dataframe thead th {\n",
       "        text-align: right;\n",
       "    }\n",
       "</style>\n",
       "<table border=\"1\" class=\"dataframe\">\n",
       "  <thead>\n",
       "    <tr style=\"text-align: right;\">\n",
       "      <th></th>\n",
       "      <th>Facility Name</th>\n",
       "      <th>Facility</th>\n",
       "      <th>FacilityType</th>\n",
       "      <th>Owner</th>\n",
       "      <th>Developer</th>\n",
       "      <th>EnergyPurchaser</th>\n",
       "      <th>Place</th>\n",
       "      <th>GeneratingCapacity</th>\n",
       "      <th>NumberOfUnits</th>\n",
       "      <th>CommercialOnlineDate</th>\n",
       "      <th>WindTurbineManufacturer</th>\n",
       "      <th>FacilityStatus</th>\n",
       "      <th>Coordinates</th>\n",
       "    </tr>\n",
       "  </thead>\n",
       "  <tbody>\n",
       "    <tr>\n",
       "      <th>0</th>\n",
       "      <td>251 Wind</td>\n",
       "      <td>251 Wind</td>\n",
       "      <td>NaN</td>\n",
       "      <td>NaN</td>\n",
       "      <td>NaN</td>\n",
       "      <td>NaN</td>\n",
       "      <td>Kern County, CA</td>\n",
       "      <td>18.43 MW</td>\n",
       "      <td>194.0</td>\n",
       "      <td>1987.0</td>\n",
       "      <td>Vestas</td>\n",
       "      <td>NaN</td>\n",
       "      <td>35.0861°, -118.3533°</td>\n",
       "    </tr>\n",
       "    <tr>\n",
       "      <th>1</th>\n",
       "      <td>3-D Metals</td>\n",
       "      <td>3-D Metals</td>\n",
       "      <td>Definition:Small Scale Wind</td>\n",
       "      <td>NaN</td>\n",
       "      <td>NaN</td>\n",
       "      <td>NaN</td>\n",
       "      <td>Valley City OH</td>\n",
       "      <td>0.1 MW</td>\n",
       "      <td>1.0</td>\n",
       "      <td>2009.0</td>\n",
       "      <td>Northern Power Systems</td>\n",
       "      <td>In Service</td>\n",
       "      <td>41.2481°, -81.8831°</td>\n",
       "    </tr>\n",
       "    <tr>\n",
       "      <th>2</th>\n",
       "      <td>30 MW Iowa DG Portfolio</td>\n",
       "      <td>30 MW Iowa DG Portfolio</td>\n",
       "      <td>NaN</td>\n",
       "      <td>NaN</td>\n",
       "      <td>NaN</td>\n",
       "      <td>NaN</td>\n",
       "      <td>Story County, IA</td>\n",
       "      <td>30 MW</td>\n",
       "      <td>10.0</td>\n",
       "      <td>2017.0</td>\n",
       "      <td>Nordex</td>\n",
       "      <td>NaN</td>\n",
       "      <td>42.0136°, -93.5181°</td>\n",
       "    </tr>\n",
       "    <tr>\n",
       "      <th>3</th>\n",
       "      <td>6th Space Warning Squadron</td>\n",
       "      <td>6th Space Warning Squadron</td>\n",
       "      <td>NaN</td>\n",
       "      <td>NaN</td>\n",
       "      <td>NaN</td>\n",
       "      <td>NaN</td>\n",
       "      <td>Barnstable County, MA</td>\n",
       "      <td>3.36 MW</td>\n",
       "      <td>2.0</td>\n",
       "      <td>2013.0</td>\n",
       "      <td>GE Wind</td>\n",
       "      <td>NaN</td>\n",
       "      <td>41.7525°, -70.5417°</td>\n",
       "    </tr>\n",
       "    <tr>\n",
       "      <th>4</th>\n",
       "      <td>AB Tehachapi Wind Farm</td>\n",
       "      <td>AB Tehachapi</td>\n",
       "      <td>Commercial Scale Wind</td>\n",
       "      <td>Coram Energy</td>\n",
       "      <td>AB Energy</td>\n",
       "      <td>Southern California Edison Co</td>\n",
       "      <td>Tehachapi, California</td>\n",
       "      <td>6.97 MW</td>\n",
       "      <td>31.0</td>\n",
       "      <td>1992.0</td>\n",
       "      <td>Vestas</td>\n",
       "      <td>In Service</td>\n",
       "      <td>35.0533°, -118.2686°</td>\n",
       "    </tr>\n",
       "  </tbody>\n",
       "</table>\n",
       "</div>"
      ],
      "text/plain": [
       "                Facility Name                    Facility  \\\n",
       "0                    251 Wind                    251 Wind   \n",
       "1                  3-D Metals                  3-D Metals   \n",
       "2     30 MW Iowa DG Portfolio     30 MW Iowa DG Portfolio   \n",
       "3  6th Space Warning Squadron  6th Space Warning Squadron   \n",
       "4      AB Tehachapi Wind Farm                AB Tehachapi   \n",
       "\n",
       "                  FacilityType         Owner  Developer  \\\n",
       "0                          NaN           NaN        NaN   \n",
       "1  Definition:Small Scale Wind           NaN        NaN   \n",
       "2                          NaN           NaN        NaN   \n",
       "3                          NaN           NaN        NaN   \n",
       "4        Commercial Scale Wind  Coram Energy  AB Energy   \n",
       "\n",
       "                 EnergyPurchaser                  Place GeneratingCapacity  \\\n",
       "0                            NaN        Kern County, CA           18.43 MW   \n",
       "1                            NaN         Valley City OH             0.1 MW   \n",
       "2                            NaN       Story County, IA              30 MW   \n",
       "3                            NaN  Barnstable County, MA            3.36 MW   \n",
       "4  Southern California Edison Co  Tehachapi, California            6.97 MW   \n",
       "\n",
       "   NumberOfUnits  CommercialOnlineDate WindTurbineManufacturer FacilityStatus  \\\n",
       "0          194.0                1987.0                  Vestas            NaN   \n",
       "1            1.0                2009.0  Northern Power Systems     In Service   \n",
       "2           10.0                2017.0                  Nordex            NaN   \n",
       "3            2.0                2013.0                 GE Wind            NaN   \n",
       "4           31.0                1992.0                  Vestas     In Service   \n",
       "\n",
       "            Coordinates  \n",
       "0  35.0861°, -118.3533°  \n",
       "1   41.2481°, -81.8831°  \n",
       "2   42.0136°, -93.5181°  \n",
       "3   41.7525°, -70.5417°  \n",
       "4  35.0533°, -118.2686°  "
      ]
     },
     "execution_count": 4,
     "metadata": {},
     "output_type": "execute_result"
    }
   ],
   "source": [
    "wind.head()"
   ]
  },
  {
   "cell_type": "code",
   "execution_count": 5,
   "metadata": {},
   "outputs": [
    {
     "name": "stdout",
     "output_type": "stream",
     "text": [
      "<class 'pandas.core.frame.DataFrame'>\n",
      "RangeIndex: 1785 entries, 0 to 1784\n",
      "Data columns (total 13 columns):\n",
      "Facility Name              1785 non-null object\n",
      "Facility                   1784 non-null object\n",
      "FacilityType               1210 non-null object\n",
      "Owner                      1093 non-null object\n",
      "Developer                  1084 non-null object\n",
      "EnergyPurchaser            981 non-null object\n",
      "Place                      1776 non-null object\n",
      "GeneratingCapacity         1604 non-null object\n",
      "NumberOfUnits              1767 non-null float64\n",
      "CommercialOnlineDate       1649 non-null float64\n",
      "WindTurbineManufacturer    1550 non-null object\n",
      "FacilityStatus             1209 non-null object\n",
      "Coordinates                1783 non-null object\n",
      "dtypes: float64(2), object(11)\n",
      "memory usage: 181.4+ KB\n"
     ]
    }
   ],
   "source": [
    "wind.info()"
   ]
  },
  {
   "cell_type": "markdown",
   "metadata": {},
   "source": [
    "#### I want to plot energy generation, but it appears the data is a string. Looking at the data, I need to remove the units (MW or megawatts) to be able to plot this data. I ignore all other types of data, like NaNs."
   ]
  },
  {
   "cell_type": "code",
   "execution_count": 7,
   "metadata": {},
   "outputs": [],
   "source": [
    "wind['CapacityMW'] = wind.GeneratingCapacity.map(lambda x: x.strip('MW') if isinstance(x, str) else x)\n",
    "wind['CapacityMW'] = wind.CapacityMW.map(float)"
   ]
  },
  {
   "cell_type": "code",
   "execution_count": 8,
   "metadata": {},
   "outputs": [
    {
     "data": {
      "image/png": "[encoded data removed]",
      "text/plain": [
       "<Figure size 432x288 with 1 Axes>"
      ]
     },
     "metadata": {
      "needs_background": "light"
     },
     "output_type": "display_data"
    }
   ],
   "source": [
    "plt.plot(wind.groupby('CommercialOnlineDate').sum()['NumberOfUnits'].index,wind.groupby('CommercialOnlineDate').sum()['NumberOfUnits'])\n",
    "plt.scatter(wind.groupby('CommercialOnlineDate').sum()['NumberOfUnits'].index,wind.groupby('CommercialOnlineDate').sum()['NumberOfUnits'])\n",
    "plt.title('NumberOfUnits Brought Online')\n",
    "plt.xlabel('Year')\n",
    "plt.ylabel('Units')\n",
    "plt.show()"
   ]
  },
  {
   "cell_type": "markdown",
   "metadata": {},
   "source": [
    "Hm. That looks weird to me. There appear to be some discontinuities around 2009 (perhaps after effects of the recession?) and even more strangely, in 2013. <br>\n",
    "Does this hold up in other variables, like energy capacity?"
   ]
  },
  {
   "cell_type": "code",
   "execution_count": 9,
   "metadata": {},
   "outputs": [
    {
     "data": {
      "image/png": "[encoded data removed]",
      "text/plain": [
       "<Figure size 432x288 with 1 Axes>"
      ]
     },
     "metadata": {
      "needs_background": "light"
     },
     "output_type": "display_data"
    }
   ],
   "source": [
    "plt.scatter(wind.groupby('CommercialOnlineDate').sum()['CapacityMW'].index,wind.groupby('CommercialOnlineDate').sum()['CapacityMW'])\n",
    "plt.plot(wind.groupby('CommercialOnlineDate').sum()['CapacityMW'].index,wind.groupby('CommercialOnlineDate').sum()['CapacityMW'])\n",
    "plt.title('CapacityMW Brought Online')\n",
    "plt.xlabel('Year')\n",
    "plt.ylabel('MW')\n",
    "plt.show()"
   ]
  },
  {
   "cell_type": "markdown",
   "metadata": {},
   "source": [
    "Strange. I'd need to do some more digging."
   ]
  }
 ],
 "metadata": {
  "kernelspec": {
   "display_name": "Python 3",
   "language": "python",
   "name": "python3"
  },
  "language_info": {
   "codemirror_mode": {
    "name": "ipython",
    "version": 3
   },
   "file_extension": ".py",
   "mimetype": "text/x-python",
   "name": "python",
   "nbconvert_exporter": "python",
   "pygments_lexer": "ipython3",
   "version": "3.7.3"
  }
 },
 "nbformat": 4,
 "nbformat_minor": 2
}
