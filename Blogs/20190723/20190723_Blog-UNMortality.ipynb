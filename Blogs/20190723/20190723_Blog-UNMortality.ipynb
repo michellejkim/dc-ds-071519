{
 "cells": [
  {
   "cell_type": "code",
   "execution_count": 1,
   "metadata": {},
   "outputs": [],
   "source": [
    "import pandas as pd\n",
    "import matplotlib.pyplot as plt"
   ]
  },
  {
   "cell_type": "code",
   "execution_count": 2,
   "metadata": {},
   "outputs": [],
   "source": [
    "# Import UN Mortality Data\n",
    "mortality_url = 'UN_MortalityData.csv'\n",
    "mortality = pd.read_csv(mortality_url,\\\n",
    "                        skiprows = 1,\\\n",
    "                        encoding = 'ISO-8859-1')"
   ]
  },
  {
   "cell_type": "code",
   "execution_count": 3,
   "metadata": {},
   "outputs": [
    {
     "data": {
      "text/html": [
       "<div>\n",
       "<style scoped>\n",
       "    .dataframe tbody tr th:only-of-type {\n",
       "        vertical-align: middle;\n",
       "    }\n",
       "\n",
       "    .dataframe tbody tr th {\n",
       "        vertical-align: top;\n",
       "    }\n",
       "\n",
       "    .dataframe thead th {\n",
       "        text-align: right;\n",
       "    }\n",
       "</style>\n",
       "<table border=\"1\" class=\"dataframe\">\n",
       "  <thead>\n",
       "    <tr style=\"text-align: right;\">\n",
       "      <th></th>\n",
       "      <th>Region/Country/Area</th>\n",
       "      <th>Unnamed: 1</th>\n",
       "      <th>Year</th>\n",
       "      <th>Series</th>\n",
       "      <th>Value</th>\n",
       "      <th>Footnotes</th>\n",
       "      <th>Source</th>\n",
       "    </tr>\n",
       "  </thead>\n",
       "  <tbody>\n",
       "    <tr>\n",
       "      <th>0</th>\n",
       "      <td>1</td>\n",
       "      <td>Total, all countries or areas</td>\n",
       "      <td>2005</td>\n",
       "      <td>Population annual rate of increase (percent)</td>\n",
       "      <td>1.3</td>\n",
       "      <td>Data refers to a 5-year period preceding the r...</td>\n",
       "      <td>United Nations Population Division, New York, ...</td>\n",
       "    </tr>\n",
       "    <tr>\n",
       "      <th>1</th>\n",
       "      <td>1</td>\n",
       "      <td>Total, all countries or areas</td>\n",
       "      <td>2005</td>\n",
       "      <td>Total fertility rate (children per women)</td>\n",
       "      <td>2.6</td>\n",
       "      <td>Data refers to a 5-year period preceding the r...</td>\n",
       "      <td>United Nations Population Division, New York, ...</td>\n",
       "    </tr>\n",
       "    <tr>\n",
       "      <th>2</th>\n",
       "      <td>1</td>\n",
       "      <td>Total, all countries or areas</td>\n",
       "      <td>2005</td>\n",
       "      <td>Infant mortality for both sexes (per 1,000 liv...</td>\n",
       "      <td>49.1</td>\n",
       "      <td>Data refers to a 5-year period preceding the r...</td>\n",
       "      <td>United Nations Statistics Division, New York, ...</td>\n",
       "    </tr>\n",
       "    <tr>\n",
       "      <th>3</th>\n",
       "      <td>1</td>\n",
       "      <td>Total, all countries or areas</td>\n",
       "      <td>2005</td>\n",
       "      <td>Maternal mortality ratio (deaths per 100,000 p...</td>\n",
       "      <td>288</td>\n",
       "      <td>NaN</td>\n",
       "      <td>World Health Organization (WHO), the United Na...</td>\n",
       "    </tr>\n",
       "    <tr>\n",
       "      <th>4</th>\n",
       "      <td>1</td>\n",
       "      <td>Total, all countries or areas</td>\n",
       "      <td>2005</td>\n",
       "      <td>Life expectancy at birth for both sexes (years)</td>\n",
       "      <td>67.2</td>\n",
       "      <td>Data refers to a 5-year period preceding the r...</td>\n",
       "      <td>United Nations Population Division, New York, ...</td>\n",
       "    </tr>\n",
       "  </tbody>\n",
       "</table>\n",
       "</div>"
      ],
      "text/plain": [
       "   Region/Country/Area                     Unnamed: 1  Year  \\\n",
       "0                    1  Total, all countries or areas  2005   \n",
       "1                    1  Total, all countries or areas  2005   \n",
       "2                    1  Total, all countries or areas  2005   \n",
       "3                    1  Total, all countries or areas  2005   \n",
       "4                    1  Total, all countries or areas  2005   \n",
       "\n",
       "                                              Series Value  \\\n",
       "0       Population annual rate of increase (percent)   1.3   \n",
       "1          Total fertility rate (children per women)   2.6   \n",
       "2  Infant mortality for both sexes (per 1,000 liv...  49.1   \n",
       "3  Maternal mortality ratio (deaths per 100,000 p...   288   \n",
       "4    Life expectancy at birth for both sexes (years)  67.2   \n",
       "\n",
       "                                           Footnotes  \\\n",
       "0  Data refers to a 5-year period preceding the r...   \n",
       "1  Data refers to a 5-year period preceding the r...   \n",
       "2  Data refers to a 5-year period preceding the r...   \n",
       "3                                                NaN   \n",
       "4  Data refers to a 5-year period preceding the r...   \n",
       "\n",
       "                                              Source  \n",
       "0  United Nations Population Division, New York, ...  \n",
       "1  United Nations Population Division, New York, ...  \n",
       "2  United Nations Statistics Division, New York, ...  \n",
       "3  World Health Organization (WHO), the United Na...  \n",
       "4  United Nations Population Division, New York, ...  "
      ]
     },
     "execution_count": 3,
     "metadata": {},
     "output_type": "execute_result"
    }
   ],
   "source": [
    "mortality.head()"
   ]
  },
  {
   "cell_type": "markdown",
   "metadata": {},
   "source": [
    "It looks like there are two colums associated with Region/Country/Area, a Code and a Name. <br> Let's rename those columns."
   ]
  },
  {
   "cell_type": "code",
   "execution_count": 4,
   "metadata": {},
   "outputs": [],
   "source": [
    "# Rename columns\n",
    "new_columns_map = dict(zip(mortality.columns,\\\n",
    "                           ['RegionCode', 'RegionName',\\\n",
    "                            'Year', 'Series', 'Value',\\\n",
    "                            'Footnotes', 'Source']))\n",
    "mortality.rename(columns = new_columns_map, inplace = True)"
   ]
  },
  {
   "cell_type": "code",
   "execution_count": 5,
   "metadata": {},
   "outputs": [
    {
     "data": {
      "text/html": [
       "<div>\n",
       "<style scoped>\n",
       "    .dataframe tbody tr th:only-of-type {\n",
       "        vertical-align: middle;\n",
       "    }\n",
       "\n",
       "    .dataframe tbody tr th {\n",
       "        vertical-align: top;\n",
       "    }\n",
       "\n",
       "    .dataframe thead th {\n",
       "        text-align: right;\n",
       "    }\n",
       "</style>\n",
       "<table border=\"1\" class=\"dataframe\">\n",
       "  <thead>\n",
       "    <tr style=\"text-align: right;\">\n",
       "      <th></th>\n",
       "      <th>RegionCode</th>\n",
       "      <th>RegionName</th>\n",
       "      <th>Series</th>\n",
       "      <th>Value</th>\n",
       "      <th>Footnotes</th>\n",
       "      <th>Source</th>\n",
       "    </tr>\n",
       "    <tr>\n",
       "      <th>Year</th>\n",
       "      <th></th>\n",
       "      <th></th>\n",
       "      <th></th>\n",
       "      <th></th>\n",
       "      <th></th>\n",
       "      <th></th>\n",
       "    </tr>\n",
       "  </thead>\n",
       "  <tbody>\n",
       "    <tr>\n",
       "      <th>2000</th>\n",
       "      <td>15</td>\n",
       "      <td>15</td>\n",
       "      <td>15</td>\n",
       "      <td>15</td>\n",
       "      <td>4</td>\n",
       "      <td>15</td>\n",
       "    </tr>\n",
       "    <tr>\n",
       "      <th>2001</th>\n",
       "      <td>8</td>\n",
       "      <td>8</td>\n",
       "      <td>8</td>\n",
       "      <td>8</td>\n",
       "      <td>0</td>\n",
       "      <td>8</td>\n",
       "    </tr>\n",
       "    <tr>\n",
       "      <th>2002</th>\n",
       "      <td>3</td>\n",
       "      <td>3</td>\n",
       "      <td>3</td>\n",
       "      <td>3</td>\n",
       "      <td>0</td>\n",
       "      <td>3</td>\n",
       "    </tr>\n",
       "    <tr>\n",
       "      <th>2003</th>\n",
       "      <td>2</td>\n",
       "      <td>2</td>\n",
       "      <td>2</td>\n",
       "      <td>2</td>\n",
       "      <td>0</td>\n",
       "      <td>2</td>\n",
       "    </tr>\n",
       "    <tr>\n",
       "      <th>2004</th>\n",
       "      <td>11</td>\n",
       "      <td>11</td>\n",
       "      <td>11</td>\n",
       "      <td>11</td>\n",
       "      <td>3</td>\n",
       "      <td>11</td>\n",
       "    </tr>\n",
       "    <tr>\n",
       "      <th>2005</th>\n",
       "      <td>1618</td>\n",
       "      <td>1618</td>\n",
       "      <td>1618</td>\n",
       "      <td>1618</td>\n",
       "      <td>1422</td>\n",
       "      <td>1618</td>\n",
       "    </tr>\n",
       "    <tr>\n",
       "      <th>2006</th>\n",
       "      <td>9</td>\n",
       "      <td>9</td>\n",
       "      <td>9</td>\n",
       "      <td>9</td>\n",
       "      <td>2</td>\n",
       "      <td>9</td>\n",
       "    </tr>\n",
       "    <tr>\n",
       "      <th>2007</th>\n",
       "      <td>4</td>\n",
       "      <td>4</td>\n",
       "      <td>4</td>\n",
       "      <td>4</td>\n",
       "      <td>3</td>\n",
       "      <td>4</td>\n",
       "    </tr>\n",
       "    <tr>\n",
       "      <th>2008</th>\n",
       "      <td>6</td>\n",
       "      <td>6</td>\n",
       "      <td>6</td>\n",
       "      <td>6</td>\n",
       "      <td>1</td>\n",
       "      <td>6</td>\n",
       "    </tr>\n",
       "    <tr>\n",
       "      <th>2009</th>\n",
       "      <td>3</td>\n",
       "      <td>3</td>\n",
       "      <td>3</td>\n",
       "      <td>3</td>\n",
       "      <td>0</td>\n",
       "      <td>3</td>\n",
       "    </tr>\n",
       "    <tr>\n",
       "      <th>2010</th>\n",
       "      <td>1626</td>\n",
       "      <td>1626</td>\n",
       "      <td>1626</td>\n",
       "      <td>1626</td>\n",
       "      <td>1426</td>\n",
       "      <td>1626</td>\n",
       "    </tr>\n",
       "    <tr>\n",
       "      <th>2011</th>\n",
       "      <td>13</td>\n",
       "      <td>13</td>\n",
       "      <td>13</td>\n",
       "      <td>13</td>\n",
       "      <td>8</td>\n",
       "      <td>13</td>\n",
       "    </tr>\n",
       "    <tr>\n",
       "      <th>2012</th>\n",
       "      <td>11</td>\n",
       "      <td>11</td>\n",
       "      <td>11</td>\n",
       "      <td>11</td>\n",
       "      <td>4</td>\n",
       "      <td>11</td>\n",
       "    </tr>\n",
       "    <tr>\n",
       "      <th>2013</th>\n",
       "      <td>19</td>\n",
       "      <td>19</td>\n",
       "      <td>19</td>\n",
       "      <td>19</td>\n",
       "      <td>13</td>\n",
       "      <td>19</td>\n",
       "    </tr>\n",
       "    <tr>\n",
       "      <th>2014</th>\n",
       "      <td>3</td>\n",
       "      <td>3</td>\n",
       "      <td>3</td>\n",
       "      <td>3</td>\n",
       "      <td>2</td>\n",
       "      <td>3</td>\n",
       "    </tr>\n",
       "    <tr>\n",
       "      <th>2015</th>\n",
       "      <td>1620</td>\n",
       "      <td>1620</td>\n",
       "      <td>1620</td>\n",
       "      <td>1620</td>\n",
       "      <td>1427</td>\n",
       "      <td>1620</td>\n",
       "    </tr>\n",
       "    <tr>\n",
       "      <th>2016</th>\n",
       "      <td>7</td>\n",
       "      <td>7</td>\n",
       "      <td>7</td>\n",
       "      <td>7</td>\n",
       "      <td>4</td>\n",
       "      <td>7</td>\n",
       "    </tr>\n",
       "  </tbody>\n",
       "</table>\n",
       "</div>"
      ],
      "text/plain": [
       "      RegionCode  RegionName  Series  Value  Footnotes  Source\n",
       "Year                                                          \n",
       "2000          15          15      15     15          4      15\n",
       "2001           8           8       8      8          0       8\n",
       "2002           3           3       3      3          0       3\n",
       "2003           2           2       2      2          0       2\n",
       "2004          11          11      11     11          3      11\n",
       "2005        1618        1618    1618   1618       1422    1618\n",
       "2006           9           9       9      9          2       9\n",
       "2007           4           4       4      4          3       4\n",
       "2008           6           6       6      6          1       6\n",
       "2009           3           3       3      3          0       3\n",
       "2010        1626        1626    1626   1626       1426    1626\n",
       "2011          13          13      13     13          8      13\n",
       "2012          11          11      11     11          4      11\n",
       "2013          19          19      19     19         13      19\n",
       "2014           3           3       3      3          2       3\n",
       "2015        1620        1620    1620   1620       1427    1620\n",
       "2016           7           7       7      7          4       7"
      ]
     },
     "execution_count": 5,
     "metadata": {},
     "output_type": "execute_result"
    }
   ],
   "source": [
    "mortality.groupby('Year').count()"
   ]
  },
  {
   "cell_type": "markdown",
   "metadata": {},
   "source": [
    "It also looks like the vast majority of the countries reporting only do so every 5 years. <br>\n",
    "I will just take those data to paint broader strokes."
   ]
  },
  {
   "cell_type": "code",
   "execution_count": 6,
   "metadata": {},
   "outputs": [],
   "source": [
    "mortalityTrends  = mortality.loc[(mortality.Year == 2005 ) | (mortality.Year == 2010) | (mortality.Year == 2015)]"
   ]
  },
  {
   "cell_type": "markdown",
   "metadata": {},
   "source": [
    "I want to plot global trends over this 15 year time span. <br> \n",
    "Looks like there is conveniently an instance of RegionName that are the Total Global values."
   ]
  },
  {
   "cell_type": "code",
   "execution_count": 7,
   "metadata": {},
   "outputs": [],
   "source": [
    "global_mortality_trends = mortalityTrends[mortalityTrends['RegionName']\\\n",
    "                                          == 'Total, all countries or areas']"
   ]
  },
  {
   "cell_type": "markdown",
   "metadata": {},
   "source": [
    "What kind of data do we have available?"
   ]
  },
  {
   "cell_type": "code",
   "execution_count": 8,
   "metadata": {},
   "outputs": [
    {
     "data": {
      "text/plain": [
       "Life expectancy at birth for males (years)                  3\n",
       "Infant mortality for both sexes (per 1,000 live births)     3\n",
       "Maternal mortality ratio (deaths per 100,000 population)    3\n",
       "Life expectancy at birth for females (years)                3\n",
       "Total fertility rate (children per women)                   3\n",
       "Life expectancy at birth for both sexes (years)             3\n",
       "Population annual rate of increase (percent)                3\n",
       "Name: Series, dtype: int64"
      ]
     },
     "execution_count": 8,
     "metadata": {},
     "output_type": "execute_result"
    }
   ],
   "source": [
    "global_mortality_trends.Series.value_counts()"
   ]
  },
  {
   "cell_type": "code",
   "execution_count": 9,
   "metadata": {},
   "outputs": [
    {
     "name": "stdout",
     "output_type": "stream",
     "text": [
      "2     2005\n",
      "9     2010\n",
      "16    2015\n",
      "Name: Year, dtype: int64\n",
      "2     49.1\n",
      "9     41.3\n",
      "16      35\n",
      "Name: Value, dtype: object\n"
     ]
    }
   ],
   "source": [
    "infant_years = global_mortality_trends.Year.loc[global_mortality_trends.Series\\\n",
    "                            == 'Infant mortality for both sexes (per 1,000 live births)']\n",
    "infant_values = global_mortality_trends.Value.loc[global_mortality_trends.Series\\\n",
    "                            == 'Infant mortality for both sexes (per 1,000 live births)']\n",
    "print(infant_years)\n",
    "print(infant_values)"
   ]
  },
  {
   "cell_type": "markdown",
   "metadata": {},
   "source": [
    "Okay, looks like \"Values\" is not numeric. We need to change these element by element."
   ]
  },
  {
   "cell_type": "code",
   "execution_count": 10,
   "metadata": {},
   "outputs": [],
   "source": [
    "infant_values = infant_values.map(float)"
   ]
  },
  {
   "cell_type": "code",
   "execution_count": 11,
   "metadata": {},
   "outputs": [
    {
     "data": {
      "image/png": "[encoded data removed]",
      "text/plain": [
       "<Figure size 432x288 with 1 Axes>"
      ]
     },
     "metadata": {
      "needs_background": "light"
     },
     "output_type": "display_data"
    }
   ],
   "source": [
    "fig = plt.subplot()\n",
    "\n",
    "plt.plot(infant_years, infant_values)\n",
    "plt.scatter(infant_years, infant_values)\n",
    "plt.title('Infant Mortality')\n",
    "plt.xlabel('Year')\n",
    "plt.ylabel('Deaths per 1000 live births')\n",
    "plt.ylim((0,max(infant_values)*1.2))\n",
    "plt.show()"
   ]
  },
  {
   "cell_type": "markdown",
   "metadata": {},
   "source": [
    "Let's look at maternal mortality too."
   ]
  },
  {
   "cell_type": "code",
   "execution_count": 12,
   "metadata": {},
   "outputs": [],
   "source": [
    "maternal_years = global_mortality_trends.Year.loc[global_mortality_trends.Series\\\n",
    "                            == 'Maternal mortality ratio (deaths per 100,000 population)']\n",
    "maternal_values = global_mortality_trends.Value.loc[global_mortality_trends.Series\\\n",
    "                            == 'Maternal mortality ratio (deaths per 100,000 population)']\n",
    "maternal_values = maternal_values.map(float)"
   ]
  },
  {
   "cell_type": "code",
   "execution_count": 13,
   "metadata": {},
   "outputs": [
    {
     "data": {
      "image/png": "[encoded data removed]",
      "text/plain": [
       "<Figure size 432x288 with 1 Axes>"
      ]
     },
     "metadata": {
      "needs_background": "light"
     },
     "output_type": "display_data"
    }
   ],
   "source": [
    "fig = plt.subplot()\n",
    "\n",
    "plt.plot(maternal_years, maternal_values)\n",
    "plt.scatter(maternal_years, maternal_values)\n",
    "plt.title('Maternal Mortality')\n",
    "plt.xlabel('Year')\n",
    "plt.ylabel('Deaths per 1000 live births')\n",
    "plt.ylim((0,max(maternal_values)*1.2))\n",
    "plt.show()"
   ]
  },
  {
   "cell_type": "code",
   "execution_count": null,
   "metadata": {},
   "outputs": [],
   "source": []
  }
 ],
 "metadata": {
  "kernelspec": {
   "display_name": "Python 3",
   "language": "python",
   "name": "python3"
  },
  "language_info": {
   "codemirror_mode": {
    "name": "ipython",
    "version": 3
   },
   "file_extension": ".py",
   "mimetype": "text/x-python",
   "name": "python",
   "nbconvert_exporter": "python",
   "pygments_lexer": "ipython3",
   "version": "3.7.3"
  }
 },
 "nbformat": 4,
 "nbformat_minor": 2
}
