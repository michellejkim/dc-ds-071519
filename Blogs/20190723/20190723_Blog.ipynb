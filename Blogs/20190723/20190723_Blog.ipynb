{
 "cells": [
  {
   "cell_type": "code",
   "execution_count": 1,
   "metadata": {},
   "outputs": [],
   "source": [
    "import pandas as pd\n",
    "import matplotlib.pyplot as plt"
   ]
  },
  {
   "cell_type": "markdown",
   "metadata": {},
   "source": [
    "### The Keeling Curve, Mona Loa, Scripps Institution of Oceanography\n",
    "Data Source: http://scrippsco2.ucsd.edu/data/atmospheric_co2/primary_mlo_co2_record"
   ]
  },
  {
   "cell_type": "code",
   "execution_count": 2,
   "metadata": {
    "scrolled": true
   },
   "outputs": [
    {
     "ename": "ParserError",
     "evalue": "Error tokenizing data. C error: Expected 1 fields in line 33, saw 4\n",
     "output_type": "error",
     "traceback": [
      "\u001b[1;31m---------------------------------------------------------------------------\u001b[0m",
      "\u001b[1;31mParserError\u001b[0m                               Traceback (most recent call last)",
      "\u001b[1;32m<ipython-input-2-359c6dc89f44>\u001b[0m in \u001b[0;36m<module>\u001b[1;34m\u001b[0m\n\u001b[0;32m      1\u001b[0m \u001b[0mco2_url\u001b[0m \u001b[1;33m=\u001b[0m \u001b[1;34m'http://scrippsco2.ucsd.edu/assets/data/atmospheric/stations/in_situ_co2/monthly/monthly_in_situ_co2_mlo.csv'\u001b[0m\u001b[1;33m\u001b[0m\u001b[1;33m\u001b[0m\u001b[0m\n\u001b[1;32m----> 2\u001b[1;33m \u001b[0mco2\u001b[0m \u001b[1;33m=\u001b[0m \u001b[0mpd\u001b[0m\u001b[1;33m.\u001b[0m\u001b[0mread_csv\u001b[0m\u001b[1;33m(\u001b[0m\u001b[0mco2_url\u001b[0m\u001b[1;33m)\u001b[0m\u001b[1;33m\u001b[0m\u001b[1;33m\u001b[0m\u001b[0m\n\u001b[0m\u001b[0;32m      3\u001b[0m \u001b[0mco2\u001b[0m\u001b[1;33m.\u001b[0m\u001b[0mhead\u001b[0m\u001b[1;33m(\u001b[0m\u001b[1;33m)\u001b[0m\u001b[1;33m\u001b[0m\u001b[1;33m\u001b[0m\u001b[0m\n",
      "\u001b[1;32m~\\Anaconda3\\lib\\site-packages\\pandas\\io\\parsers.py\u001b[0m in \u001b[0;36mparser_f\u001b[1;34m(filepath_or_buffer, sep, delimiter, header, names, index_col, usecols, squeeze, prefix, mangle_dupe_cols, dtype, engine, converters, true_values, false_values, skipinitialspace, skiprows, skipfooter, nrows, na_values, keep_default_na, na_filter, verbose, skip_blank_lines, parse_dates, infer_datetime_format, keep_date_col, date_parser, dayfirst, iterator, chunksize, compression, thousands, decimal, lineterminator, quotechar, quoting, doublequote, escapechar, comment, encoding, dialect, tupleize_cols, error_bad_lines, warn_bad_lines, delim_whitespace, low_memory, memory_map, float_precision)\u001b[0m\n\u001b[0;32m    700\u001b[0m                     skip_blank_lines=skip_blank_lines)\n\u001b[0;32m    701\u001b[0m \u001b[1;33m\u001b[0m\u001b[0m\n\u001b[1;32m--> 702\u001b[1;33m         \u001b[1;32mreturn\u001b[0m \u001b[0m_read\u001b[0m\u001b[1;33m(\u001b[0m\u001b[0mfilepath_or_buffer\u001b[0m\u001b[1;33m,\u001b[0m \u001b[0mkwds\u001b[0m\u001b[1;33m)\u001b[0m\u001b[1;33m\u001b[0m\u001b[1;33m\u001b[0m\u001b[0m\n\u001b[0m\u001b[0;32m    703\u001b[0m \u001b[1;33m\u001b[0m\u001b[0m\n\u001b[0;32m    704\u001b[0m     \u001b[0mparser_f\u001b[0m\u001b[1;33m.\u001b[0m\u001b[0m__name__\u001b[0m \u001b[1;33m=\u001b[0m \u001b[0mname\u001b[0m\u001b[1;33m\u001b[0m\u001b[1;33m\u001b[0m\u001b[0m\n",
      "\u001b[1;32m~\\Anaconda3\\lib\\site-packages\\pandas\\io\\parsers.py\u001b[0m in \u001b[0;36m_read\u001b[1;34m(filepath_or_buffer, kwds)\u001b[0m\n\u001b[0;32m    433\u001b[0m \u001b[1;33m\u001b[0m\u001b[0m\n\u001b[0;32m    434\u001b[0m     \u001b[1;32mtry\u001b[0m\u001b[1;33m:\u001b[0m\u001b[1;33m\u001b[0m\u001b[1;33m\u001b[0m\u001b[0m\n\u001b[1;32m--> 435\u001b[1;33m         \u001b[0mdata\u001b[0m \u001b[1;33m=\u001b[0m \u001b[0mparser\u001b[0m\u001b[1;33m.\u001b[0m\u001b[0mread\u001b[0m\u001b[1;33m(\u001b[0m\u001b[0mnrows\u001b[0m\u001b[1;33m)\u001b[0m\u001b[1;33m\u001b[0m\u001b[1;33m\u001b[0m\u001b[0m\n\u001b[0m\u001b[0;32m    436\u001b[0m     \u001b[1;32mfinally\u001b[0m\u001b[1;33m:\u001b[0m\u001b[1;33m\u001b[0m\u001b[1;33m\u001b[0m\u001b[0m\n\u001b[0;32m    437\u001b[0m         \u001b[0mparser\u001b[0m\u001b[1;33m.\u001b[0m\u001b[0mclose\u001b[0m\u001b[1;33m(\u001b[0m\u001b[1;33m)\u001b[0m\u001b[1;33m\u001b[0m\u001b[1;33m\u001b[0m\u001b[0m\n",
      "\u001b[1;32m~\\Anaconda3\\lib\\site-packages\\pandas\\io\\parsers.py\u001b[0m in \u001b[0;36mread\u001b[1;34m(self, nrows)\u001b[0m\n\u001b[0;32m   1137\u001b[0m     \u001b[1;32mdef\u001b[0m \u001b[0mread\u001b[0m\u001b[1;33m(\u001b[0m\u001b[0mself\u001b[0m\u001b[1;33m,\u001b[0m \u001b[0mnrows\u001b[0m\u001b[1;33m=\u001b[0m\u001b[1;32mNone\u001b[0m\u001b[1;33m)\u001b[0m\u001b[1;33m:\u001b[0m\u001b[1;33m\u001b[0m\u001b[1;33m\u001b[0m\u001b[0m\n\u001b[0;32m   1138\u001b[0m         \u001b[0mnrows\u001b[0m \u001b[1;33m=\u001b[0m \u001b[0m_validate_integer\u001b[0m\u001b[1;33m(\u001b[0m\u001b[1;34m'nrows'\u001b[0m\u001b[1;33m,\u001b[0m \u001b[0mnrows\u001b[0m\u001b[1;33m)\u001b[0m\u001b[1;33m\u001b[0m\u001b[1;33m\u001b[0m\u001b[0m\n\u001b[1;32m-> 1139\u001b[1;33m         \u001b[0mret\u001b[0m \u001b[1;33m=\u001b[0m \u001b[0mself\u001b[0m\u001b[1;33m.\u001b[0m\u001b[0m_engine\u001b[0m\u001b[1;33m.\u001b[0m\u001b[0mread\u001b[0m\u001b[1;33m(\u001b[0m\u001b[0mnrows\u001b[0m\u001b[1;33m)\u001b[0m\u001b[1;33m\u001b[0m\u001b[1;33m\u001b[0m\u001b[0m\n\u001b[0m\u001b[0;32m   1140\u001b[0m \u001b[1;33m\u001b[0m\u001b[0m\n\u001b[0;32m   1141\u001b[0m         \u001b[1;31m# May alter columns / col_dict\u001b[0m\u001b[1;33m\u001b[0m\u001b[1;33m\u001b[0m\u001b[1;33m\u001b[0m\u001b[0m\n",
      "\u001b[1;32m~\\Anaconda3\\lib\\site-packages\\pandas\\io\\parsers.py\u001b[0m in \u001b[0;36mread\u001b[1;34m(self, nrows)\u001b[0m\n\u001b[0;32m   1993\u001b[0m     \u001b[1;32mdef\u001b[0m \u001b[0mread\u001b[0m\u001b[1;33m(\u001b[0m\u001b[0mself\u001b[0m\u001b[1;33m,\u001b[0m \u001b[0mnrows\u001b[0m\u001b[1;33m=\u001b[0m\u001b[1;32mNone\u001b[0m\u001b[1;33m)\u001b[0m\u001b[1;33m:\u001b[0m\u001b[1;33m\u001b[0m\u001b[1;33m\u001b[0m\u001b[0m\n\u001b[0;32m   1994\u001b[0m         \u001b[1;32mtry\u001b[0m\u001b[1;33m:\u001b[0m\u001b[1;33m\u001b[0m\u001b[1;33m\u001b[0m\u001b[0m\n\u001b[1;32m-> 1995\u001b[1;33m             \u001b[0mdata\u001b[0m \u001b[1;33m=\u001b[0m \u001b[0mself\u001b[0m\u001b[1;33m.\u001b[0m\u001b[0m_reader\u001b[0m\u001b[1;33m.\u001b[0m\u001b[0mread\u001b[0m\u001b[1;33m(\u001b[0m\u001b[0mnrows\u001b[0m\u001b[1;33m)\u001b[0m\u001b[1;33m\u001b[0m\u001b[1;33m\u001b[0m\u001b[0m\n\u001b[0m\u001b[0;32m   1996\u001b[0m         \u001b[1;32mexcept\u001b[0m \u001b[0mStopIteration\u001b[0m\u001b[1;33m:\u001b[0m\u001b[1;33m\u001b[0m\u001b[1;33m\u001b[0m\u001b[0m\n\u001b[0;32m   1997\u001b[0m             \u001b[1;32mif\u001b[0m \u001b[0mself\u001b[0m\u001b[1;33m.\u001b[0m\u001b[0m_first_chunk\u001b[0m\u001b[1;33m:\u001b[0m\u001b[1;33m\u001b[0m\u001b[1;33m\u001b[0m\u001b[0m\n",
      "\u001b[1;32mpandas/_libs/parsers.pyx\u001b[0m in \u001b[0;36mpandas._libs.parsers.TextReader.read\u001b[1;34m()\u001b[0m\n",
      "\u001b[1;32mpandas/_libs/parsers.pyx\u001b[0m in \u001b[0;36mpandas._libs.parsers.TextReader._read_low_memory\u001b[1;34m()\u001b[0m\n",
      "\u001b[1;32mpandas/_libs/parsers.pyx\u001b[0m in \u001b[0;36mpandas._libs.parsers.TextReader._read_rows\u001b[1;34m()\u001b[0m\n",
      "\u001b[1;32mpandas/_libs/parsers.pyx\u001b[0m in \u001b[0;36mpandas._libs.parsers.TextReader._tokenize_rows\u001b[1;34m()\u001b[0m\n",
      "\u001b[1;32mpandas/_libs/parsers.pyx\u001b[0m in \u001b[0;36mpandas._libs.parsers.raise_parser_error\u001b[1;34m()\u001b[0m\n",
      "\u001b[1;31mParserError\u001b[0m: Error tokenizing data. C error: Expected 1 fields in line 33, saw 4\n"
     ]
    }
   ],
   "source": [
    "co2_url = 'http://scrippsco2.ucsd.edu/assets/data/atmospheric/stations/in_situ_co2/monthly/monthly_in_situ_co2_mlo.csv'\n",
    "co2 = pd.read_csv(co2_url)\n",
    "co2.head()"
   ]
  },
  {
   "cell_type": "markdown",
   "metadata": {},
   "source": [
    "**Insider tip:** Scientists have a penchant for very long headers. Theoretically anyone who looks at the file should be able to understands how the data were generated, its limitations, and other metadata. They also love -99.99 as a NaN value (or similar variations).\n",
    "\n",
    "Looking at the error message, I manually adjusted the header information and look for changes in expected fields (i.e. the width). Eventually I confirmed there was a 56 row header!"
   ]
  },
  {
   "cell_type": "code",
   "execution_count": 4,
   "metadata": {
    "scrolled": false
   },
   "outputs": [
    {
     "data": {
      "text/html": [
       "<div>\n",
       "<style scoped>\n",
       "    .dataframe tbody tr th:only-of-type {\n",
       "        vertical-align: middle;\n",
       "    }\n",
       "\n",
       "    .dataframe tbody tr th {\n",
       "        vertical-align: top;\n",
       "    }\n",
       "\n",
       "    .dataframe thead th {\n",
       "        text-align: right;\n",
       "    }\n",
       "</style>\n",
       "<table border=\"1\" class=\"dataframe\">\n",
       "  <thead>\n",
       "    <tr style=\"text-align: right;\">\n",
       "      <th></th>\n",
       "      <th>Year</th>\n",
       "      <th>Month</th>\n",
       "      <th>ExcelDate</th>\n",
       "      <th>DateYears</th>\n",
       "      <th>CO2ppm</th>\n",
       "      <th>CO2ppmSeasonAdj</th>\n",
       "      <th>fit</th>\n",
       "      <th>CO2ppmSeasonAdjFit</th>\n",
       "      <th>CO2ppmFilled</th>\n",
       "      <th>CO2ppmSeasonAdjFilled</th>\n",
       "    </tr>\n",
       "  </thead>\n",
       "  <tbody>\n",
       "    <tr>\n",
       "      <th>0</th>\n",
       "      <td>1958</td>\n",
       "      <td>1</td>\n",
       "      <td>21200</td>\n",
       "      <td>1958.0411</td>\n",
       "      <td>NaN</td>\n",
       "      <td>NaN</td>\n",
       "      <td>NaN</td>\n",
       "      <td>NaN</td>\n",
       "      <td>NaN</td>\n",
       "      <td>NaN</td>\n",
       "    </tr>\n",
       "    <tr>\n",
       "      <th>1</th>\n",
       "      <td>1958</td>\n",
       "      <td>2</td>\n",
       "      <td>21231</td>\n",
       "      <td>1958.1260</td>\n",
       "      <td>NaN</td>\n",
       "      <td>NaN</td>\n",
       "      <td>NaN</td>\n",
       "      <td>NaN</td>\n",
       "      <td>NaN</td>\n",
       "      <td>NaN</td>\n",
       "    </tr>\n",
       "    <tr>\n",
       "      <th>2</th>\n",
       "      <td>1958</td>\n",
       "      <td>3</td>\n",
       "      <td>21259</td>\n",
       "      <td>1958.2027</td>\n",
       "      <td>315.70</td>\n",
       "      <td>314.43</td>\n",
       "      <td>316.19</td>\n",
       "      <td>314.90</td>\n",
       "      <td>315.70</td>\n",
       "      <td>314.43</td>\n",
       "    </tr>\n",
       "    <tr>\n",
       "      <th>3</th>\n",
       "      <td>1958</td>\n",
       "      <td>4</td>\n",
       "      <td>21290</td>\n",
       "      <td>1958.2877</td>\n",
       "      <td>317.45</td>\n",
       "      <td>315.16</td>\n",
       "      <td>317.30</td>\n",
       "      <td>314.98</td>\n",
       "      <td>317.45</td>\n",
       "      <td>315.16</td>\n",
       "    </tr>\n",
       "    <tr>\n",
       "      <th>4</th>\n",
       "      <td>1958</td>\n",
       "      <td>5</td>\n",
       "      <td>21320</td>\n",
       "      <td>1958.3699</td>\n",
       "      <td>317.51</td>\n",
       "      <td>314.71</td>\n",
       "      <td>317.86</td>\n",
       "      <td>315.06</td>\n",
       "      <td>317.51</td>\n",
       "      <td>314.71</td>\n",
       "    </tr>\n",
       "  </tbody>\n",
       "</table>\n",
       "</div>"
      ],
      "text/plain": [
       "   Year  Month  ExcelDate  DateYears  CO2ppm  CO2ppmSeasonAdj     fit  \\\n",
       "0  1958      1      21200  1958.0411     NaN              NaN     NaN   \n",
       "1  1958      2      21231  1958.1260     NaN              NaN     NaN   \n",
       "2  1958      3      21259  1958.2027  315.70           314.43  316.19   \n",
       "3  1958      4      21290  1958.2877  317.45           315.16  317.30   \n",
       "4  1958      5      21320  1958.3699  317.51           314.71  317.86   \n",
       "\n",
       "   CO2ppmSeasonAdjFit  CO2ppmFilled  CO2ppmSeasonAdjFilled  \n",
       "0                 NaN           NaN                    NaN  \n",
       "1                 NaN           NaN                    NaN  \n",
       "2              314.90        315.70                 314.43  \n",
       "3              314.98        317.45                 315.16  \n",
       "4              315.06        317.51                 314.71  "
      ]
     },
     "execution_count": 4,
     "metadata": {},
     "output_type": "execute_result"
    }
   ],
   "source": [
    "co2 = pd.read_csv(co2_url,skiprows=57, na_values=-99.99,\n",
    "                  names=['Year','Month','ExcelDate','DateYears','CO2ppm','CO2ppmSeasonAdj',\\\n",
    "                         'fit','CO2ppmSeasonAdjFit','CO2ppmFilled','CO2ppmSeasonAdjFilled'])\n",
    "co2.head()"
   ]
  },
  {
   "cell_type": "code",
   "execution_count": 13,
   "metadata": {},
   "outputs": [
    {
     "data": {
      "image/png": "[encoded data removed]",
      "text/plain": [
       "<Figure size 432x288 with 1 Axes>"
      ]
     },
     "metadata": {
      "needs_background": "light"
     },
     "output_type": "display_data"
    }
   ],
   "source": [
    "plt.plot(co2.DateYears,co2.CO2ppm)\n",
    "plt.title('The Keeling Curve - Background ' + '$CO_2$' + ' (ppm)')\n",
    "plt.xlabel('Years')\n",
    "plt.ylabel('$CO_2$' + '(ppm)')\n",
    "plt.show()"
   ]
  },
  {
   "cell_type": "markdown",
   "metadata": {},
   "source": [
    "Appropos of nothing, how are we doing on renewable energy? Let's look at some wind power capacity data."
   ]
  },
  {
   "cell_type": "code",
   "execution_count": 298,
   "metadata": {
    "scrolled": true
   },
   "outputs": [],
   "source": [
    "wind_url = './result.csv'\n",
    "wind = pd.read_csv('result.csv')\n",
    "# https://openei.org/wiki/Map_of_Wind_Farms/Data"
   ]
  },
  {
   "cell_type": "code",
   "execution_count": 299,
   "metadata": {
    "scrolled": true
   },
   "outputs": [
    {
     "data": {
      "text/html": [
       "<div>\n",
       "<style scoped>\n",
       "    .dataframe tbody tr th:only-of-type {\n",
       "        vertical-align: middle;\n",
       "    }\n",
       "\n",
       "    .dataframe tbody tr th {\n",
       "        vertical-align: top;\n",
       "    }\n",
       "\n",
       "    .dataframe thead th {\n",
       "        text-align: right;\n",
       "    }\n",
       "</style>\n",
       "<table border=\"1\" class=\"dataframe\">\n",
       "  <thead>\n",
       "    <tr style=\"text-align: right;\">\n",
       "      <th></th>\n",
       "      <th>Facility Name</th>\n",
       "      <th>Facility</th>\n",
       "      <th>FacilityType</th>\n",
       "      <th>Owner</th>\n",
       "      <th>Developer</th>\n",
       "      <th>EnergyPurchaser</th>\n",
       "      <th>Place</th>\n",
       "      <th>GeneratingCapacity</th>\n",
       "      <th>NumberOfUnits</th>\n",
       "      <th>CommercialOnlineDate</th>\n",
       "      <th>WindTurbineManufacturer</th>\n",
       "      <th>FacilityStatus</th>\n",
       "      <th>Coordinates</th>\n",
       "    </tr>\n",
       "  </thead>\n",
       "  <tbody>\n",
       "    <tr>\n",
       "      <th>0</th>\n",
       "      <td>251 Wind</td>\n",
       "      <td>251 Wind</td>\n",
       "      <td>NaN</td>\n",
       "      <td>NaN</td>\n",
       "      <td>NaN</td>\n",
       "      <td>NaN</td>\n",
       "      <td>Kern County, CA</td>\n",
       "      <td>18.43 MW</td>\n",
       "      <td>194.0</td>\n",
       "      <td>1987.0</td>\n",
       "      <td>Vestas</td>\n",
       "      <td>NaN</td>\n",
       "      <td>35.0861°, -118.3533°</td>\n",
       "    </tr>\n",
       "    <tr>\n",
       "      <th>1</th>\n",
       "      <td>3-D Metals</td>\n",
       "      <td>3-D Metals</td>\n",
       "      <td>Definition:Small Scale Wind</td>\n",
       "      <td>NaN</td>\n",
       "      <td>NaN</td>\n",
       "      <td>NaN</td>\n",
       "      <td>Valley City OH</td>\n",
       "      <td>0.1 MW</td>\n",
       "      <td>1.0</td>\n",
       "      <td>2009.0</td>\n",
       "      <td>Northern Power Systems</td>\n",
       "      <td>In Service</td>\n",
       "      <td>41.2481°, -81.8831°</td>\n",
       "    </tr>\n",
       "    <tr>\n",
       "      <th>2</th>\n",
       "      <td>30 MW Iowa DG Portfolio</td>\n",
       "      <td>30 MW Iowa DG Portfolio</td>\n",
       "      <td>NaN</td>\n",
       "      <td>NaN</td>\n",
       "      <td>NaN</td>\n",
       "      <td>NaN</td>\n",
       "      <td>Story County, IA</td>\n",
       "      <td>30 MW</td>\n",
       "      <td>10.0</td>\n",
       "      <td>2017.0</td>\n",
       "      <td>Nordex</td>\n",
       "      <td>NaN</td>\n",
       "      <td>42.0136°, -93.5181°</td>\n",
       "    </tr>\n",
       "    <tr>\n",
       "      <th>3</th>\n",
       "      <td>6th Space Warning Squadron</td>\n",
       "      <td>6th Space Warning Squadron</td>\n",
       "      <td>NaN</td>\n",
       "      <td>NaN</td>\n",
       "      <td>NaN</td>\n",
       "      <td>NaN</td>\n",
       "      <td>Barnstable County, MA</td>\n",
       "      <td>3.36 MW</td>\n",
       "      <td>2.0</td>\n",
       "      <td>2013.0</td>\n",
       "      <td>GE Wind</td>\n",
       "      <td>NaN</td>\n",
       "      <td>41.7525°, -70.5417°</td>\n",
       "    </tr>\n",
       "    <tr>\n",
       "      <th>4</th>\n",
       "      <td>AB Tehachapi Wind Farm</td>\n",
       "      <td>AB Tehachapi</td>\n",
       "      <td>Commercial Scale Wind</td>\n",
       "      <td>Coram Energy</td>\n",
       "      <td>AB Energy</td>\n",
       "      <td>Southern California Edison Co</td>\n",
       "      <td>Tehachapi, California</td>\n",
       "      <td>6.97 MW</td>\n",
       "      <td>31.0</td>\n",
       "      <td>1992.0</td>\n",
       "      <td>Vestas</td>\n",
       "      <td>In Service</td>\n",
       "      <td>35.0533°, -118.2686°</td>\n",
       "    </tr>\n",
       "  </tbody>\n",
       "</table>\n",
       "</div>"
      ],
      "text/plain": [
       "                Facility Name                    Facility  \\\n",
       "0                    251 Wind                    251 Wind   \n",
       "1                  3-D Metals                  3-D Metals   \n",
       "2     30 MW Iowa DG Portfolio     30 MW Iowa DG Portfolio   \n",
       "3  6th Space Warning Squadron  6th Space Warning Squadron   \n",
       "4      AB Tehachapi Wind Farm                AB Tehachapi   \n",
       "\n",
       "                  FacilityType         Owner  Developer  \\\n",
       "0                          NaN           NaN        NaN   \n",
       "1  Definition:Small Scale Wind           NaN        NaN   \n",
       "2                          NaN           NaN        NaN   \n",
       "3                          NaN           NaN        NaN   \n",
       "4        Commercial Scale Wind  Coram Energy  AB Energy   \n",
       "\n",
       "                 EnergyPurchaser                  Place GeneratingCapacity  \\\n",
       "0                            NaN        Kern County, CA           18.43 MW   \n",
       "1                            NaN         Valley City OH             0.1 MW   \n",
       "2                            NaN       Story County, IA              30 MW   \n",
       "3                            NaN  Barnstable County, MA            3.36 MW   \n",
       "4  Southern California Edison Co  Tehachapi, California            6.97 MW   \n",
       "\n",
       "   NumberOfUnits  CommercialOnlineDate WindTurbineManufacturer FacilityStatus  \\\n",
       "0          194.0                1987.0                  Vestas            NaN   \n",
       "1            1.0                2009.0  Northern Power Systems     In Service   \n",
       "2           10.0                2017.0                  Nordex            NaN   \n",
       "3            2.0                2013.0                 GE Wind            NaN   \n",
       "4           31.0                1992.0                  Vestas     In Service   \n",
       "\n",
       "            Coordinates  \n",
       "0  35.0861°, -118.3533°  \n",
       "1   41.2481°, -81.8831°  \n",
       "2   42.0136°, -93.5181°  \n",
       "3   41.7525°, -70.5417°  \n",
       "4  35.0533°, -118.2686°  "
      ]
     },
     "execution_count": 299,
     "metadata": {},
     "output_type": "execute_result"
    }
   ],
   "source": [
    "wind.head()"
   ]
  },
  {
   "cell_type": "code",
   "execution_count": 138,
   "metadata": {},
   "outputs": [],
   "source": [
    "wind['CapacityMW'] = wind.GeneratingCapacity.map(lambda x: x.strip('MW') if isinstance(x, str) else x)\n",
    "wind['CapacityMW'] = wind.CapacityMW.map(float)"
   ]
  },
  {
   "cell_type": "code",
   "execution_count": 141,
   "metadata": {},
   "outputs": [
    {
     "data": {
      "image/png": "[encoded data removed]",
      "text/plain": [
       "<Figure size 432x288 with 1 Axes>"
      ]
     },
     "metadata": {
      "needs_background": "light"
     },
     "output_type": "display_data"
    }
   ],
   "source": [
    "plt.scatter(wind.groupby('CommercialOnlineDate').sum()['NumberOfUnits'].index,wind.groupby('CommercialOnlineDate').sum()['NumberOfUnits'])\n",
    "plt.title('NumberOfUnits Brought Online')\n",
    "plt.xlabel('Year')\n",
    "plt.ylabel('Units')\n",
    "plt.show()"
   ]
  },
  {
   "cell_type": "code",
   "execution_count": 142,
   "metadata": {},
   "outputs": [
    {
     "data": {
      "image/png": "[encoded data removed]",
      "text/plain": [
       "<Figure size 432x288 with 1 Axes>"
      ]
     },
     "metadata": {
      "needs_background": "light"
     },
     "output_type": "display_data"
    }
   ],
   "source": [
    "plt.scatter(wind.groupby('CommercialOnlineDate').sum()['CapacityMW'].index,wind.groupby('CommercialOnlineDate').sum()['CapacityMW'])\n",
    "plt.title('CapacityMW Brought Online')\n",
    "plt.xlabel('Year')\n",
    "plt.ylabel('MW')\n",
    "plt.show()"
   ]
  },
  {
   "cell_type": "markdown",
   "metadata": {},
   "source": [
    "What's caused that dip in 2013? Well, lots of ideas."
   ]
  },
  {
   "cell_type": "code",
   "execution_count": 166,
   "metadata": {},
   "outputs": [],
   "source": [
    "mortality_url = 'UN_MortalityData.csv'\n",
    "mortality = pd.read_csv(mortality_url,skiprows = 1,encoding = 'ISO-8859-1')\n",
    "# source: UN.org\n",
    "new_columns_map = dict(zip(mortality.columns,['RegionCode', 'RegionName', 'Year', 'Series', 'Value','Footnotes', 'Source']))\n",
    "mortality.rename(columns = new_columns_map, inplace = True)"
   ]
  },
  {
   "cell_type": "code",
   "execution_count": 174,
   "metadata": {},
   "outputs": [
    {
     "data": {
      "text/html": [
       "<div>\n",
       "<style scoped>\n",
       "    .dataframe tbody tr th:only-of-type {\n",
       "        vertical-align: middle;\n",
       "    }\n",
       "\n",
       "    .dataframe tbody tr th {\n",
       "        vertical-align: top;\n",
       "    }\n",
       "\n",
       "    .dataframe thead th {\n",
       "        text-align: right;\n",
       "    }\n",
       "</style>\n",
       "<table border=\"1\" class=\"dataframe\">\n",
       "  <thead>\n",
       "    <tr style=\"text-align: right;\">\n",
       "      <th></th>\n",
       "      <th>RegionCode</th>\n",
       "      <th>RegionName</th>\n",
       "      <th>Series</th>\n",
       "      <th>Value</th>\n",
       "      <th>Footnotes</th>\n",
       "      <th>Source</th>\n",
       "    </tr>\n",
       "    <tr>\n",
       "      <th>Year</th>\n",
       "      <th></th>\n",
       "      <th></th>\n",
       "      <th></th>\n",
       "      <th></th>\n",
       "      <th></th>\n",
       "      <th></th>\n",
       "    </tr>\n",
       "  </thead>\n",
       "  <tbody>\n",
       "    <tr>\n",
       "      <th>2000</th>\n",
       "      <td>15</td>\n",
       "      <td>15</td>\n",
       "      <td>15</td>\n",
       "      <td>15</td>\n",
       "      <td>4</td>\n",
       "      <td>15</td>\n",
       "    </tr>\n",
       "    <tr>\n",
       "      <th>2001</th>\n",
       "      <td>8</td>\n",
       "      <td>8</td>\n",
       "      <td>8</td>\n",
       "      <td>8</td>\n",
       "      <td>0</td>\n",
       "      <td>8</td>\n",
       "    </tr>\n",
       "    <tr>\n",
       "      <th>2002</th>\n",
       "      <td>3</td>\n",
       "      <td>3</td>\n",
       "      <td>3</td>\n",
       "      <td>3</td>\n",
       "      <td>0</td>\n",
       "      <td>3</td>\n",
       "    </tr>\n",
       "    <tr>\n",
       "      <th>2003</th>\n",
       "      <td>2</td>\n",
       "      <td>2</td>\n",
       "      <td>2</td>\n",
       "      <td>2</td>\n",
       "      <td>0</td>\n",
       "      <td>2</td>\n",
       "    </tr>\n",
       "    <tr>\n",
       "      <th>2004</th>\n",
       "      <td>11</td>\n",
       "      <td>11</td>\n",
       "      <td>11</td>\n",
       "      <td>11</td>\n",
       "      <td>3</td>\n",
       "      <td>11</td>\n",
       "    </tr>\n",
       "    <tr>\n",
       "      <th>2005</th>\n",
       "      <td>1618</td>\n",
       "      <td>1618</td>\n",
       "      <td>1618</td>\n",
       "      <td>1618</td>\n",
       "      <td>1422</td>\n",
       "      <td>1618</td>\n",
       "    </tr>\n",
       "    <tr>\n",
       "      <th>2006</th>\n",
       "      <td>9</td>\n",
       "      <td>9</td>\n",
       "      <td>9</td>\n",
       "      <td>9</td>\n",
       "      <td>2</td>\n",
       "      <td>9</td>\n",
       "    </tr>\n",
       "    <tr>\n",
       "      <th>2007</th>\n",
       "      <td>4</td>\n",
       "      <td>4</td>\n",
       "      <td>4</td>\n",
       "      <td>4</td>\n",
       "      <td>3</td>\n",
       "      <td>4</td>\n",
       "    </tr>\n",
       "    <tr>\n",
       "      <th>2008</th>\n",
       "      <td>6</td>\n",
       "      <td>6</td>\n",
       "      <td>6</td>\n",
       "      <td>6</td>\n",
       "      <td>1</td>\n",
       "      <td>6</td>\n",
       "    </tr>\n",
       "    <tr>\n",
       "      <th>2009</th>\n",
       "      <td>3</td>\n",
       "      <td>3</td>\n",
       "      <td>3</td>\n",
       "      <td>3</td>\n",
       "      <td>0</td>\n",
       "      <td>3</td>\n",
       "    </tr>\n",
       "    <tr>\n",
       "      <th>2010</th>\n",
       "      <td>1626</td>\n",
       "      <td>1626</td>\n",
       "      <td>1626</td>\n",
       "      <td>1626</td>\n",
       "      <td>1426</td>\n",
       "      <td>1626</td>\n",
       "    </tr>\n",
       "    <tr>\n",
       "      <th>2011</th>\n",
       "      <td>13</td>\n",
       "      <td>13</td>\n",
       "      <td>13</td>\n",
       "      <td>13</td>\n",
       "      <td>8</td>\n",
       "      <td>13</td>\n",
       "    </tr>\n",
       "    <tr>\n",
       "      <th>2012</th>\n",
       "      <td>11</td>\n",
       "      <td>11</td>\n",
       "      <td>11</td>\n",
       "      <td>11</td>\n",
       "      <td>4</td>\n",
       "      <td>11</td>\n",
       "    </tr>\n",
       "    <tr>\n",
       "      <th>2013</th>\n",
       "      <td>19</td>\n",
       "      <td>19</td>\n",
       "      <td>19</td>\n",
       "      <td>19</td>\n",
       "      <td>13</td>\n",
       "      <td>19</td>\n",
       "    </tr>\n",
       "    <tr>\n",
       "      <th>2014</th>\n",
       "      <td>3</td>\n",
       "      <td>3</td>\n",
       "      <td>3</td>\n",
       "      <td>3</td>\n",
       "      <td>2</td>\n",
       "      <td>3</td>\n",
       "    </tr>\n",
       "    <tr>\n",
       "      <th>2015</th>\n",
       "      <td>1620</td>\n",
       "      <td>1620</td>\n",
       "      <td>1620</td>\n",
       "      <td>1620</td>\n",
       "      <td>1427</td>\n",
       "      <td>1620</td>\n",
       "    </tr>\n",
       "    <tr>\n",
       "      <th>2016</th>\n",
       "      <td>7</td>\n",
       "      <td>7</td>\n",
       "      <td>7</td>\n",
       "      <td>7</td>\n",
       "      <td>4</td>\n",
       "      <td>7</td>\n",
       "    </tr>\n",
       "  </tbody>\n",
       "</table>\n",
       "</div>"
      ],
      "text/plain": [
       "      RegionCode  RegionName  Series  Value  Footnotes  Source\n",
       "Year                                                          \n",
       "2000          15          15      15     15          4      15\n",
       "2001           8           8       8      8          0       8\n",
       "2002           3           3       3      3          0       3\n",
       "2003           2           2       2      2          0       2\n",
       "2004          11          11      11     11          3      11\n",
       "2005        1618        1618    1618   1618       1422    1618\n",
       "2006           9           9       9      9          2       9\n",
       "2007           4           4       4      4          3       4\n",
       "2008           6           6       6      6          1       6\n",
       "2009           3           3       3      3          0       3\n",
       "2010        1626        1626    1626   1626       1426    1626\n",
       "2011          13          13      13     13          8      13\n",
       "2012          11          11      11     11          4      11\n",
       "2013          19          19      19     19         13      19\n",
       "2014           3           3       3      3          2       3\n",
       "2015        1620        1620    1620   1620       1427    1620\n",
       "2016           7           7       7      7          4       7"
      ]
     },
     "execution_count": 174,
     "metadata": {},
     "output_type": "execute_result"
    }
   ],
   "source": [
    "mortality.groupby('Year').count()"
   ]
  },
  {
   "cell_type": "code",
   "execution_count": 179,
   "metadata": {},
   "outputs": [
    {
     "data": {
      "text/plain": [
       "0       Total, all countries or areas\n",
       "1       Total, all countries or areas\n",
       "2       Total, all countries or areas\n",
       "3       Total, all countries or areas\n",
       "4       Total, all countries or areas\n",
       "5       Total, all countries or areas\n",
       "6       Total, all countries or areas\n",
       "21                             Africa\n",
       "22                             Africa\n",
       "23                             Africa\n",
       "24                             Africa\n",
       "25                             Africa\n",
       "26                             Africa\n",
       "39                    Northern Africa\n",
       "40                    Northern Africa\n",
       "41                    Northern Africa\n",
       "42                    Northern Africa\n",
       "43                    Northern Africa\n",
       "44                    Northern Africa\n",
       "45                    Northern Africa\n",
       "60                 Sub-Saharan Africa\n",
       "61                 Sub-Saharan Africa\n",
       "62                 Sub-Saharan Africa\n",
       "63                 Sub-Saharan Africa\n",
       "64                 Sub-Saharan Africa\n",
       "65                 Sub-Saharan Africa\n",
       "66                 Sub-Saharan Africa\n",
       "81                     Eastern Africa\n",
       "82                     Eastern Africa\n",
       "83                     Eastern Africa\n",
       "                    ...              \n",
       "4871                         Viet Nam\n",
       "4872                         Viet Nam\n",
       "4889        Wallis and Futuna Islands\n",
       "4897                   Western Sahara\n",
       "4898                   Western Sahara\n",
       "4899                   Western Sahara\n",
       "4900                   Western Sahara\n",
       "4901                   Western Sahara\n",
       "4902                   Western Sahara\n",
       "4915                            Yemen\n",
       "4916                            Yemen\n",
       "4917                            Yemen\n",
       "4918                            Yemen\n",
       "4919                            Yemen\n",
       "4920                            Yemen\n",
       "4921                            Yemen\n",
       "4936                           Zambia\n",
       "4937                           Zambia\n",
       "4938                           Zambia\n",
       "4939                           Zambia\n",
       "4940                           Zambia\n",
       "4941                           Zambia\n",
       "4942                           Zambia\n",
       "4957                         Zimbabwe\n",
       "4958                         Zimbabwe\n",
       "4959                         Zimbabwe\n",
       "4960                         Zimbabwe\n",
       "4961                         Zimbabwe\n",
       "4962                         Zimbabwe\n",
       "4963                         Zimbabwe\n",
       "Name: RegionName, Length: 1618, dtype: object"
      ]
     },
     "execution_count": 179,
     "metadata": {},
     "output_type": "execute_result"
    }
   ],
   "source": [
    "mortality[mortality.Year == 2005]['RegionName']"
   ]
  },
  {
   "cell_type": "markdown",
   "metadata": {},
   "source": [
    "Let's try and find a happier data set..."
   ]
  },
  {
   "cell_type": "code",
   "execution_count": 223,
   "metadata": {
    "scrolled": true
   },
   "outputs": [],
   "source": [
    "# https://ucr.fbi.gov/crime-in-the-u.s/2016/crime-in-the-u.s.-2016/topic-pages/tables/table-1\n",
    "fbi = pd.read_excel('fbi_crime.xls',skiprows = 3,nrows=20)"
   ]
  },
  {
   "cell_type": "code",
   "execution_count": 224,
   "metadata": {},
   "outputs": [],
   "source": [
    "new_columns = fbi.columns.map(lambda x: x.replace('\\n',' ').title().replace(' ',''))"
   ]
  },
  {
   "cell_type": "code",
   "execution_count": 233,
   "metadata": {},
   "outputs": [],
   "source": [
    "newcol_dict = dict(zip(fbi.columns,new_columns))\n",
    "fbi.rename(columns = newcol_dict, inplace = True)\n",
    "fbi['Year'] = fbi['Year'].map(lambda x: int(str(x)[:4]))# get rid of footnotes"
   ]
  },
  {
   "cell_type": "code",
   "execution_count": 236,
   "metadata": {},
   "outputs": [
    {
     "data": {
      "image/png": "[encoded data removed]",
      "text/plain": [
       "<Figure size 432x288 with 1 Axes>"
      ]
     },
     "metadata": {
      "needs_background": "light"
     },
     "output_type": "display_data"
    }
   ],
   "source": [
    "plt.plot(fbi['Year'], fbi['BurglaryRate'])\n",
    "#plt.plot(fbi['Year'], fbi['Burglary'])\n",
    "plt.show()"
   ]
  },
  {
   "cell_type": "code",
   "execution_count": 237,
   "metadata": {},
   "outputs": [
    {
     "data": {
      "image/png": "[encoded data removed]",
      "text/plain": [
       "<Figure size 432x288 with 1 Axes>"
      ]
     },
     "metadata": {
      "needs_background": "light"
     },
     "output_type": "display_data"
    }
   ],
   "source": [
    "plt.plot(fbi['Year'], fbi['Larceny-TheftRate'])\n",
    "plt.show()"
   ]
  },
  {
   "cell_type": "code",
   "execution_count": 238,
   "metadata": {},
   "outputs": [
    {
     "data": {
      "image/png": "[encoded data removed]",
      "text/plain": [
       "<Figure size 432x288 with 1 Axes>"
      ]
     },
     "metadata": {
      "needs_background": "light"
     },
     "output_type": "display_data"
    }
   ],
   "source": [
    "plt.plot(fbi['Year'], fbi['MotorVehicleTheftRate'])\n",
    "plt.show()"
   ]
  },
  {
   "cell_type": "code",
   "execution_count": 241,
   "metadata": {},
   "outputs": [
    {
     "data": {
      "image/png": "[encoded data removed]",
      "text/plain": [
       "<Figure size 432x288 with 1 Axes>"
      ]
     },
     "metadata": {
      "needs_background": "light"
     },
     "output_type": "display_data"
    }
   ],
   "source": [
    "plt.plot(fbi['Year'], fbi['AggravatedAssaultRate'])\n",
    "plt.show()"
   ]
  },
  {
   "cell_type": "code",
   "execution_count": 245,
   "metadata": {},
   "outputs": [
    {
     "data": {
      "image/png": "[encoded data removed]",
      "text/plain": [
       "<Figure size 432x288 with 1 Axes>"
      ]
     },
     "metadata": {
      "needs_background": "light"
     },
     "output_type": "display_data"
    }
   ],
   "source": [
    "plt.plot(fbi['Year'], fbi['Rape(LegacyDefinition)Rate4'])\n",
    "plt.show()"
   ]
  },
  {
   "cell_type": "code",
   "execution_count": 246,
   "metadata": {},
   "outputs": [
    {
     "data": {
      "image/png": "[encoded data removed]",
      "text/plain": [
       "<Figure size 432x288 with 1 Axes>"
      ]
     },
     "metadata": {
      "needs_background": "light"
     },
     "output_type": "display_data"
    }
   ],
   "source": [
    "plt.plot(fbi['Year'], fbi['Rape(RevisedDefinition)Rate3'])\n",
    "plt.show()"
   ]
  },
  {
   "cell_type": "markdown",
   "metadata": {},
   "source": [
    "Okay, let's reallly try hard to be lighthearted."
   ]
  },
  {
   "cell_type": "code",
   "execution_count": 251,
   "metadata": {},
   "outputs": [],
   "source": [
    "spotify_csv = './Most_Streamed_Spotify_Songs.csv'\n",
    "songs = pd.read_csv(spotify_csv, encoding = 'ISO-8859-1')# this is a popular type?\n",
    "# data from Datazar. Data pull date unknown. "
   ]
  },
  {
   "cell_type": "code",
   "execution_count": 261,
   "metadata": {},
   "outputs": [],
   "source": [
    "songs['PublicationDatetime'] = pd.to_datetime(songs['Publication Date'], format = '%d-%b-%y')\n",
    "# note: %d was able to handle non zero leading values at the beginning of a string"
   ]
  },
  {
   "cell_type": "code",
   "execution_count": 265,
   "metadata": {},
   "outputs": [
    {
     "data": {
      "image/png": "[encoded data removed]",
      "text/plain": [
       "<Figure size 432x288 with 1 Axes>"
      ]
     },
     "metadata": {
      "needs_background": "light"
     },
     "output_type": "display_data"
    }
   ],
   "source": [
    "plt.scatter(songs['PublicationDatetime'],songs['Streams (In Millions)'])\n",
    "plt.title(\"Streaming Data from Spotify\")\n",
    "plt.xlabel(\"Date of Publication\")\n",
    "plt.ylabel('Millions of Streams')\n",
    "plt.show()"
   ]
  },
  {
   "cell_type": "code",
   "execution_count": 264,
   "metadata": {},
   "outputs": [
    {
     "data": {
      "text/plain": [
       "2016-05-06    3\n",
       "2015-08-28    3\n",
       "2015-11-13    3\n",
       "2015-03-10    2\n",
       "2014-06-21    2\n",
       "2015-10-14    1\n",
       "2015-12-17    1\n",
       "2016-07-29    1\n",
       "2016-04-01    1\n",
       "2014-01-01    1\n",
       "2012-07-24    1\n",
       "2016-02-05    1\n",
       "2015-06-01    1\n",
       "2014-12-02    1\n",
       "2014-03-17    1\n",
       "2016-07-22    1\n",
       "2016-01-29    1\n",
       "2014-01-17    1\n",
       "2015-10-23    1\n",
       "2016-05-27    1\n",
       "2013-11-29    1\n",
       "2015-11-27    1\n",
       "2015-12-04    1\n",
       "2015-02-10    1\n",
       "2013-07-30    1\n",
       "2015-06-16    1\n",
       "2015-07-31    1\n",
       "2015-06-09    1\n",
       "2014-12-15    1\n",
       "2015-04-28    1\n",
       "2015-01-12    1\n",
       "2016-04-29    1\n",
       "2013-03-26    1\n",
       "2013-06-18    1\n",
       "2015-02-24    1\n",
       "2016-02-26    1\n",
       "2012-01-01    1\n",
       "2013-08-08    1\n",
       "2015-07-17    1\n",
       "2015-04-14    1\n",
       "2016-08-05    1\n",
       "2015-09-18    1\n",
       "Name: PublicationDatetime, dtype: int64"
      ]
     },
     "execution_count": 264,
     "metadata": {},
     "output_type": "execute_result"
    }
   ],
   "source": [
    "songs['PublicationDatetime'].value_counts()"
   ]
  },
  {
   "cell_type": "markdown",
   "metadata": {},
   "source": [
    "Are people more educated?"
   ]
  },
  {
   "cell_type": "code",
   "execution_count": 267,
   "metadata": {},
   "outputs": [],
   "source": [
    "census_path = './CensusGov/ACSST5Y2017.S1501_data_with_overlays_2019-07-23T225517.csv'\n",
    "census = pd.read_csv(census_path)"
   ]
  },
  {
   "cell_type": "code",
   "execution_count": 268,
   "metadata": {},
   "outputs": [
    {
     "data": {
      "text/html": [
       "<div>\n",
       "<style scoped>\n",
       "    .dataframe tbody tr th:only-of-type {\n",
       "        vertical-align: middle;\n",
       "    }\n",
       "\n",
       "    .dataframe tbody tr th {\n",
       "        vertical-align: top;\n",
       "    }\n",
       "\n",
       "    .dataframe thead th {\n",
       "        text-align: right;\n",
       "    }\n",
       "</style>\n",
       "<table border=\"1\" class=\"dataframe\">\n",
       "  <thead>\n",
       "    <tr style=\"text-align: right;\">\n",
       "      <th></th>\n",
       "      <th>GEO_ID</th>\n",
       "      <th>NAME</th>\n",
       "      <th>S1501_C01_001E</th>\n",
       "      <th>S1501_C01_001M</th>\n",
       "      <th>S1501_C02_001E</th>\n",
       "      <th>S1501_C02_001M</th>\n",
       "      <th>S1501_C03_001E</th>\n",
       "      <th>S1501_C03_001M</th>\n",
       "      <th>S1501_C04_001E</th>\n",
       "      <th>S1501_C04_001M</th>\n",
       "      <th>...</th>\n",
       "      <th>S1501_C02_064E</th>\n",
       "      <th>S1501_C02_064M</th>\n",
       "      <th>S1501_C03_064E</th>\n",
       "      <th>S1501_C03_064M</th>\n",
       "      <th>S1501_C04_064E</th>\n",
       "      <th>S1501_C04_064M</th>\n",
       "      <th>S1501_C05_064E</th>\n",
       "      <th>S1501_C05_064M</th>\n",
       "      <th>S1501_C06_064E</th>\n",
       "      <th>S1501_C06_064M</th>\n",
       "    </tr>\n",
       "  </thead>\n",
       "  <tbody>\n",
       "    <tr>\n",
       "      <th>0</th>\n",
       "      <td>id</td>\n",
       "      <td>Geographic Area Name</td>\n",
       "      <td>Estimate!!Total!!Population 18 to 24 years</td>\n",
       "      <td>Margin of Error!!Total MOE!!Population 18 to 2...</td>\n",
       "      <td>Estimate!!Percent!!Population 18 to 24 years</td>\n",
       "      <td>Margin of Error!!Percent MOE!!Population 18 to...</td>\n",
       "      <td>Estimate!!Male!!Population 18 to 24 years</td>\n",
       "      <td>Margin of Error!!Male MOE!!Population 18 to 24...</td>\n",
       "      <td>Estimate!!Percent Male!!Population 18 to 24 years</td>\n",
       "      <td>Margin of Error!!Percent Male MOE!!Population ...</td>\n",
       "      <td>...</td>\n",
       "      <td>Estimate!!Percent!!MEDIAN EARNINGS IN THE PAST...</td>\n",
       "      <td>Margin of Error!!Percent MOE!!MEDIAN EARNINGS ...</td>\n",
       "      <td>Estimate!!Male!!MEDIAN EARNINGS IN THE PAST 12...</td>\n",
       "      <td>Margin of Error!!Male MOE!!MEDIAN EARNINGS IN ...</td>\n",
       "      <td>Estimate!!Percent Male!!MEDIAN EARNINGS IN THE...</td>\n",
       "      <td>Margin of Error!!Percent Male MOE!!MEDIAN EARN...</td>\n",
       "      <td>Estimate!!Female!!MEDIAN EARNINGS IN THE PAST ...</td>\n",
       "      <td>Margin of Error!!Female MOE!!MEDIAN EARNINGS I...</td>\n",
       "      <td>Estimate!!Percent Female!!MEDIAN EARNINGS IN T...</td>\n",
       "      <td>Margin of Error!!Percent Female MOE!!MEDIAN EA...</td>\n",
       "    </tr>\n",
       "    <tr>\n",
       "      <th>1</th>\n",
       "      <td>0100000US</td>\n",
       "      <td>United States</td>\n",
       "      <td>31131484</td>\n",
       "      <td>9757</td>\n",
       "      <td>(X)</td>\n",
       "      <td>(X)</td>\n",
       "      <td>15968535</td>\n",
       "      <td>6457</td>\n",
       "      <td>(X)</td>\n",
       "      <td>(X)</td>\n",
       "      <td>...</td>\n",
       "      <td>(X)</td>\n",
       "      <td>(X)</td>\n",
       "      <td>87504</td>\n",
       "      <td>203</td>\n",
       "      <td>(X)</td>\n",
       "      <td>(X)</td>\n",
       "      <td>58868</td>\n",
       "      <td>120</td>\n",
       "      <td>(X)</td>\n",
       "      <td>(X)</td>\n",
       "    </tr>\n",
       "  </tbody>\n",
       "</table>\n",
       "<p>2 rows × 770 columns</p>\n",
       "</div>"
      ],
      "text/plain": [
       "      GEO_ID                  NAME  \\\n",
       "0         id  Geographic Area Name   \n",
       "1  0100000US         United States   \n",
       "\n",
       "                               S1501_C01_001E  \\\n",
       "0  Estimate!!Total!!Population 18 to 24 years   \n",
       "1                                    31131484   \n",
       "\n",
       "                                      S1501_C01_001M  \\\n",
       "0  Margin of Error!!Total MOE!!Population 18 to 2...   \n",
       "1                                               9757   \n",
       "\n",
       "                                 S1501_C02_001E  \\\n",
       "0  Estimate!!Percent!!Population 18 to 24 years   \n",
       "1                                           (X)   \n",
       "\n",
       "                                      S1501_C02_001M  \\\n",
       "0  Margin of Error!!Percent MOE!!Population 18 to...   \n",
       "1                                                (X)   \n",
       "\n",
       "                              S1501_C03_001E  \\\n",
       "0  Estimate!!Male!!Population 18 to 24 years   \n",
       "1                                   15968535   \n",
       "\n",
       "                                      S1501_C03_001M  \\\n",
       "0  Margin of Error!!Male MOE!!Population 18 to 24...   \n",
       "1                                               6457   \n",
       "\n",
       "                                      S1501_C04_001E  \\\n",
       "0  Estimate!!Percent Male!!Population 18 to 24 years   \n",
       "1                                                (X)   \n",
       "\n",
       "                                      S1501_C04_001M  ...  \\\n",
       "0  Margin of Error!!Percent Male MOE!!Population ...  ...   \n",
       "1                                                (X)  ...   \n",
       "\n",
       "                                      S1501_C02_064E  \\\n",
       "0  Estimate!!Percent!!MEDIAN EARNINGS IN THE PAST...   \n",
       "1                                                (X)   \n",
       "\n",
       "                                      S1501_C02_064M  \\\n",
       "0  Margin of Error!!Percent MOE!!MEDIAN EARNINGS ...   \n",
       "1                                                (X)   \n",
       "\n",
       "                                      S1501_C03_064E  \\\n",
       "0  Estimate!!Male!!MEDIAN EARNINGS IN THE PAST 12...   \n",
       "1                                              87504   \n",
       "\n",
       "                                      S1501_C03_064M  \\\n",
       "0  Margin of Error!!Male MOE!!MEDIAN EARNINGS IN ...   \n",
       "1                                                203   \n",
       "\n",
       "                                      S1501_C04_064E  \\\n",
       "0  Estimate!!Percent Male!!MEDIAN EARNINGS IN THE...   \n",
       "1                                                (X)   \n",
       "\n",
       "                                      S1501_C04_064M  \\\n",
       "0  Margin of Error!!Percent Male MOE!!MEDIAN EARN...   \n",
       "1                                                (X)   \n",
       "\n",
       "                                      S1501_C05_064E  \\\n",
       "0  Estimate!!Female!!MEDIAN EARNINGS IN THE PAST ...   \n",
       "1                                              58868   \n",
       "\n",
       "                                      S1501_C05_064M  \\\n",
       "0  Margin of Error!!Female MOE!!MEDIAN EARNINGS I...   \n",
       "1                                                120   \n",
       "\n",
       "                                      S1501_C06_064E  \\\n",
       "0  Estimate!!Percent Female!!MEDIAN EARNINGS IN T...   \n",
       "1                                                (X)   \n",
       "\n",
       "                                      S1501_C06_064M  \n",
       "0  Margin of Error!!Percent Female MOE!!MEDIAN EA...  \n",
       "1                                                (X)  \n",
       "\n",
       "[2 rows x 770 columns]"
      ]
     },
     "execution_count": 268,
     "metadata": {},
     "output_type": "execute_result"
    }
   ],
   "source": [
    "census.head()"
   ]
  },
  {
   "cell_type": "code",
   "execution_count": 270,
   "metadata": {},
   "outputs": [
    {
     "name": "stderr",
     "output_type": "stream",
     "text": [
      "C:\\Users\\Michelle\\Anaconda3\\lib\\site-packages\\IPython\\core\\interactiveshell.py:3049: DtypeWarning: Columns (0) have mixed types. Specify dtype option on import or set low_memory=False.\n",
      "  interactivity=interactivity, compiler=compiler, result=result)\n"
     ]
    }
   ],
   "source": [
    "cdc_url = 'https://chronicdata.cdc.gov/api/views/wsas-xwh5/rows.csv?accessType=DOWNLOAD'\n",
    "cdc = pd.read_csv(cdc_url)"
   ]
  },
  {
   "cell_type": "code",
   "execution_count": 276,
   "metadata": {},
   "outputs": [
    {
     "data": {
      "text/plain": [
       "YEAR\n",
       "2011         28.845399\n",
       "2011         28.530738\n",
       "2011-2012    13.004724\n",
       "2012         28.240574\n",
       "2012-2013    12.435000\n",
       "2013         28.285885\n",
       "2013-2014    12.423992\n",
       "2014         28.036933\n",
       "2014-2015    12.327912\n",
       "2015         27.818996\n",
       "2015-2016    12.022267\n",
       "2016         25.304071\n",
       "2016-2017     9.514343\n",
       "2017         25.291137\n",
       "Name: Data_Value, dtype: float64"
      ]
     },
     "execution_count": 276,
     "metadata": {},
     "output_type": "execute_result"
    }
   ],
   "source": [
    "cdc.groupby('YEAR')['Data_Value'].mean()"
   ]
  },
  {
   "cell_type": "code",
   "execution_count": null,
   "metadata": {},
   "outputs": [],
   "source": []
  }
 ],
 "metadata": {
  "kernelspec": {
   "display_name": "Python 3",
   "language": "python",
   "name": "python3"
  },
  "language_info": {
   "codemirror_mode": {
    "name": "ipython",
    "version": 3
   },
   "file_extension": ".py",
   "mimetype": "text/x-python",
   "name": "python",
   "nbconvert_exporter": "python",
   "pygments_lexer": "ipython3",
   "version": "3.7.3"
  }
 },
 "nbformat": 4,
 "nbformat_minor": 2
}
