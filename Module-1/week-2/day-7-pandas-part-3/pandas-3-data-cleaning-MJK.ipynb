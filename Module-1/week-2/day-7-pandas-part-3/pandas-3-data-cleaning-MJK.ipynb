{
 "cells": [
  {
   "cell_type": "markdown",
   "metadata": {},
   "source": [
    "# Data Cleaning with Pandas"
   ]
  },
  {
   "cell_type": "markdown",
   "metadata": {},
   "source": [
    "## Scenario\n",
    "\n",
    "As data scientists, we want to build a model to predict the sale price of a house in Seattle in 2019, based on its square footage. We know that the King County Department of Assessments has comprehensive data available on real property sales in the Seattle area. We need to prepare the data."
   ]
  },
  {
   "cell_type": "code",
   "execution_count": 1,
   "metadata": {},
   "outputs": [],
   "source": [
    "import pandas as pd"
   ]
  },
  {
   "cell_type": "markdown",
   "metadata": {},
   "source": [
    "### Learning Goals:\n",
    "\n",
    "- practice cleaning a real dataset\n",
    "- practice using `py` files and the terminal in conjunction with jupyter notebooks\n",
    "- run a `py` script through the terminal"
   ]
  },
  {
   "cell_type": "markdown",
   "metadata": {},
   "source": [
    "### First, get the data!\n",
    "\n",
    "When working on a project involving data that can fit on our computer, we store it in a `data` directory.\n",
    "\n",
    "```bash\n",
    "cd <project_directory>  # example: cd ~/flatiron_ds/pandas-3\n",
    "mkdir data\n",
    "cd data\n",
    "```\n",
    "\n",
    "Note that `<project_directory>` in angle brackets is a _placeholder_. You should type the path to the actual location on your computer where you're working on this project. Do not literally type `<project_directory>` and _do not type the angle brackets_. You can see an example in the _comment_ to the right of the command above."
   ]
  },
  {
   "cell_type": "code",
   "execution_count": 2,
   "metadata": {},
   "outputs": [
    {
     "name": "stdout",
     "output_type": "stream",
     "text": [
      "/c/Users/Michelle/Documents/DataScience/Flatiron/ClassModules/dc-ds-071519/Module-1/week-2/day-7-pandas-part-3\n"
     ]
    }
   ],
   "source": [
    "!pwd\n",
    "# i made the data folder in cmd line"
   ]
  },
  {
   "cell_type": "markdown",
   "metadata": {},
   "source": [
    "![terminal](https://media3.giphy.com/media/yR4xZagT71AAM/giphy.gif?cid=790b76115d3620444553533759086a54&rid=giphy.gif)\n",
    "\n",
    "Now, we'll need to download the two data files that we need. We can do this at the command line:\n",
    "\n",
    "```bash\n",
    "wget https://aqua.kingcounty.gov/extranet/assessor/Real%20Property%20Sales.zip\n",
    "wget https://aqua.kingcounty.gov/extranet/assessor/Residential%20Building.zip\n",
    "```\n",
    "\n",
    "*Note:* If you do not have the `wget` command yet, you can install it with `brew install wget`, or use `curl <url> -o <filename>`.\n",
    "\n",
    "Note that `%20` in a URL translates into a space. Even though you will *never put spaces in filenames*, you may need to deal with spaces that _other_ people have used in filenames.\n",
    "\n",
    "There are two ways to handle the spaces in these filenames when referencing them at the command line.\n",
    "\n",
    "\n",
    "![internetgif](https://media2.giphy.com/media/QWkuGmMgphvmE/giphy.gif?cid=790b76115d361f42304a6850369f37ea&rid=giphy.gif)"
   ]
  },
  {
   "cell_type": "markdown",
   "metadata": {},
   "source": [
    "#### 1. You can _escape_ the spaces by putting a backslash (`\\`, remember _backslash is next to backspace_) before each one:\n",
    "\n",
    "`unzip Real\\ Property\\ Sales.zip`\n",
    "\n",
    "This is what happens if you tab-complete the filename in the terminal. Tab completion is your friend!"
   ]
  },
  {
   "cell_type": "markdown",
   "metadata": {},
   "source": [
    "#### 2. You can put the entire filename in quotes:\n",
    "\n",
    "`unzip \"Real Property Sales.zip\"`\n",
    "\n",
    "Try unzipping these files with the `unzip` command. The `unzip` command takes one argument, the name of the file that you want to unzip."
   ]
  },
  {
   "cell_type": "code",
   "execution_count": 3,
   "metadata": {
    "scrolled": true
   },
   "outputs": [
    {
     "name": "stderr",
     "output_type": "stream",
     "text": [
      "C:\\Users\\Michelle\\Anaconda3\\lib\\site-packages\\IPython\\core\\interactiveshell.py:3049: DtypeWarning: Columns (1,2) have mixed types. Specify dtype option on import or set low_memory=False.\n",
      "  interactivity=interactivity, compiler=compiler, result=result)\n"
     ]
    }
   ],
   "source": [
    "sales_df = pd.read_csv('data\\PropertySales.zip')# neat! can only have one file in the folder"
   ]
  },
  {
   "cell_type": "code",
   "execution_count": 4,
   "metadata": {},
   "outputs": [],
   "source": [
    "# While we wait, we are asked to look for Seattle zip codes\n",
    "zipcodes = [98101, 98102, 98103, 98104, 98105, 98106, 98107, 98108, 98109, 98112, 98115,\\\n",
    " 98116, 98117, 98118, 98119, 98121, 98122, 98125, 98126, 98133, 98134, 98136,\\\n",
    " 98144, 98146, 98154, 98164, 98174, 98177, 98178, 98195, 98199]"
   ]
  },
  {
   "cell_type": "code",
   "execution_count": 5,
   "metadata": {},
   "outputs": [
    {
     "data": {
      "text/plain": [
       "ExciseTaxNbr           int64\n",
       "Major                 object\n",
       "Minor                 object\n",
       "DocumentDate          object\n",
       "SalePrice              int64\n",
       "RecordingNbr          object\n",
       "Volume                object\n",
       "Page                  object\n",
       "PlatNbr               object\n",
       "PlatType              object\n",
       "PlatLot               object\n",
       "PlatBlock             object\n",
       "SellerName            object\n",
       "BuyerName             object\n",
       "PropertyType           int64\n",
       "PrincipalUse           int64\n",
       "SaleInstrument         int64\n",
       "AFForestLand          object\n",
       "AFCurrentUseLand      object\n",
       "AFNonProfitUse        object\n",
       "AFHistoricProperty    object\n",
       "SaleReason             int64\n",
       "PropertyClass          int64\n",
       "SaleWarning           object\n",
       "dtype: object"
      ]
     },
     "execution_count": 5,
     "metadata": {},
     "output_type": "execute_result"
    }
   ],
   "source": [
    "sales_df.dtypes"
   ]
  },
  {
   "cell_type": "markdown",
   "metadata": {},
   "source": [
    "### Seeing pink? Warnings are useful!\n",
    "\n",
    "Note the warning above: `DtypeWarning: Columns (1, 2) have mixed types.` Because we start with an index of zero, the columns that we're being warned about are actually the _second_ and _third_ columns, `sales_df['Major']` and `sales_df['Minor']`."
   ]
  },
  {
   "cell_type": "code",
   "execution_count": 6,
   "metadata": {},
   "outputs": [
    {
     "data": {
      "text/html": [
       "<div>\n",
       "<style scoped>\n",
       "    .dataframe tbody tr th:only-of-type {\n",
       "        vertical-align: middle;\n",
       "    }\n",
       "\n",
       "    .dataframe tbody tr th {\n",
       "        vertical-align: top;\n",
       "    }\n",
       "\n",
       "    .dataframe thead th {\n",
       "        text-align: right;\n",
       "    }\n",
       "</style>\n",
       "<table border=\"1\" class=\"dataframe\">\n",
       "  <thead>\n",
       "    <tr style=\"text-align: right;\">\n",
       "      <th></th>\n",
       "      <th>ExciseTaxNbr</th>\n",
       "      <th>Major</th>\n",
       "      <th>Minor</th>\n",
       "      <th>DocumentDate</th>\n",
       "      <th>SalePrice</th>\n",
       "      <th>RecordingNbr</th>\n",
       "      <th>Volume</th>\n",
       "      <th>Page</th>\n",
       "      <th>PlatNbr</th>\n",
       "      <th>PlatType</th>\n",
       "      <th>...</th>\n",
       "      <th>PropertyType</th>\n",
       "      <th>PrincipalUse</th>\n",
       "      <th>SaleInstrument</th>\n",
       "      <th>AFForestLand</th>\n",
       "      <th>AFCurrentUseLand</th>\n",
       "      <th>AFNonProfitUse</th>\n",
       "      <th>AFHistoricProperty</th>\n",
       "      <th>SaleReason</th>\n",
       "      <th>PropertyClass</th>\n",
       "      <th>SaleWarning</th>\n",
       "    </tr>\n",
       "  </thead>\n",
       "  <tbody>\n",
       "    <tr>\n",
       "      <th>0</th>\n",
       "      <td>2687551</td>\n",
       "      <td>138860</td>\n",
       "      <td>110</td>\n",
       "      <td>08/21/2014</td>\n",
       "      <td>245000</td>\n",
       "      <td>20140828001436</td>\n",
       "      <td></td>\n",
       "      <td></td>\n",
       "      <td></td>\n",
       "      <td></td>\n",
       "      <td>...</td>\n",
       "      <td>3</td>\n",
       "      <td>6</td>\n",
       "      <td>3</td>\n",
       "      <td>N</td>\n",
       "      <td>N</td>\n",
       "      <td>N</td>\n",
       "      <td>N</td>\n",
       "      <td>1</td>\n",
       "      <td>8</td>\n",
       "      <td></td>\n",
       "    </tr>\n",
       "    <tr>\n",
       "      <th>1</th>\n",
       "      <td>1235111</td>\n",
       "      <td>664885</td>\n",
       "      <td>40</td>\n",
       "      <td>07/09/1991</td>\n",
       "      <td>0</td>\n",
       "      <td>199203161090</td>\n",
       "      <td>071</td>\n",
       "      <td>001</td>\n",
       "      <td>664885</td>\n",
       "      <td>C</td>\n",
       "      <td>...</td>\n",
       "      <td>3</td>\n",
       "      <td>0</td>\n",
       "      <td>26</td>\n",
       "      <td>N</td>\n",
       "      <td>N</td>\n",
       "      <td>N</td>\n",
       "      <td>N</td>\n",
       "      <td>18</td>\n",
       "      <td>3</td>\n",
       "      <td>11</td>\n",
       "    </tr>\n",
       "    <tr>\n",
       "      <th>2</th>\n",
       "      <td>2704079</td>\n",
       "      <td>423943</td>\n",
       "      <td>50</td>\n",
       "      <td>10/11/2014</td>\n",
       "      <td>0</td>\n",
       "      <td>20141205000558</td>\n",
       "      <td></td>\n",
       "      <td></td>\n",
       "      <td></td>\n",
       "      <td></td>\n",
       "      <td>...</td>\n",
       "      <td>3</td>\n",
       "      <td>6</td>\n",
       "      <td>15</td>\n",
       "      <td>N</td>\n",
       "      <td>N</td>\n",
       "      <td>N</td>\n",
       "      <td>N</td>\n",
       "      <td>18</td>\n",
       "      <td>8</td>\n",
       "      <td>18 31 51</td>\n",
       "    </tr>\n",
       "    <tr>\n",
       "      <th>3</th>\n",
       "      <td>2584094</td>\n",
       "      <td>403700</td>\n",
       "      <td>715</td>\n",
       "      <td>01/04/2013</td>\n",
       "      <td>0</td>\n",
       "      <td>20130110000910</td>\n",
       "      <td></td>\n",
       "      <td></td>\n",
       "      <td></td>\n",
       "      <td></td>\n",
       "      <td>...</td>\n",
       "      <td>3</td>\n",
       "      <td>6</td>\n",
       "      <td>15</td>\n",
       "      <td>N</td>\n",
       "      <td>N</td>\n",
       "      <td>N</td>\n",
       "      <td>N</td>\n",
       "      <td>11</td>\n",
       "      <td>8</td>\n",
       "      <td>18 31 38</td>\n",
       "    </tr>\n",
       "    <tr>\n",
       "      <th>4</th>\n",
       "      <td>1056831</td>\n",
       "      <td>951120</td>\n",
       "      <td>900</td>\n",
       "      <td>04/20/1989</td>\n",
       "      <td>85000</td>\n",
       "      <td>198904260448</td>\n",
       "      <td>117</td>\n",
       "      <td>053</td>\n",
       "      <td>951120</td>\n",
       "      <td>P</td>\n",
       "      <td>...</td>\n",
       "      <td>3</td>\n",
       "      <td>0</td>\n",
       "      <td>2</td>\n",
       "      <td>N</td>\n",
       "      <td>N</td>\n",
       "      <td>N</td>\n",
       "      <td>N</td>\n",
       "      <td>1</td>\n",
       "      <td>9</td>\n",
       "      <td>49</td>\n",
       "    </tr>\n",
       "  </tbody>\n",
       "</table>\n",
       "<p>5 rows × 24 columns</p>\n",
       "</div>"
      ],
      "text/plain": [
       "   ExciseTaxNbr   Major Minor DocumentDate  SalePrice    RecordingNbr Volume  \\\n",
       "0       2687551  138860   110   08/21/2014     245000  20140828001436          \n",
       "1       1235111  664885    40   07/09/1991          0  199203161090      071   \n",
       "2       2704079  423943    50   10/11/2014          0  20141205000558          \n",
       "3       2584094  403700   715   01/04/2013          0  20130110000910          \n",
       "4       1056831  951120   900   04/20/1989      85000  198904260448      117   \n",
       "\n",
       "  Page PlatNbr PlatType  ... PropertyType PrincipalUse SaleInstrument  \\\n",
       "0                        ...            3            6              3   \n",
       "1  001  664885        C  ...            3            0             26   \n",
       "2                        ...            3            6             15   \n",
       "3                        ...            3            6             15   \n",
       "4  053  951120        P  ...            3            0              2   \n",
       "\n",
       "  AFForestLand  AFCurrentUseLand  AFNonProfitUse  AFHistoricProperty  \\\n",
       "0            N                 N               N                   N   \n",
       "1            N                 N               N                   N   \n",
       "2            N                 N               N                   N   \n",
       "3            N                 N               N                   N   \n",
       "4            N                 N               N                   N   \n",
       "\n",
       "  SaleReason PropertyClass SaleWarning  \n",
       "0          1             8              \n",
       "1         18             3          11  \n",
       "2         18             8    18 31 51  \n",
       "3         11             8    18 31 38  \n",
       "4          1             9          49  \n",
       "\n",
       "[5 rows x 24 columns]"
      ]
     },
     "execution_count": 6,
     "metadata": {},
     "output_type": "execute_result"
    }
   ],
   "source": [
    "sales_df.head() # do this with .T to see the columns"
   ]
  },
  {
   "cell_type": "markdown",
   "metadata": {},
   "source": [
    "### Data overload?\n",
    "\n",
    "That's a lot of columns. We're only interested in identifying the date, sale price, and square footage of each specific property. What can we do?"
   ]
  },
  {
   "cell_type": "code",
   "execution_count": 7,
   "metadata": {},
   "outputs": [],
   "source": [
    "sales_df = sales_df[['Major', 'Minor', 'DocumentDate', 'SalePrice']]# this order is explicitly set here by this order"
   ]
  },
  {
   "cell_type": "code",
   "execution_count": 8,
   "metadata": {},
   "outputs": [
    {
     "name": "stdout",
     "output_type": "stream",
     "text": [
      "<class 'pandas.core.frame.DataFrame'>\n",
      "RangeIndex: 2035819 entries, 0 to 2035818\n",
      "Data columns (total 4 columns):\n",
      "Major           object\n",
      "Minor           object\n",
      "DocumentDate    object\n",
      "SalePrice       int64\n",
      "dtypes: int64(1), object(3)\n",
      "memory usage: 62.1+ MB\n"
     ]
    }
   ],
   "source": [
    "sales_df.info()"
   ]
  },
  {
   "cell_type": "code",
   "execution_count": 9,
   "metadata": {
    "scrolled": true
   },
   "outputs": [
    {
     "name": "stderr",
     "output_type": "stream",
     "text": [
      "C:\\Users\\Michelle\\Anaconda3\\lib\\site-packages\\IPython\\core\\interactiveshell.py:3049: DtypeWarning: Columns (11) have mixed types. Specify dtype option on import or set low_memory=False.\n",
      "  interactivity=interactivity, compiler=compiler, result=result)\n"
     ]
    }
   ],
   "source": [
    "bldg_df = pd.read_csv('data/ResidentialBuilding.zip')"
   ]
  },
  {
   "cell_type": "code",
   "execution_count": 10,
   "metadata": {},
   "outputs": [
    {
     "name": "stdout",
     "output_type": "stream",
     "text": [
      "<class 'pandas.core.frame.DataFrame'>\n",
      "RangeIndex: 512827 entries, 0 to 512826\n",
      "Data columns (total 50 columns):\n",
      "Major                 512827 non-null int64\n",
      "Minor                 512827 non-null int64\n",
      "BldgNbr               512827 non-null int64\n",
      "NbrLivingUnits        512827 non-null int64\n",
      "Address               512827 non-null object\n",
      "BuildingNumber        512827 non-null object\n",
      "Fraction              512827 non-null object\n",
      "DirectionPrefix       512246 non-null object\n",
      "StreetName            512827 non-null object\n",
      "StreetType            512827 non-null object\n",
      "DirectionSuffix       512246 non-null object\n",
      "ZipCode               468452 non-null object\n",
      "Stories               512827 non-null float64\n",
      "BldgGrade             512827 non-null int64\n",
      "BldgGradeVar          512827 non-null int64\n",
      "SqFt1stFloor          512827 non-null int64\n",
      "SqFtHalfFloor         512827 non-null int64\n",
      "SqFt2ndFloor          512827 non-null int64\n",
      "SqFtUpperFloor        512827 non-null int64\n",
      "SqFtUnfinFull         512827 non-null int64\n",
      "SqFtUnfinHalf         512827 non-null int64\n",
      "SqFtTotLiving         512827 non-null int64\n",
      "SqFtTotBasement       512827 non-null int64\n",
      "SqFtFinBasement       512827 non-null int64\n",
      "FinBasementGrade      512827 non-null int64\n",
      "SqFtGarageBasement    512827 non-null int64\n",
      "SqFtGarageAttached    512827 non-null int64\n",
      "DaylightBasement      512827 non-null object\n",
      "SqFtOpenPorch         512827 non-null int64\n",
      "SqFtEnclosedPorch     512827 non-null int64\n",
      "SqFtDeck              512827 non-null int64\n",
      "HeatSystem            512827 non-null int64\n",
      "HeatSource            512827 non-null int64\n",
      "BrickStone            512827 non-null int64\n",
      "ViewUtilization       512827 non-null object\n",
      "Bedrooms              512827 non-null int64\n",
      "BathHalfCount         512827 non-null int64\n",
      "Bath3qtrCount         512827 non-null int64\n",
      "BathFullCount         512827 non-null int64\n",
      "FpSingleStory         512827 non-null int64\n",
      "FpMultiStory          512827 non-null int64\n",
      "FpFreestanding        512827 non-null int64\n",
      "FpAdditional          512827 non-null int64\n",
      "YrBuilt               512827 non-null int64\n",
      "YrRenovated           512827 non-null int64\n",
      "PcntComplete          512827 non-null int64\n",
      "Obsolescence          512827 non-null int64\n",
      "PcntNetCondition      512827 non-null int64\n",
      "Condition             512827 non-null int64\n",
      "AddnlCost             512827 non-null int64\n",
      "dtypes: float64(1), int64(39), object(10)\n",
      "memory usage: 195.6+ MB\n"
     ]
    }
   ],
   "source": [
    "bldg_df.info()"
   ]
  },
  {
   "cell_type": "markdown",
   "metadata": {},
   "source": [
    "### Another warning! Which column has index 11?"
   ]
  },
  {
   "cell_type": "code",
   "execution_count": 11,
   "metadata": {},
   "outputs": [
    {
     "data": {
      "text/plain": [
       "'ZipCode'"
      ]
     },
     "execution_count": 11,
     "metadata": {},
     "output_type": "execute_result"
    }
   ],
   "source": [
    "bldg_df.columns[11]"
   ]
  },
  {
   "cell_type": "markdown",
   "metadata": {},
   "source": [
    "`ZipCode` seems like a potentially useful column. We'll need it to determine which house sales took place in Seattle."
   ]
  },
  {
   "cell_type": "code",
   "execution_count": 12,
   "metadata": {
    "scrolled": true
   },
   "outputs": [
    {
     "name": "stdout",
     "output_type": "stream",
     "text": [
      "<class 'pandas.core.frame.DataFrame'>\n",
      "RangeIndex: 512827 entries, 0 to 512826\n",
      "Data columns (total 50 columns):\n",
      "Major                 512827 non-null int64\n",
      "Minor                 512827 non-null int64\n",
      "BldgNbr               512827 non-null int64\n",
      "NbrLivingUnits        512827 non-null int64\n",
      "Address               512827 non-null object\n",
      "BuildingNumber        512827 non-null object\n",
      "Fraction              512827 non-null object\n",
      "DirectionPrefix       512246 non-null object\n",
      "StreetName            512827 non-null object\n",
      "StreetType            512827 non-null object\n",
      "DirectionSuffix       512246 non-null object\n",
      "ZipCode               468452 non-null object\n",
      "Stories               512827 non-null float64\n",
      "BldgGrade             512827 non-null int64\n",
      "BldgGradeVar          512827 non-null int64\n",
      "SqFt1stFloor          512827 non-null int64\n",
      "SqFtHalfFloor         512827 non-null int64\n",
      "SqFt2ndFloor          512827 non-null int64\n",
      "SqFtUpperFloor        512827 non-null int64\n",
      "SqFtUnfinFull         512827 non-null int64\n",
      "SqFtUnfinHalf         512827 non-null int64\n",
      "SqFtTotLiving         512827 non-null int64\n",
      "SqFtTotBasement       512827 non-null int64\n",
      "SqFtFinBasement       512827 non-null int64\n",
      "FinBasementGrade      512827 non-null int64\n",
      "SqFtGarageBasement    512827 non-null int64\n",
      "SqFtGarageAttached    512827 non-null int64\n",
      "DaylightBasement      512827 non-null object\n",
      "SqFtOpenPorch         512827 non-null int64\n",
      "SqFtEnclosedPorch     512827 non-null int64\n",
      "SqFtDeck              512827 non-null int64\n",
      "HeatSystem            512827 non-null int64\n",
      "HeatSource            512827 non-null int64\n",
      "BrickStone            512827 non-null int64\n",
      "ViewUtilization       512827 non-null object\n",
      "Bedrooms              512827 non-null int64\n",
      "BathHalfCount         512827 non-null int64\n",
      "Bath3qtrCount         512827 non-null int64\n",
      "BathFullCount         512827 non-null int64\n",
      "FpSingleStory         512827 non-null int64\n",
      "FpMultiStory          512827 non-null int64\n",
      "FpFreestanding        512827 non-null int64\n",
      "FpAdditional          512827 non-null int64\n",
      "YrBuilt               512827 non-null int64\n",
      "YrRenovated           512827 non-null int64\n",
      "PcntComplete          512827 non-null int64\n",
      "Obsolescence          512827 non-null int64\n",
      "PcntNetCondition      512827 non-null int64\n",
      "Condition             512827 non-null int64\n",
      "AddnlCost             512827 non-null int64\n",
      "dtypes: float64(1), int64(39), object(10)\n",
      "memory usage: 195.6+ MB\n"
     ]
    }
   ],
   "source": [
    "bldg_df.info()"
   ]
  },
  {
   "cell_type": "markdown",
   "metadata": {},
   "source": [
    "### So many features!\n",
    "\n",
    "As data scientists, we should be _very_ cautious about discarding potentially useful data. But, today, we're interested in _only_ the total square footage of each property. What can we do?\n"
   ]
  },
  {
   "cell_type": "code",
   "execution_count": 13,
   "metadata": {},
   "outputs": [],
   "source": [
    "bldg_df = bldg_df[['Major', 'Minor', 'SqFtTotLiving', 'ZipCode']]"
   ]
  },
  {
   "cell_type": "code",
   "execution_count": 14,
   "metadata": {},
   "outputs": [],
   "source": [
    "sales_data = pd.merge(sales_df, bldg_df, on=['Major', 'Minor'])\n",
    "# this actually works now!"
   ]
  },
  {
   "cell_type": "code",
   "execution_count": 15,
   "metadata": {},
   "outputs": [
    {
     "name": "stdout",
     "output_type": "stream",
     "text": [
      "<class 'pandas.core.frame.DataFrame'>\n",
      "Int64Index: 1407235 entries, 0 to 1407234\n",
      "Data columns (total 6 columns):\n",
      "Major            1407235 non-null object\n",
      "Minor            1407235 non-null object\n",
      "DocumentDate     1407235 non-null object\n",
      "SalePrice        1407235 non-null int64\n",
      "SqFtTotLiving    1407235 non-null int64\n",
      "ZipCode          1291909 non-null object\n",
      "dtypes: int64(2), object(4)\n",
      "memory usage: 75.2+ MB\n"
     ]
    }
   ],
   "source": [
    "sales_data.info()"
   ]
  },
  {
   "cell_type": "markdown",
   "metadata": {},
   "source": [
    "### Error!\n",
    "\n",
    "Why are we seeing an error when we try to join the dataframes?\n",
    "\n",
    "<table>\n",
    "    <tr>\n",
    "        <td style=\"text-align:left\"><pre>\n",
    "<class 'pandas.core.frame.DataFrame'>\n",
    "RangeIndex: 2013160 entries, 0 to 2013159\n",
    "Data columns (total 4 columns):\n",
    "Major           object\n",
    "Minor           object\n",
    "DocumentDate    object\n",
    "SalePrice       int64\n",
    "dtypes: int64(1), object(3)\n",
    "memory usage: 61.4+ MB</pre></td>\n",
    "        <td style=\"text-align:left\"><pre>\n",
    "<class 'pandas.core.frame.DataFrame'>\n",
    "RangeIndex: 511359 entries, 0 to 511358\n",
    "Data columns (total 4 columns):\n",
    "Major            511359 non-null int64\n",
    "Minor            511359 non-null int64\n",
    "SqFtTotLiving    511359 non-null int64\n",
    "ZipCode          468345 non-null object\n",
    "dtypes: int64(3), object(1)\n",
    "memory usage: 15.6+ MB\n",
    "</pre></td>\n",
    "    </tr>\n",
    "</table>\n",
    "\n",
    "Review the error message in light of the above:\n",
    "\n",
    "* `ValueError: You are trying to merge on object and int64 columns.`"
   ]
  },
  {
   "cell_type": "markdown",
   "metadata": {},
   "source": [
    "### Error!\n",
    "\n",
    "Note the useful error message above:\n",
    "\n",
    "`ValueError: Unable to parse string \"      \" at position 936643`\n",
    "\n",
    "In this case, we want to treat non-numeric values as missing values. Let's see if there's a way to change how the `pd.to_numeric` function handles errors."
   ]
  },
  {
   "cell_type": "code",
   "execution_count": 16,
   "metadata": {},
   "outputs": [],
   "source": [
    "# The single question mark means \"show me the docstring\"\n",
    "pd.to_numeric?"
   ]
  },
  {
   "cell_type": "markdown",
   "metadata": {},
   "source": [
    "Here's the part that we're looking for:\n",
    "```\n",
    "errors : {'ignore', 'raise', 'coerce'}, default 'raise'\n",
    "    - If 'raise', then invalid parsing will raise an exception\n",
    "    - If 'coerce', then invalid parsing will be set as NaN\n",
    "    - If 'ignore', then invalid parsing will return the input\n",
    "```\n",
    "\n",
    "Let's try setting the `errors` parameter to `'coerce'`."
   ]
  },
  {
   "cell_type": "code",
   "execution_count": 17,
   "metadata": {},
   "outputs": [],
   "source": [
    "sales_df['Major'] = pd.to_numeric(sales_df['Major'], errors='coerce')"
   ]
  },
  {
   "cell_type": "markdown",
   "metadata": {},
   "source": [
    "Did it work?"
   ]
  },
  {
   "cell_type": "code",
   "execution_count": 18,
   "metadata": {},
   "outputs": [
    {
     "name": "stdout",
     "output_type": "stream",
     "text": [
      "<class 'pandas.core.frame.DataFrame'>\n",
      "RangeIndex: 2035819 entries, 0 to 2035818\n",
      "Data columns (total 4 columns):\n",
      "Major           float64\n",
      "Minor           object\n",
      "DocumentDate    object\n",
      "SalePrice       int64\n",
      "dtypes: float64(1), int64(1), object(2)\n",
      "memory usage: 62.1+ MB\n"
     ]
    }
   ],
   "source": [
    "sales_df.info()"
   ]
  },
  {
   "cell_type": "markdown",
   "metadata": {},
   "source": [
    "It worked! Let's do the same thing with the `Minor` parcel number."
   ]
  },
  {
   "cell_type": "code",
   "execution_count": 19,
   "metadata": {},
   "outputs": [],
   "source": [
    "sales_df['Minor'] = pd.to_numeric(sales_df['Minor'], errors='coerce')"
   ]
  },
  {
   "cell_type": "code",
   "execution_count": 20,
   "metadata": {},
   "outputs": [
    {
     "name": "stdout",
     "output_type": "stream",
     "text": [
      "<class 'pandas.core.frame.DataFrame'>\n",
      "RangeIndex: 2035819 entries, 0 to 2035818\n",
      "Data columns (total 4 columns):\n",
      "Major           float64\n",
      "Minor           float64\n",
      "DocumentDate    object\n",
      "SalePrice       int64\n",
      "dtypes: float64(2), int64(1), object(1)\n",
      "memory usage: 62.1+ MB\n"
     ]
    }
   ],
   "source": [
    "sales_df.info()"
   ]
  },
  {
   "cell_type": "markdown",
   "metadata": {},
   "source": [
    "Now, let's try our join again."
   ]
  },
  {
   "cell_type": "code",
   "execution_count": 21,
   "metadata": {},
   "outputs": [],
   "source": [
    "sales_data = pd.merge(sales_df, bldg_df, on=['Major', 'Minor'])"
   ]
  },
  {
   "cell_type": "code",
   "execution_count": 22,
   "metadata": {},
   "outputs": [
    {
     "name": "stdout",
     "output_type": "stream",
     "text": [
      "<class 'pandas.core.frame.DataFrame'>\n",
      "Int64Index: 1453814 entries, 0 to 1453813\n",
      "Data columns (total 6 columns):\n",
      "Major            1453814 non-null float64\n",
      "Minor            1453814 non-null float64\n",
      "DocumentDate     1453814 non-null object\n",
      "SalePrice        1453814 non-null int64\n",
      "SqFtTotLiving    1453814 non-null int64\n",
      "ZipCode          1334823 non-null object\n",
      "dtypes: float64(2), int64(2), object(2)\n",
      "memory usage: 77.6+ MB\n"
     ]
    }
   ],
   "source": [
    "sales_data.info()"
   ]
  },
  {
   "cell_type": "markdown",
   "metadata": {},
   "source": [
    "We can see right away that we're missing zip codes for many of the sales transactions. (1321536 non-null entries for ZipCode is fewer than the 1436772 entries in the dataframe.) "
   ]
  },
  {
   "cell_type": "code",
   "execution_count": 23,
   "metadata": {},
   "outputs": [
    {
     "data": {
      "text/html": [
       "<div>\n",
       "<style scoped>\n",
       "    .dataframe tbody tr th:only-of-type {\n",
       "        vertical-align: middle;\n",
       "    }\n",
       "\n",
       "    .dataframe tbody tr th {\n",
       "        vertical-align: top;\n",
       "    }\n",
       "\n",
       "    .dataframe thead th {\n",
       "        text-align: right;\n",
       "    }\n",
       "</style>\n",
       "<table border=\"1\" class=\"dataframe\">\n",
       "  <thead>\n",
       "    <tr style=\"text-align: right;\">\n",
       "      <th></th>\n",
       "      <th>Major</th>\n",
       "      <th>Minor</th>\n",
       "      <th>DocumentDate</th>\n",
       "      <th>SalePrice</th>\n",
       "      <th>SqFtTotLiving</th>\n",
       "      <th>ZipCode</th>\n",
       "    </tr>\n",
       "  </thead>\n",
       "  <tbody>\n",
       "    <tr>\n",
       "      <th>91</th>\n",
       "      <td>717370.0</td>\n",
       "      <td>350.0</td>\n",
       "      <td>12/01/1997</td>\n",
       "      <td>0</td>\n",
       "      <td>3380</td>\n",
       "      <td>NaN</td>\n",
       "    </tr>\n",
       "    <tr>\n",
       "      <th>92</th>\n",
       "      <td>717370.0</td>\n",
       "      <td>350.0</td>\n",
       "      <td>09/13/2004</td>\n",
       "      <td>300000</td>\n",
       "      <td>3380</td>\n",
       "      <td>NaN</td>\n",
       "    </tr>\n",
       "    <tr>\n",
       "      <th>93</th>\n",
       "      <td>717370.0</td>\n",
       "      <td>350.0</td>\n",
       "      <td>02/06/2006</td>\n",
       "      <td>901000</td>\n",
       "      <td>3380</td>\n",
       "      <td>NaN</td>\n",
       "    </tr>\n",
       "    <tr>\n",
       "      <th>110</th>\n",
       "      <td>277110.0</td>\n",
       "      <td>1923.0</td>\n",
       "      <td>02/08/2007</td>\n",
       "      <td>372500</td>\n",
       "      <td>1000</td>\n",
       "      <td>NaN</td>\n",
       "    </tr>\n",
       "    <tr>\n",
       "      <th>111</th>\n",
       "      <td>277110.0</td>\n",
       "      <td>1923.0</td>\n",
       "      <td>02/08/2007</td>\n",
       "      <td>0</td>\n",
       "      <td>1000</td>\n",
       "      <td>NaN</td>\n",
       "    </tr>\n",
       "  </tbody>\n",
       "</table>\n",
       "</div>"
      ],
      "text/plain": [
       "        Major   Minor DocumentDate  SalePrice  SqFtTotLiving ZipCode\n",
       "91   717370.0   350.0   12/01/1997          0           3380     NaN\n",
       "92   717370.0   350.0   09/13/2004     300000           3380     NaN\n",
       "93   717370.0   350.0   02/06/2006     901000           3380     NaN\n",
       "110  277110.0  1923.0   02/08/2007     372500           1000     NaN\n",
       "111  277110.0  1923.0   02/08/2007          0           1000     NaN"
      ]
     },
     "execution_count": 23,
     "metadata": {},
     "output_type": "execute_result"
    }
   ],
   "source": [
    "sales_data.loc[sales_data['ZipCode'].isna()].head()"
   ]
  },
  {
   "cell_type": "markdown",
   "metadata": {},
   "source": [
    "Because we are interested in finding houses in Seattle zip codes, we will need to drop the rows with missing zip codes."
   ]
  },
  {
   "cell_type": "code",
   "execution_count": 24,
   "metadata": {},
   "outputs": [
    {
     "data": {
      "text/plain": [
       "1334823"
      ]
     },
     "execution_count": 24,
     "metadata": {},
     "output_type": "execute_result"
    }
   ],
   "source": [
    "cleaned_data = sales_data.loc[~sales_data['ZipCode'].isna(), :]\n",
    "len(cleaned_data)"
   ]
  },
  {
   "cell_type": "markdown",
   "metadata": {},
   "source": [
    "# Your turn: Data Cleaning with Pandas\n",
    "![turtletype](https://media3.giphy.com/media/cFdHXXm5GhJsc/giphy.gif?cid=790b76115d3627d8354c7179366b0672&rid=giphy.gif)"
   ]
  },
  {
   "cell_type": "markdown",
   "metadata": {},
   "source": [
    "### 1. Investigate and drop rows with invalid values in the SalePrice and SqFtTotLiving columns.\n",
    "\n",
    "Use multiple notebook cells to accomplish this! Press `[esc]` then `B` to create a new cell below the current cell. Press `[return]` to start typing in the new cell."
   ]
  },
  {
   "cell_type": "code",
   "execution_count": 25,
   "metadata": {},
   "outputs": [
    {
     "data": {
      "text/plain": [
       "<matplotlib.axes._subplots.AxesSubplot at 0x1aa0ff40518>"
      ]
     },
     "execution_count": 25,
     "metadata": {},
     "output_type": "execute_result"
    },
    {
     "data": {
      "image/png": "[encoded data removed]",
      "text/plain": [
       "<Figure size 432x288 with 1 Axes>"
      ]
     },
     "metadata": {
      "needs_background": "light"
     },
     "output_type": "display_data"
    }
   ],
   "source": [
    "#sorted(sales_data[sales_data.SalePrice>0].SalePrice.unique(),reverse = False)# There are a lot of weird values\n",
    "# Maybe just do it above 0 for now. But look at the distribution\n",
    "%matplotlib inline\n",
    "cleaned_data[cleaned_data.SalePrice>0].SalePrice.hist(bins = 100)"
   ]
  },
  {
   "cell_type": "code",
   "execution_count": 26,
   "metadata": {},
   "outputs": [
    {
     "data": {
      "text/plain": [
       "count    8.762540e+05\n",
       "mean     4.347818e+05\n",
       "std      8.861641e+05\n",
       "min      1.000000e+00\n",
       "25%      1.650000e+05\n",
       "50%      2.790000e+05\n",
       "75%      4.582000e+05\n",
       "max      3.750000e+07\n",
       "Name: SalePrice, dtype: float64"
      ]
     },
     "execution_count": 26,
     "metadata": {},
     "output_type": "execute_result"
    }
   ],
   "source": [
    "cleaned_data = cleaned_data.loc[sales_data['SalePrice']>0, :]\n",
    "cleaned_data.SalePrice.describe()"
   ]
  },
  {
   "cell_type": "code",
   "execution_count": 27,
   "metadata": {},
   "outputs": [
    {
     "data": {
      "text/plain": [
       "[37500000,\n",
       " 31200000,\n",
       " 30000000,\n",
       " 27920653,\n",
       " 26797000,\n",
       " 26750000,\n",
       " 24500000,\n",
       " 23250000,\n",
       " 22000000,\n",
       " 21840000]"
      ]
     },
     "execution_count": 27,
     "metadata": {},
     "output_type": "execute_result"
    }
   ],
   "source": [
    "sorted(cleaned_data.SalePrice.unique(),reverse = True)[:10]"
   ]
  },
  {
   "cell_type": "code",
   "execution_count": 28,
   "metadata": {},
   "outputs": [
    {
     "data": {
      "text/plain": [
       "<matplotlib.axes._subplots.AxesSubplot at 0x1aa10c2efd0>"
      ]
     },
     "execution_count": 28,
     "metadata": {},
     "output_type": "execute_result"
    },
    {
     "data": {
      "image/png": "[encoded data removed]",
      "text/plain": [
       "<Figure size 432x288 with 1 Axes>"
      ]
     },
     "metadata": {
      "needs_background": "light"
     },
     "output_type": "display_data"
    }
   ],
   "source": [
    "cleaned_data[cleaned_data.SqFtTotLiving>0].SqFtTotLiving.hist(bins = 100)"
   ]
  },
  {
   "cell_type": "code",
   "execution_count": 29,
   "metadata": {},
   "outputs": [
    {
     "data": {
      "text/plain": [
       "count    876246.000000\n",
       "mean       2105.204892\n",
       "std         949.603396\n",
       "min           1.000000\n",
       "25%        1450.000000\n",
       "50%        1950.000000\n",
       "75%        2570.000000\n",
       "max       48160.000000\n",
       "Name: SqFtTotLiving, dtype: float64"
      ]
     },
     "execution_count": 29,
     "metadata": {},
     "output_type": "execute_result"
    }
   ],
   "source": [
    "cleaned_data = cleaned_data.loc[cleaned_data['SqFtTotLiving']>0, :]\n",
    "cleaned_data.SqFtTotLiving.describe()"
   ]
  },
  {
   "cell_type": "code",
   "execution_count": 30,
   "metadata": {},
   "outputs": [
    {
     "data": {
      "text/plain": [
       "876246"
      ]
     },
     "execution_count": 30,
     "metadata": {},
     "output_type": "execute_result"
    }
   ],
   "source": [
    "len(cleaned_data)"
   ]
  },
  {
   "cell_type": "code",
   "execution_count": 31,
   "metadata": {},
   "outputs": [
    {
     "data": {
      "text/plain": [
       "[1, 2, 3, 70, 100, 120, 140, 160, 170, 180]"
      ]
     },
     "execution_count": 31,
     "metadata": {},
     "output_type": "execute_result"
    }
   ],
   "source": [
    "sorted(cleaned_data.SqFtTotLiving.unique(),reverse = False)[:10]"
   ]
  },
  {
   "cell_type": "code",
   "execution_count": 32,
   "metadata": {},
   "outputs": [
    {
     "data": {
      "text/html": [
       "<div>\n",
       "<style scoped>\n",
       "    .dataframe tbody tr th:only-of-type {\n",
       "        vertical-align: middle;\n",
       "    }\n",
       "\n",
       "    .dataframe tbody tr th {\n",
       "        vertical-align: top;\n",
       "    }\n",
       "\n",
       "    .dataframe thead th {\n",
       "        text-align: right;\n",
       "    }\n",
       "</style>\n",
       "<table border=\"1\" class=\"dataframe\">\n",
       "  <thead>\n",
       "    <tr style=\"text-align: right;\">\n",
       "      <th></th>\n",
       "      <th>Major</th>\n",
       "      <th>Minor</th>\n",
       "      <th>DocumentDate</th>\n",
       "      <th>SalePrice</th>\n",
       "      <th>SqFtTotLiving</th>\n",
       "      <th>ZipCode</th>\n",
       "    </tr>\n",
       "  </thead>\n",
       "  <tbody>\n",
       "    <tr>\n",
       "      <th>922289</th>\n",
       "      <td>560600.0</td>\n",
       "      <td>350.0</td>\n",
       "      <td>03/06/1989</td>\n",
       "      <td>220000</td>\n",
       "      <td>1</td>\n",
       "      <td>98105</td>\n",
       "    </tr>\n",
       "    <tr>\n",
       "      <th>922291</th>\n",
       "      <td>560600.0</td>\n",
       "      <td>350.0</td>\n",
       "      <td>04/28/2010</td>\n",
       "      <td>750000</td>\n",
       "      <td>1</td>\n",
       "      <td>98105</td>\n",
       "    </tr>\n",
       "  </tbody>\n",
       "</table>\n",
       "</div>"
      ],
      "text/plain": [
       "           Major  Minor DocumentDate  SalePrice  SqFtTotLiving ZipCode\n",
       "922289  560600.0  350.0   03/06/1989     220000              1   98105\n",
       "922291  560600.0  350.0   04/28/2010     750000              1   98105"
      ]
     },
     "execution_count": 32,
     "metadata": {},
     "output_type": "execute_result"
    }
   ],
   "source": [
    "# Are these weird values correlated?\n",
    "cleaned_data[cleaned_data.SqFtTotLiving==1]"
   ]
  },
  {
   "cell_type": "markdown",
   "metadata": {},
   "source": [
    "### 2. Investigate and handle non-numeric ZipCode values\n",
    "\n",
    "Can you find a way to shorten ZIP+4 codes to the first five digits?\n",
    "\n",
    "What's the right thing to do with missing values?"
   ]
  },
  {
   "cell_type": "code",
   "execution_count": 33,
   "metadata": {},
   "outputs": [
    {
     "data": {
      "text/plain": [
       "13522    98031-3173\n",
       "13842    98042-3001\n",
       "13843    98042-3001\n",
       "13844    98042-3001\n",
       "13845    98042-3001\n",
       "Name: ZipCode, dtype: object"
      ]
     },
     "execution_count": 33,
     "metadata": {},
     "output_type": "execute_result"
    }
   ],
   "source": [
    "# Read the error message and decide how to fix it.\n",
    "# Note: using errors='coerce' is the *wrong* choice in this case.\n",
    "def is_integer(x):\n",
    "    try:\n",
    "        _ = int(x)\n",
    "    except ValueError:\n",
    "        return False\n",
    "    return True\n",
    "\n",
    "cleaned_data.loc[cleaned_data['ZipCode'].apply(is_integer) == False, 'ZipCode'].head()"
   ]
  },
  {
   "cell_type": "code",
   "execution_count": 34,
   "metadata": {},
   "outputs": [
    {
     "data": {
      "text/plain": [
       "876246"
      ]
     },
     "execution_count": 34,
     "metadata": {},
     "output_type": "execute_result"
    }
   ],
   "source": [
    "len(cleaned_data)"
   ]
  },
  {
   "cell_type": "code",
   "execution_count": 35,
   "metadata": {},
   "outputs": [
    {
     "data": {
      "text/plain": [
       "array([<class 'str'>], dtype=object)"
      ]
     },
     "execution_count": 35,
     "metadata": {},
     "output_type": "execute_result"
    }
   ],
   "source": [
    "cleaned_data['ZipCode'] = cleaned_data['ZipCode'].map(str)# is this working?\n",
    "cleaned_data.ZipCode.map(type).unique()#yes"
   ]
  },
  {
   "cell_type": "code",
   "execution_count": 36,
   "metadata": {},
   "outputs": [
    {
     "data": {
      "text/plain": [
       "array([ 5,  7, 10,  4,  1,  8,  2,  9], dtype=int64)"
      ]
     },
     "execution_count": 36,
     "metadata": {},
     "output_type": "execute_result"
    }
   ],
   "source": [
    "cleaned_data['ZipCode'].map(len).unique()"
   ]
  },
  {
   "cell_type": "code",
   "execution_count": 37,
   "metadata": {},
   "outputs": [],
   "source": [
    "cleaned_data['ZipCode'] = cleaned_data['ZipCode'].map(lambda x: x[:5])"
   ]
  },
  {
   "cell_type": "code",
   "execution_count": 38,
   "metadata": {},
   "outputs": [
    {
     "data": {
      "text/plain": [
       "array([5, 4, 1, 2], dtype=int64)"
      ]
     },
     "execution_count": 38,
     "metadata": {},
     "output_type": "execute_result"
    }
   ],
   "source": [
    "cleaned_data['ZipCode'].map(len).unique()\n",
    "# remove shorter zip codes? how?"
   ]
  },
  {
   "cell_type": "code",
   "execution_count": 39,
   "metadata": {},
   "outputs": [
    {
     "data": {
      "text/plain": [
       "876246"
      ]
     },
     "execution_count": 39,
     "metadata": {},
     "output_type": "execute_result"
    }
   ],
   "source": [
    "len(cleaned_data)"
   ]
  },
  {
   "cell_type": "markdown",
   "metadata": {},
   "source": [
    "### 3. Add a column for PricePerSqFt\n",
    "\n"
   ]
  },
  {
   "cell_type": "code",
   "execution_count": 40,
   "metadata": {},
   "outputs": [],
   "source": [
    "cleaned_data['PricePerSqFt'] = cleaned_data.SalePrice/cleaned_data.SqFtTotLiving"
   ]
  },
  {
   "cell_type": "markdown",
   "metadata": {},
   "source": [
    "### 4. Subset the data to 2019 sales only.\n",
    "\n",
    "We can assume that the DocumentDate is approximately the sale date."
   ]
  },
  {
   "cell_type": "code",
   "execution_count": 41,
   "metadata": {},
   "outputs": [],
   "source": [
    "cleaned_data2019 = cleaned_data[cleaned_data['DocumentDate'].map(lambda x: '2019' in x)]"
   ]
  },
  {
   "cell_type": "code",
   "execution_count": 42,
   "metadata": {},
   "outputs": [
    {
     "data": {
      "text/plain": [
       "12642"
      ]
     },
     "execution_count": 42,
     "metadata": {},
     "output_type": "execute_result"
    }
   ],
   "source": [
    "len(cleaned_data2019)"
   ]
  },
  {
   "cell_type": "markdown",
   "metadata": {},
   "source": [
    "### 5. Subset the data to zip codes within the City of Seattle.\n",
    "\n",
    "You'll need to find a list of Seattle zip codes!"
   ]
  },
  {
   "cell_type": "code",
   "execution_count": 43,
   "metadata": {},
   "outputs": [
    {
     "data": {
      "text/html": [
       "<div>\n",
       "<style scoped>\n",
       "    .dataframe tbody tr th:only-of-type {\n",
       "        vertical-align: middle;\n",
       "    }\n",
       "\n",
       "    .dataframe tbody tr th {\n",
       "        vertical-align: top;\n",
       "    }\n",
       "\n",
       "    .dataframe thead th {\n",
       "        text-align: right;\n",
       "    }\n",
       "</style>\n",
       "<table border=\"1\" class=\"dataframe\">\n",
       "  <thead>\n",
       "    <tr style=\"text-align: right;\">\n",
       "      <th></th>\n",
       "      <th>ZipCode</th>\n",
       "    </tr>\n",
       "  </thead>\n",
       "  <tbody>\n",
       "    <tr>\n",
       "      <th>0</th>\n",
       "      <td>98101</td>\n",
       "    </tr>\n",
       "    <tr>\n",
       "      <th>1</th>\n",
       "      <td>98102</td>\n",
       "    </tr>\n",
       "    <tr>\n",
       "      <th>2</th>\n",
       "      <td>98103</td>\n",
       "    </tr>\n",
       "    <tr>\n",
       "      <th>3</th>\n",
       "      <td>98104</td>\n",
       "    </tr>\n",
       "    <tr>\n",
       "      <th>4</th>\n",
       "      <td>98105</td>\n",
       "    </tr>\n",
       "    <tr>\n",
       "      <th>5</th>\n",
       "      <td>98106</td>\n",
       "    </tr>\n",
       "    <tr>\n",
       "      <th>6</th>\n",
       "      <td>98107</td>\n",
       "    </tr>\n",
       "    <tr>\n",
       "      <th>7</th>\n",
       "      <td>98108</td>\n",
       "    </tr>\n",
       "    <tr>\n",
       "      <th>8</th>\n",
       "      <td>98109</td>\n",
       "    </tr>\n",
       "    <tr>\n",
       "      <th>9</th>\n",
       "      <td>98112</td>\n",
       "    </tr>\n",
       "    <tr>\n",
       "      <th>10</th>\n",
       "      <td>98115</td>\n",
       "    </tr>\n",
       "    <tr>\n",
       "      <th>11</th>\n",
       "      <td>98116</td>\n",
       "    </tr>\n",
       "    <tr>\n",
       "      <th>12</th>\n",
       "      <td>98117</td>\n",
       "    </tr>\n",
       "    <tr>\n",
       "      <th>13</th>\n",
       "      <td>98118</td>\n",
       "    </tr>\n",
       "    <tr>\n",
       "      <th>14</th>\n",
       "      <td>98119</td>\n",
       "    </tr>\n",
       "    <tr>\n",
       "      <th>15</th>\n",
       "      <td>98121</td>\n",
       "    </tr>\n",
       "    <tr>\n",
       "      <th>16</th>\n",
       "      <td>98122</td>\n",
       "    </tr>\n",
       "    <tr>\n",
       "      <th>17</th>\n",
       "      <td>98125</td>\n",
       "    </tr>\n",
       "    <tr>\n",
       "      <th>18</th>\n",
       "      <td>98126</td>\n",
       "    </tr>\n",
       "    <tr>\n",
       "      <th>19</th>\n",
       "      <td>98133</td>\n",
       "    </tr>\n",
       "    <tr>\n",
       "      <th>20</th>\n",
       "      <td>98134</td>\n",
       "    </tr>\n",
       "    <tr>\n",
       "      <th>21</th>\n",
       "      <td>98136</td>\n",
       "    </tr>\n",
       "    <tr>\n",
       "      <th>22</th>\n",
       "      <td>98144</td>\n",
       "    </tr>\n",
       "    <tr>\n",
       "      <th>23</th>\n",
       "      <td>98146</td>\n",
       "    </tr>\n",
       "    <tr>\n",
       "      <th>24</th>\n",
       "      <td>98154</td>\n",
       "    </tr>\n",
       "    <tr>\n",
       "      <th>25</th>\n",
       "      <td>98164</td>\n",
       "    </tr>\n",
       "    <tr>\n",
       "      <th>26</th>\n",
       "      <td>98174</td>\n",
       "    </tr>\n",
       "    <tr>\n",
       "      <th>27</th>\n",
       "      <td>98177</td>\n",
       "    </tr>\n",
       "    <tr>\n",
       "      <th>28</th>\n",
       "      <td>98178</td>\n",
       "    </tr>\n",
       "    <tr>\n",
       "      <th>29</th>\n",
       "      <td>98195</td>\n",
       "    </tr>\n",
       "    <tr>\n",
       "      <th>30</th>\n",
       "      <td>98199</td>\n",
       "    </tr>\n",
       "  </tbody>\n",
       "</table>\n",
       "</div>"
      ],
      "text/plain": [
       "    ZipCode\n",
       "0     98101\n",
       "1     98102\n",
       "2     98103\n",
       "3     98104\n",
       "4     98105\n",
       "5     98106\n",
       "6     98107\n",
       "7     98108\n",
       "8     98109\n",
       "9     98112\n",
       "10    98115\n",
       "11    98116\n",
       "12    98117\n",
       "13    98118\n",
       "14    98119\n",
       "15    98121\n",
       "16    98122\n",
       "17    98125\n",
       "18    98126\n",
       "19    98133\n",
       "20    98134\n",
       "21    98136\n",
       "22    98144\n",
       "23    98146\n",
       "24    98154\n",
       "25    98164\n",
       "26    98174\n",
       "27    98177\n",
       "28    98178\n",
       "29    98195\n",
       "30    98199"
      ]
     },
     "execution_count": 43,
     "metadata": {},
     "output_type": "execute_result"
    }
   ],
   "source": [
    "seattle_zips = pd.DataFrame(zipcodes,columns = ['ZipCode'])\n",
    "seattle_zips"
   ]
  },
  {
   "cell_type": "code",
   "execution_count": 44,
   "metadata": {},
   "outputs": [],
   "source": [
    "# seattle_property = cleaned_data2019.merge(seattle_zips,on='ZipCode',how = 'inner')\n",
    "# this isn't working because you are trying to merge on two different data types"
   ]
  },
  {
   "cell_type": "code",
   "execution_count": 45,
   "metadata": {},
   "outputs": [
    {
     "data": {
      "text/plain": [
       "array([<class 'str'>], dtype=object)"
      ]
     },
     "execution_count": 45,
     "metadata": {},
     "output_type": "execute_result"
    }
   ],
   "source": [
    "cleaned_data2019.ZipCode.map(type).unique()"
   ]
  },
  {
   "cell_type": "code",
   "execution_count": 46,
   "metadata": {},
   "outputs": [
    {
     "data": {
      "text/plain": [
       "array([<class 'int'>], dtype=object)"
      ]
     },
     "execution_count": 46,
     "metadata": {},
     "output_type": "execute_result"
    }
   ],
   "source": [
    "seattle_zips.ZipCode.map(type).unique()"
   ]
  },
  {
   "cell_type": "code",
   "execution_count": 47,
   "metadata": {},
   "outputs": [
    {
     "name": "stdout",
     "output_type": "stream",
     "text": [
      "<class 'pandas.core.frame.DataFrame'>\n",
      "RangeIndex: 31 entries, 0 to 30\n",
      "Data columns (total 1 columns):\n",
      "ZipCode    31 non-null object\n",
      "dtypes: object(1)\n",
      "memory usage: 328.0+ bytes\n"
     ]
    }
   ],
   "source": [
    "seattle_zips = seattle_zips.astype(str)\n",
    "seattle_zips.info()\n",
    "#cleaned_data2019.ZipCode.map(type)"
   ]
  },
  {
   "cell_type": "code",
   "execution_count": 48,
   "metadata": {},
   "outputs": [],
   "source": [
    "seattle_property = cleaned_data2019.merge(seattle_zips,on='ZipCode',how = 'inner')"
   ]
  },
  {
   "cell_type": "code",
   "execution_count": 49,
   "metadata": {
    "scrolled": true
   },
   "outputs": [
    {
     "name": "stdout",
     "output_type": "stream",
     "text": [
      "<class 'pandas.core.frame.DataFrame'>\n",
      "Int64Index: 4319 entries, 0 to 4318\n",
      "Data columns (total 7 columns):\n",
      "Major            4319 non-null float64\n",
      "Minor            4319 non-null float64\n",
      "DocumentDate     4319 non-null object\n",
      "SalePrice        4319 non-null int64\n",
      "SqFtTotLiving    4319 non-null int64\n",
      "ZipCode          4319 non-null object\n",
      "PricePerSqFt     4319 non-null float64\n",
      "dtypes: float64(3), int64(2), object(2)\n",
      "memory usage: 269.9+ KB\n"
     ]
    }
   ],
   "source": [
    "seattle_property.info()"
   ]
  },
  {
   "cell_type": "code",
   "execution_count": 50,
   "metadata": {},
   "outputs": [
    {
     "data": {
      "text/html": [
       "<div>\n",
       "<style scoped>\n",
       "    .dataframe tbody tr th:only-of-type {\n",
       "        vertical-align: middle;\n",
       "    }\n",
       "\n",
       "    .dataframe tbody tr th {\n",
       "        vertical-align: top;\n",
       "    }\n",
       "\n",
       "    .dataframe thead th {\n",
       "        text-align: right;\n",
       "    }\n",
       "</style>\n",
       "<table border=\"1\" class=\"dataframe\">\n",
       "  <thead>\n",
       "    <tr style=\"text-align: right;\">\n",
       "      <th></th>\n",
       "      <th>Major</th>\n",
       "      <th>Minor</th>\n",
       "      <th>DocumentDate</th>\n",
       "      <th>SalePrice</th>\n",
       "      <th>SqFtTotLiving</th>\n",
       "      <th>ZipCode</th>\n",
       "      <th>PricePerSqFt</th>\n",
       "    </tr>\n",
       "  </thead>\n",
       "  <tbody>\n",
       "    <tr>\n",
       "      <th>0</th>\n",
       "      <td>327480.0</td>\n",
       "      <td>560.0</td>\n",
       "      <td>01/18/2019</td>\n",
       "      <td>108560</td>\n",
       "      <td>890</td>\n",
       "      <td>98144</td>\n",
       "      <td>121.977528</td>\n",
       "    </tr>\n",
       "    <tr>\n",
       "      <th>1</th>\n",
       "      <td>367890.0</td>\n",
       "      <td>30.0</td>\n",
       "      <td>03/13/2019</td>\n",
       "      <td>923000</td>\n",
       "      <td>2550</td>\n",
       "      <td>98144</td>\n",
       "      <td>361.960784</td>\n",
       "    </tr>\n",
       "    <tr>\n",
       "      <th>2</th>\n",
       "      <td>765910.0</td>\n",
       "      <td>33.0</td>\n",
       "      <td>05/21/2019</td>\n",
       "      <td>640000</td>\n",
       "      <td>1300</td>\n",
       "      <td>98144</td>\n",
       "      <td>492.307692</td>\n",
       "    </tr>\n",
       "    <tr>\n",
       "      <th>3</th>\n",
       "      <td>872810.0</td>\n",
       "      <td>750.0</td>\n",
       "      <td>05/08/2019</td>\n",
       "      <td>768000</td>\n",
       "      <td>1440</td>\n",
       "      <td>98144</td>\n",
       "      <td>533.333333</td>\n",
       "    </tr>\n",
       "    <tr>\n",
       "      <th>4</th>\n",
       "      <td>754830.0</td>\n",
       "      <td>320.0</td>\n",
       "      <td>04/28/2019</td>\n",
       "      <td>490000</td>\n",
       "      <td>1038</td>\n",
       "      <td>98144</td>\n",
       "      <td>472.061657</td>\n",
       "    </tr>\n",
       "    <tr>\n",
       "      <th>5</th>\n",
       "      <td>983420.0</td>\n",
       "      <td>995.0</td>\n",
       "      <td>03/13/2019</td>\n",
       "      <td>667000</td>\n",
       "      <td>1070</td>\n",
       "      <td>98144</td>\n",
       "      <td>623.364486</td>\n",
       "    </tr>\n",
       "    <tr>\n",
       "      <th>6</th>\n",
       "      <td>159660.0</td>\n",
       "      <td>50.0</td>\n",
       "      <td>04/29/2019</td>\n",
       "      <td>610000</td>\n",
       "      <td>2380</td>\n",
       "      <td>98144</td>\n",
       "      <td>256.302521</td>\n",
       "    </tr>\n",
       "    <tr>\n",
       "      <th>7</th>\n",
       "      <td>570000.0</td>\n",
       "      <td>1660.0</td>\n",
       "      <td>03/19/2019</td>\n",
       "      <td>1265000</td>\n",
       "      <td>2890</td>\n",
       "      <td>98144</td>\n",
       "      <td>437.716263</td>\n",
       "    </tr>\n",
       "    <tr>\n",
       "      <th>8</th>\n",
       "      <td>937930.0</td>\n",
       "      <td>55.0</td>\n",
       "      <td>06/14/2019</td>\n",
       "      <td>810000</td>\n",
       "      <td>1790</td>\n",
       "      <td>98144</td>\n",
       "      <td>452.513966</td>\n",
       "    </tr>\n",
       "    <tr>\n",
       "      <th>9</th>\n",
       "      <td>605860.0</td>\n",
       "      <td>285.0</td>\n",
       "      <td>07/02/2019</td>\n",
       "      <td>665000</td>\n",
       "      <td>1320</td>\n",
       "      <td>98144</td>\n",
       "      <td>503.787879</td>\n",
       "    </tr>\n",
       "    <tr>\n",
       "      <th>10</th>\n",
       "      <td>149830.0</td>\n",
       "      <td>2872.0</td>\n",
       "      <td>03/12/2019</td>\n",
       "      <td>615000</td>\n",
       "      <td>1190</td>\n",
       "      <td>98144</td>\n",
       "      <td>516.806723</td>\n",
       "    </tr>\n",
       "    <tr>\n",
       "      <th>11</th>\n",
       "      <td>128230.0</td>\n",
       "      <td>1465.0</td>\n",
       "      <td>02/06/2019</td>\n",
       "      <td>415000</td>\n",
       "      <td>2300</td>\n",
       "      <td>98144</td>\n",
       "      <td>180.434783</td>\n",
       "    </tr>\n",
       "    <tr>\n",
       "      <th>12</th>\n",
       "      <td>56700.0</td>\n",
       "      <td>295.0</td>\n",
       "      <td>03/19/2019</td>\n",
       "      <td>587250</td>\n",
       "      <td>1200</td>\n",
       "      <td>98144</td>\n",
       "      <td>489.375000</td>\n",
       "    </tr>\n",
       "    <tr>\n",
       "      <th>13</th>\n",
       "      <td>125020.0</td>\n",
       "      <td>3095.0</td>\n",
       "      <td>04/19/2019</td>\n",
       "      <td>1311000</td>\n",
       "      <td>2150</td>\n",
       "      <td>98144</td>\n",
       "      <td>609.767442</td>\n",
       "    </tr>\n",
       "    <tr>\n",
       "      <th>14</th>\n",
       "      <td>125020.0</td>\n",
       "      <td>4835.0</td>\n",
       "      <td>04/23/2019</td>\n",
       "      <td>1795000</td>\n",
       "      <td>3330</td>\n",
       "      <td>98144</td>\n",
       "      <td>539.039039</td>\n",
       "    </tr>\n",
       "    <tr>\n",
       "      <th>15</th>\n",
       "      <td>332000.0</td>\n",
       "      <td>405.0</td>\n",
       "      <td>04/11/2019</td>\n",
       "      <td>252000</td>\n",
       "      <td>3250</td>\n",
       "      <td>98144</td>\n",
       "      <td>77.538462</td>\n",
       "    </tr>\n",
       "    <tr>\n",
       "      <th>16</th>\n",
       "      <td>570000.0</td>\n",
       "      <td>3950.0</td>\n",
       "      <td>03/08/2019</td>\n",
       "      <td>1815000</td>\n",
       "      <td>3460</td>\n",
       "      <td>98144</td>\n",
       "      <td>524.566474</td>\n",
       "    </tr>\n",
       "    <tr>\n",
       "      <th>17</th>\n",
       "      <td>125020.0</td>\n",
       "      <td>390.0</td>\n",
       "      <td>02/19/2019</td>\n",
       "      <td>1105000</td>\n",
       "      <td>2020</td>\n",
       "      <td>98144</td>\n",
       "      <td>547.029703</td>\n",
       "    </tr>\n",
       "    <tr>\n",
       "      <th>18</th>\n",
       "      <td>125020.0</td>\n",
       "      <td>390.0</td>\n",
       "      <td>02/19/2019</td>\n",
       "      <td>1105000</td>\n",
       "      <td>1220</td>\n",
       "      <td>98144</td>\n",
       "      <td>905.737705</td>\n",
       "    </tr>\n",
       "    <tr>\n",
       "      <th>19</th>\n",
       "      <td>308600.0</td>\n",
       "      <td>2655.0</td>\n",
       "      <td>04/29/2019</td>\n",
       "      <td>720000</td>\n",
       "      <td>950</td>\n",
       "      <td>98144</td>\n",
       "      <td>757.894737</td>\n",
       "    </tr>\n",
       "    <tr>\n",
       "      <th>20</th>\n",
       "      <td>140030.0</td>\n",
       "      <td>100.0</td>\n",
       "      <td>05/28/2019</td>\n",
       "      <td>775000</td>\n",
       "      <td>2250</td>\n",
       "      <td>98144</td>\n",
       "      <td>344.444444</td>\n",
       "    </tr>\n",
       "    <tr>\n",
       "      <th>21</th>\n",
       "      <td>307950.0</td>\n",
       "      <td>135.0</td>\n",
       "      <td>03/01/2019</td>\n",
       "      <td>755000</td>\n",
       "      <td>2070</td>\n",
       "      <td>98144</td>\n",
       "      <td>364.734300</td>\n",
       "    </tr>\n",
       "    <tr>\n",
       "      <th>22</th>\n",
       "      <td>246090.0</td>\n",
       "      <td>151.0</td>\n",
       "      <td>02/12/2019</td>\n",
       "      <td>945000</td>\n",
       "      <td>2460</td>\n",
       "      <td>98144</td>\n",
       "      <td>384.146341</td>\n",
       "    </tr>\n",
       "    <tr>\n",
       "      <th>23</th>\n",
       "      <td>308300.0</td>\n",
       "      <td>1020.0</td>\n",
       "      <td>02/26/2019</td>\n",
       "      <td>660000</td>\n",
       "      <td>2380</td>\n",
       "      <td>98144</td>\n",
       "      <td>277.310924</td>\n",
       "    </tr>\n",
       "    <tr>\n",
       "      <th>24</th>\n",
       "      <td>327480.0</td>\n",
       "      <td>601.0</td>\n",
       "      <td>06/04/2019</td>\n",
       "      <td>1220000</td>\n",
       "      <td>2000</td>\n",
       "      <td>98144</td>\n",
       "      <td>610.000000</td>\n",
       "    </tr>\n",
       "    <tr>\n",
       "      <th>25</th>\n",
       "      <td>570000.0</td>\n",
       "      <td>2469.0</td>\n",
       "      <td>07/05/2019</td>\n",
       "      <td>825000</td>\n",
       "      <td>1680</td>\n",
       "      <td>98144</td>\n",
       "      <td>491.071429</td>\n",
       "    </tr>\n",
       "    <tr>\n",
       "      <th>26</th>\n",
       "      <td>332000.0</td>\n",
       "      <td>810.0</td>\n",
       "      <td>06/11/2019</td>\n",
       "      <td>770995</td>\n",
       "      <td>1680</td>\n",
       "      <td>98144</td>\n",
       "      <td>458.925595</td>\n",
       "    </tr>\n",
       "    <tr>\n",
       "      <th>27</th>\n",
       "      <td>983420.0</td>\n",
       "      <td>670.0</td>\n",
       "      <td>07/09/2019</td>\n",
       "      <td>775000</td>\n",
       "      <td>1100</td>\n",
       "      <td>98144</td>\n",
       "      <td>704.545455</td>\n",
       "    </tr>\n",
       "    <tr>\n",
       "      <th>28</th>\n",
       "      <td>327480.0</td>\n",
       "      <td>220.0</td>\n",
       "      <td>03/07/2019</td>\n",
       "      <td>645000</td>\n",
       "      <td>1700</td>\n",
       "      <td>98144</td>\n",
       "      <td>379.411765</td>\n",
       "    </tr>\n",
       "    <tr>\n",
       "      <th>29</th>\n",
       "      <td>149830.0</td>\n",
       "      <td>1880.0</td>\n",
       "      <td>04/19/2019</td>\n",
       "      <td>465000</td>\n",
       "      <td>1120</td>\n",
       "      <td>98144</td>\n",
       "      <td>415.178571</td>\n",
       "    </tr>\n",
       "    <tr>\n",
       "      <th>...</th>\n",
       "      <td>...</td>\n",
       "      <td>...</td>\n",
       "      <td>...</td>\n",
       "      <td>...</td>\n",
       "      <td>...</td>\n",
       "      <td>...</td>\n",
       "      <td>...</td>\n",
       "    </tr>\n",
       "    <tr>\n",
       "      <th>4289</th>\n",
       "      <td>220750.0</td>\n",
       "      <td>220.0</td>\n",
       "      <td>04/05/2019</td>\n",
       "      <td>860000</td>\n",
       "      <td>1440</td>\n",
       "      <td>98102</td>\n",
       "      <td>597.222222</td>\n",
       "    </tr>\n",
       "    <tr>\n",
       "      <th>4290</th>\n",
       "      <td>133630.0</td>\n",
       "      <td>330.0</td>\n",
       "      <td>02/24/2019</td>\n",
       "      <td>1600000</td>\n",
       "      <td>2250</td>\n",
       "      <td>98102</td>\n",
       "      <td>711.111111</td>\n",
       "    </tr>\n",
       "    <tr>\n",
       "      <th>4291</th>\n",
       "      <td>290220.0</td>\n",
       "      <td>662.0</td>\n",
       "      <td>04/16/2019</td>\n",
       "      <td>1099990</td>\n",
       "      <td>1680</td>\n",
       "      <td>98102</td>\n",
       "      <td>654.755952</td>\n",
       "    </tr>\n",
       "    <tr>\n",
       "      <th>4292</th>\n",
       "      <td>266300.0</td>\n",
       "      <td>270.0</td>\n",
       "      <td>04/05/2019</td>\n",
       "      <td>1597600</td>\n",
       "      <td>2860</td>\n",
       "      <td>98102</td>\n",
       "      <td>558.601399</td>\n",
       "    </tr>\n",
       "    <tr>\n",
       "      <th>4293</th>\n",
       "      <td>191210.0</td>\n",
       "      <td>740.0</td>\n",
       "      <td>06/24/2019</td>\n",
       "      <td>795000</td>\n",
       "      <td>1380</td>\n",
       "      <td>98102</td>\n",
       "      <td>576.086957</td>\n",
       "    </tr>\n",
       "    <tr>\n",
       "      <th>4294</th>\n",
       "      <td>600350.0</td>\n",
       "      <td>1375.0</td>\n",
       "      <td>01/15/2019</td>\n",
       "      <td>1650000</td>\n",
       "      <td>1860</td>\n",
       "      <td>98102</td>\n",
       "      <td>887.096774</td>\n",
       "    </tr>\n",
       "    <tr>\n",
       "      <th>4295</th>\n",
       "      <td>220750.0</td>\n",
       "      <td>435.0</td>\n",
       "      <td>01/07/2019</td>\n",
       "      <td>1220000</td>\n",
       "      <td>2550</td>\n",
       "      <td>98102</td>\n",
       "      <td>478.431373</td>\n",
       "    </tr>\n",
       "    <tr>\n",
       "      <th>4296</th>\n",
       "      <td>195220.0</td>\n",
       "      <td>260.0</td>\n",
       "      <td>04/24/2019</td>\n",
       "      <td>344000</td>\n",
       "      <td>600</td>\n",
       "      <td>98102</td>\n",
       "      <td>573.333333</td>\n",
       "    </tr>\n",
       "    <tr>\n",
       "      <th>4297</th>\n",
       "      <td>196220.0</td>\n",
       "      <td>20.0</td>\n",
       "      <td>04/24/2019</td>\n",
       "      <td>1200000</td>\n",
       "      <td>3260</td>\n",
       "      <td>98102</td>\n",
       "      <td>368.098160</td>\n",
       "    </tr>\n",
       "    <tr>\n",
       "      <th>4298</th>\n",
       "      <td>600300.0</td>\n",
       "      <td>1997.0</td>\n",
       "      <td>01/30/2019</td>\n",
       "      <td>915000</td>\n",
       "      <td>1350</td>\n",
       "      <td>98102</td>\n",
       "      <td>677.777778</td>\n",
       "    </tr>\n",
       "    <tr>\n",
       "      <th>4299</th>\n",
       "      <td>290220.0</td>\n",
       "      <td>122.0</td>\n",
       "      <td>06/25/2019</td>\n",
       "      <td>1650000</td>\n",
       "      <td>2750</td>\n",
       "      <td>98102</td>\n",
       "      <td>600.000000</td>\n",
       "    </tr>\n",
       "    <tr>\n",
       "      <th>4300</th>\n",
       "      <td>685270.0</td>\n",
       "      <td>299.0</td>\n",
       "      <td>06/24/2019</td>\n",
       "      <td>945000</td>\n",
       "      <td>1490</td>\n",
       "      <td>98102</td>\n",
       "      <td>634.228188</td>\n",
       "    </tr>\n",
       "    <tr>\n",
       "      <th>4301</th>\n",
       "      <td>983120.0</td>\n",
       "      <td>85.0</td>\n",
       "      <td>06/20/2019</td>\n",
       "      <td>1360000</td>\n",
       "      <td>2210</td>\n",
       "      <td>98102</td>\n",
       "      <td>615.384615</td>\n",
       "    </tr>\n",
       "    <tr>\n",
       "      <th>4302</th>\n",
       "      <td>290220.0</td>\n",
       "      <td>186.0</td>\n",
       "      <td>06/04/2019</td>\n",
       "      <td>975000</td>\n",
       "      <td>450</td>\n",
       "      <td>98102</td>\n",
       "      <td>2166.666667</td>\n",
       "    </tr>\n",
       "    <tr>\n",
       "      <th>4303</th>\n",
       "      <td>290220.0</td>\n",
       "      <td>186.0</td>\n",
       "      <td>06/04/2019</td>\n",
       "      <td>975000</td>\n",
       "      <td>1440</td>\n",
       "      <td>98102</td>\n",
       "      <td>677.083333</td>\n",
       "    </tr>\n",
       "    <tr>\n",
       "      <th>4304</th>\n",
       "      <td>290220.0</td>\n",
       "      <td>415.0</td>\n",
       "      <td>06/20/2019</td>\n",
       "      <td>1150000</td>\n",
       "      <td>1960</td>\n",
       "      <td>98102</td>\n",
       "      <td>586.734694</td>\n",
       "    </tr>\n",
       "    <tr>\n",
       "      <th>4305</th>\n",
       "      <td>133630.0</td>\n",
       "      <td>325.0</td>\n",
       "      <td>01/03/2019</td>\n",
       "      <td>1300000</td>\n",
       "      <td>2770</td>\n",
       "      <td>98102</td>\n",
       "      <td>469.314079</td>\n",
       "    </tr>\n",
       "    <tr>\n",
       "      <th>4306</th>\n",
       "      <td>133630.0</td>\n",
       "      <td>325.0</td>\n",
       "      <td>01/03/2019</td>\n",
       "      <td>360000</td>\n",
       "      <td>2770</td>\n",
       "      <td>98102</td>\n",
       "      <td>129.963899</td>\n",
       "    </tr>\n",
       "    <tr>\n",
       "      <th>4307</th>\n",
       "      <td>220750.0</td>\n",
       "      <td>910.0</td>\n",
       "      <td>01/10/2019</td>\n",
       "      <td>1350000</td>\n",
       "      <td>1770</td>\n",
       "      <td>98102</td>\n",
       "      <td>762.711864</td>\n",
       "    </tr>\n",
       "    <tr>\n",
       "      <th>4308</th>\n",
       "      <td>195970.0</td>\n",
       "      <td>1115.0</td>\n",
       "      <td>01/21/2019</td>\n",
       "      <td>1050000</td>\n",
       "      <td>1440</td>\n",
       "      <td>98102</td>\n",
       "      <td>729.166667</td>\n",
       "    </tr>\n",
       "    <tr>\n",
       "      <th>4309</th>\n",
       "      <td>133630.0</td>\n",
       "      <td>155.0</td>\n",
       "      <td>04/02/2019</td>\n",
       "      <td>1524500</td>\n",
       "      <td>2830</td>\n",
       "      <td>98102</td>\n",
       "      <td>538.692580</td>\n",
       "    </tr>\n",
       "    <tr>\n",
       "      <th>4310</th>\n",
       "      <td>113000.0</td>\n",
       "      <td>80.0</td>\n",
       "      <td>05/14/2019</td>\n",
       "      <td>2130000</td>\n",
       "      <td>4340</td>\n",
       "      <td>98102</td>\n",
       "      <td>490.783410</td>\n",
       "    </tr>\n",
       "    <tr>\n",
       "      <th>4311</th>\n",
       "      <td>202504.0</td>\n",
       "      <td>9089.0</td>\n",
       "      <td>01/29/2019</td>\n",
       "      <td>1050000</td>\n",
       "      <td>1690</td>\n",
       "      <td>98102</td>\n",
       "      <td>621.301775</td>\n",
       "    </tr>\n",
       "    <tr>\n",
       "      <th>4312</th>\n",
       "      <td>685170.0</td>\n",
       "      <td>326.0</td>\n",
       "      <td>02/19/2019</td>\n",
       "      <td>990000</td>\n",
       "      <td>1630</td>\n",
       "      <td>98102</td>\n",
       "      <td>607.361963</td>\n",
       "    </tr>\n",
       "    <tr>\n",
       "      <th>4313</th>\n",
       "      <td>191210.0</td>\n",
       "      <td>1030.0</td>\n",
       "      <td>06/24/2019</td>\n",
       "      <td>1625000</td>\n",
       "      <td>2780</td>\n",
       "      <td>98102</td>\n",
       "      <td>584.532374</td>\n",
       "    </tr>\n",
       "    <tr>\n",
       "      <th>4314</th>\n",
       "      <td>948870.0</td>\n",
       "      <td>75.0</td>\n",
       "      <td>06/17/2019</td>\n",
       "      <td>1400000</td>\n",
       "      <td>2220</td>\n",
       "      <td>98102</td>\n",
       "      <td>630.630631</td>\n",
       "    </tr>\n",
       "    <tr>\n",
       "      <th>4315</th>\n",
       "      <td>684820.0</td>\n",
       "      <td>411.0</td>\n",
       "      <td>06/27/2019</td>\n",
       "      <td>1574250</td>\n",
       "      <td>1520</td>\n",
       "      <td>98102</td>\n",
       "      <td>1035.690789</td>\n",
       "    </tr>\n",
       "    <tr>\n",
       "      <th>4316</th>\n",
       "      <td>669950.0</td>\n",
       "      <td>45.0</td>\n",
       "      <td>06/17/2019</td>\n",
       "      <td>1590000</td>\n",
       "      <td>3930</td>\n",
       "      <td>98102</td>\n",
       "      <td>404.580153</td>\n",
       "    </tr>\n",
       "    <tr>\n",
       "      <th>4317</th>\n",
       "      <td>216390.0</td>\n",
       "      <td>57.0</td>\n",
       "      <td>01/18/2019</td>\n",
       "      <td>640000</td>\n",
       "      <td>840</td>\n",
       "      <td>98102</td>\n",
       "      <td>761.904762</td>\n",
       "    </tr>\n",
       "    <tr>\n",
       "      <th>4318</th>\n",
       "      <td>539560.0</td>\n",
       "      <td>5.0</td>\n",
       "      <td>01/09/2019</td>\n",
       "      <td>660000</td>\n",
       "      <td>1740</td>\n",
       "      <td>98134</td>\n",
       "      <td>379.310345</td>\n",
       "    </tr>\n",
       "  </tbody>\n",
       "</table>\n",
       "<p>4319 rows × 7 columns</p>\n",
       "</div>"
      ],
      "text/plain": [
       "         Major   Minor DocumentDate  SalePrice  SqFtTotLiving ZipCode  \\\n",
       "0     327480.0   560.0   01/18/2019     108560            890   98144   \n",
       "1     367890.0    30.0   03/13/2019     923000           2550   98144   \n",
       "2     765910.0    33.0   05/21/2019     640000           1300   98144   \n",
       "3     872810.0   750.0   05/08/2019     768000           1440   98144   \n",
       "4     754830.0   320.0   04/28/2019     490000           1038   98144   \n",
       "5     983420.0   995.0   03/13/2019     667000           1070   98144   \n",
       "6     159660.0    50.0   04/29/2019     610000           2380   98144   \n",
       "7     570000.0  1660.0   03/19/2019    1265000           2890   98144   \n",
       "8     937930.0    55.0   06/14/2019     810000           1790   98144   \n",
       "9     605860.0   285.0   07/02/2019     665000           1320   98144   \n",
       "10    149830.0  2872.0   03/12/2019     615000           1190   98144   \n",
       "11    128230.0  1465.0   02/06/2019     415000           2300   98144   \n",
       "12     56700.0   295.0   03/19/2019     587250           1200   98144   \n",
       "13    125020.0  3095.0   04/19/2019    1311000           2150   98144   \n",
       "14    125020.0  4835.0   04/23/2019    1795000           3330   98144   \n",
       "15    332000.0   405.0   04/11/2019     252000           3250   98144   \n",
       "16    570000.0  3950.0   03/08/2019    1815000           3460   98144   \n",
       "17    125020.0   390.0   02/19/2019    1105000           2020   98144   \n",
       "18    125020.0   390.0   02/19/2019    1105000           1220   98144   \n",
       "19    308600.0  2655.0   04/29/2019     720000            950   98144   \n",
       "20    140030.0   100.0   05/28/2019     775000           2250   98144   \n",
       "21    307950.0   135.0   03/01/2019     755000           2070   98144   \n",
       "22    246090.0   151.0   02/12/2019     945000           2460   98144   \n",
       "23    308300.0  1020.0   02/26/2019     660000           2380   98144   \n",
       "24    327480.0   601.0   06/04/2019    1220000           2000   98144   \n",
       "25    570000.0  2469.0   07/05/2019     825000           1680   98144   \n",
       "26    332000.0   810.0   06/11/2019     770995           1680   98144   \n",
       "27    983420.0   670.0   07/09/2019     775000           1100   98144   \n",
       "28    327480.0   220.0   03/07/2019     645000           1700   98144   \n",
       "29    149830.0  1880.0   04/19/2019     465000           1120   98144   \n",
       "...        ...     ...          ...        ...            ...     ...   \n",
       "4289  220750.0   220.0   04/05/2019     860000           1440   98102   \n",
       "4290  133630.0   330.0   02/24/2019    1600000           2250   98102   \n",
       "4291  290220.0   662.0   04/16/2019    1099990           1680   98102   \n",
       "4292  266300.0   270.0   04/05/2019    1597600           2860   98102   \n",
       "4293  191210.0   740.0   06/24/2019     795000           1380   98102   \n",
       "4294  600350.0  1375.0   01/15/2019    1650000           1860   98102   \n",
       "4295  220750.0   435.0   01/07/2019    1220000           2550   98102   \n",
       "4296  195220.0   260.0   04/24/2019     344000            600   98102   \n",
       "4297  196220.0    20.0   04/24/2019    1200000           3260   98102   \n",
       "4298  600300.0  1997.0   01/30/2019     915000           1350   98102   \n",
       "4299  290220.0   122.0   06/25/2019    1650000           2750   98102   \n",
       "4300  685270.0   299.0   06/24/2019     945000           1490   98102   \n",
       "4301  983120.0    85.0   06/20/2019    1360000           2210   98102   \n",
       "4302  290220.0   186.0   06/04/2019     975000            450   98102   \n",
       "4303  290220.0   186.0   06/04/2019     975000           1440   98102   \n",
       "4304  290220.0   415.0   06/20/2019    1150000           1960   98102   \n",
       "4305  133630.0   325.0   01/03/2019    1300000           2770   98102   \n",
       "4306  133630.0   325.0   01/03/2019     360000           2770   98102   \n",
       "4307  220750.0   910.0   01/10/2019    1350000           1770   98102   \n",
       "4308  195970.0  1115.0   01/21/2019    1050000           1440   98102   \n",
       "4309  133630.0   155.0   04/02/2019    1524500           2830   98102   \n",
       "4310  113000.0    80.0   05/14/2019    2130000           4340   98102   \n",
       "4311  202504.0  9089.0   01/29/2019    1050000           1690   98102   \n",
       "4312  685170.0   326.0   02/19/2019     990000           1630   98102   \n",
       "4313  191210.0  1030.0   06/24/2019    1625000           2780   98102   \n",
       "4314  948870.0    75.0   06/17/2019    1400000           2220   98102   \n",
       "4315  684820.0   411.0   06/27/2019    1574250           1520   98102   \n",
       "4316  669950.0    45.0   06/17/2019    1590000           3930   98102   \n",
       "4317  216390.0    57.0   01/18/2019     640000            840   98102   \n",
       "4318  539560.0     5.0   01/09/2019     660000           1740   98134   \n",
       "\n",
       "      PricePerSqFt  \n",
       "0       121.977528  \n",
       "1       361.960784  \n",
       "2       492.307692  \n",
       "3       533.333333  \n",
       "4       472.061657  \n",
       "5       623.364486  \n",
       "6       256.302521  \n",
       "7       437.716263  \n",
       "8       452.513966  \n",
       "9       503.787879  \n",
       "10      516.806723  \n",
       "11      180.434783  \n",
       "12      489.375000  \n",
       "13      609.767442  \n",
       "14      539.039039  \n",
       "15       77.538462  \n",
       "16      524.566474  \n",
       "17      547.029703  \n",
       "18      905.737705  \n",
       "19      757.894737  \n",
       "20      344.444444  \n",
       "21      364.734300  \n",
       "22      384.146341  \n",
       "23      277.310924  \n",
       "24      610.000000  \n",
       "25      491.071429  \n",
       "26      458.925595  \n",
       "27      704.545455  \n",
       "28      379.411765  \n",
       "29      415.178571  \n",
       "...            ...  \n",
       "4289    597.222222  \n",
       "4290    711.111111  \n",
       "4291    654.755952  \n",
       "4292    558.601399  \n",
       "4293    576.086957  \n",
       "4294    887.096774  \n",
       "4295    478.431373  \n",
       "4296    573.333333  \n",
       "4297    368.098160  \n",
       "4298    677.777778  \n",
       "4299    600.000000  \n",
       "4300    634.228188  \n",
       "4301    615.384615  \n",
       "4302   2166.666667  \n",
       "4303    677.083333  \n",
       "4304    586.734694  \n",
       "4305    469.314079  \n",
       "4306    129.963899  \n",
       "4307    762.711864  \n",
       "4308    729.166667  \n",
       "4309    538.692580  \n",
       "4310    490.783410  \n",
       "4311    621.301775  \n",
       "4312    607.361963  \n",
       "4313    584.532374  \n",
       "4314    630.630631  \n",
       "4315   1035.690789  \n",
       "4316    404.580153  \n",
       "4317    761.904762  \n",
       "4318    379.310345  \n",
       "\n",
       "[4319 rows x 7 columns]"
      ]
     },
     "execution_count": 50,
     "metadata": {},
     "output_type": "execute_result"
    }
   ],
   "source": [
    "seattle_property"
   ]
  },
  {
   "cell_type": "markdown",
   "metadata": {},
   "source": [
    "### 6. What is the mean price per square foot for a house sold in Seattle in 2019?\n",
    "\n",
    "Don't just type the answer. Type code that generates the answer as output!"
   ]
  },
  {
   "cell_type": "code",
   "execution_count": 51,
   "metadata": {},
   "outputs": [
    {
     "data": {
      "text/plain": [
       "520.2328898928023"
      ]
     },
     "execution_count": 51,
     "metadata": {},
     "output_type": "execute_result"
    }
   ],
   "source": [
    "seattle_property.PricePerSqFt.mean()"
   ]
  },
  {
   "cell_type": "markdown",
   "metadata": {},
   "source": [
    "## Turning code into a script\n",
    "\n",
    "#### make a new .py file\n",
    "- open a new `.py` file _or_ open a new jupyter notbook and export as a `.py` file so we can start to edit the `.py` file directly\n",
    "- save the file as `mean_ppsf_seattle.py`\n",
    "- look at all your code between `sales_df = pd.read_csv('data/Real Property Sales.zip')` and question `number 6` above\n",
    "\n",
    "#### review & organize your code\n",
    "- _organize_ your code in the `mean_ppsf_seattle.py` to start with `sales_df = pd.read_csv('data/Real Property Sales.zip')` and end with printing out the mean price per square foot for a house sold in seattle in 2019\n",
    "- the code should be able to run without throwing any errors\n",
    "- remember to include `import pandas as pd` and any other necessary statements at the start of your script\n",
    "\n",
    "#### test your script\n",
    "- go to the terminal\n",
    "- make sure you are in the same directory path as your jupyter notebook and the `.py` file\n",
    "- in the terminal type and then run `python mean_ppsf_seattle.py`\n",
    "- confirm the script returns in terminal what you wanted it to return\n",
    "\n",
    "#### send your script to Ammar and Marisa\n",
    "\n",
    "![anykey](https://media2.giphy.com/media/26BGIqWh2R1fi6JDa/giphy.gif?cid=790b76115d3627d8354c7179366b0672&rid=giphy.gif)"
   ]
  },
  {
   "cell_type": "code",
   "execution_count": null,
   "metadata": {},
   "outputs": [],
   "source": []
  }
 ],
 "metadata": {
  "kernelspec": {
   "display_name": "Python 3",
   "language": "python",
   "name": "python3"
  },
  "language_info": {
   "codemirror_mode": {
    "name": "ipython",
    "version": 3
   },
   "file_extension": ".py",
   "mimetype": "text/x-python",
   "name": "python",
   "nbconvert_exporter": "python",
   "pygments_lexer": "ipython3",
   "version": "3.7.3"
  }
 },
 "nbformat": 4,
 "nbformat_minor": 2
}
