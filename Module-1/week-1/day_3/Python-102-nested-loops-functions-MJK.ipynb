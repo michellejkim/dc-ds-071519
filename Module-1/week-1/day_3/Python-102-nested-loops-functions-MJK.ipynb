{
 "cells": [
  {
   "cell_type": "markdown",
   "metadata": {},
   "source": [
    "## Python 102\n",
    "\n",
    "**Scenario:** Today we are going to build upon the for loops of yesterday. Who has ever got to the cash register at costco, or whole foods, seen the total and asked \"how did I spend that much?\". Today we have a grocery list of items and prices, but we do not have infinite money (unfortunately), so we need to have a program that will look at our grocery list and help us manage our shopping and cost.\n",
    "\n",
    "### Learning goals:\n",
    "\n",
    "Today we will:\n",
    " - revisit what for loop does, using a dictionary\n",
    " - use `break` to adjust loop activity\n",
    " - use nested loops to navigate a nested dictionary\n",
    " - write a robust function that will take any nested dictionary of items, costs, and print out your shopping list, stopping when the total cost gets to high, and telling you the average cost per item in your cart.\n",
    "\n",
    "Let's revisit what a for loop does. Here we have a list of items, and a separate list of costs. We are going to write a loop to print each item, it's cost, and the total of our grocery list.\n",
    "\n",
    "```\n",
    "items = ['cheese', 'whole milk', 'kefir', 'tofu four-pack', 'kale', 'oranges', 'ham', 'ben & jerry's']\n",
    "cost = [2.79, 3.42, 4.50, 12.00, 2.75, 3.64, 25.00, 5.29]\n",
    "```\n",
    "\n",
    "![groc-cart](https://images.pexels.com/photos/1389103/pexels-photo-1389103.jpeg?auto=compress&cs=tinysrgb&dpr=2&h=750&w=1260)\n",
    "\n",
    "### For loops:\n",
    "First, let's create a for-loop that prints each item in the list with \"I need to buy: \" item."
   ]
  },
  {
   "cell_type": "code",
   "execution_count": 62,
   "metadata": {},
   "outputs": [],
   "source": [
    "items = ['cheese', 'whole milk', 'kefir', 'tofu four-pack', 'kale', 'oranges', 'ham', 'ben & jerry\\'s']\n",
    "costs = [2.79, 3.42, 4.50, 12.00, 2.75, 3.64, 25.00, 5.29]"
   ]
  },
  {
   "cell_type": "code",
   "execution_count": 7,
   "metadata": {},
   "outputs": [
    {
     "name": "stdout",
     "output_type": "stream",
     "text": [
      "I need to buy:\n",
      "\t- cheese\n",
      "\t- whole milk\n",
      "\t- kefir\n",
      "\t- tofu four-pack\n",
      "\t- kale\n",
      "\t- oranges\n",
      "\t- ham\n",
      "\t- ben & jerry's\n"
     ]
    }
   ],
   "source": [
    "print(\"I need to buy:\")\n",
    "for item in items:\n",
    "    print('\\t-',item)"
   ]
  },
  {
   "cell_type": "markdown",
   "metadata": {},
   "source": [
    "Let's make that a little nicer looking:\n",
    "\n",
    "```\n",
    "print(\"I need to buy: \")\n",
    "for item in items:\n",
    "   print(\" - [ ] \", item)\n",
    "```\n",
    "\n",
    "Okay, we want to work through a dictionary, so what's one way to convert those two lists to a dictionary?\n",
    "\n",
    "_Hint_: Check [this](https://www.w3schools.com/python/ref_func_zip.asp) documentation. "
   ]
  },
  {
   "cell_type": "code",
   "execution_count": 19,
   "metadata": {},
   "outputs": [
    {
     "name": "stdout",
     "output_type": "stream",
     "text": [
      "I need to buy: \n",
      "\t- [ ] cheese\n",
      "\t- [ ] whole milk\n",
      "\t- [ ] kefir\n",
      "\t- [ ] tofu four-pack\n",
      "\t- [ ] kale\n",
      "\t- [ ] oranges\n",
      "\t- [ ] ham\n",
      "\t- [ ] ben & jerry's\n"
     ]
    }
   ],
   "source": [
    "print(\"I need to buy: \")\n",
    "for item in items:\n",
    "    print(\"\\t- [ ]\",item)"
   ]
  },
  {
   "cell_type": "code",
   "execution_count": 26,
   "metadata": {},
   "outputs": [
    {
     "name": "stdout",
     "output_type": "stream",
     "text": [
      "I need to buy: \n",
      "\t- [ ] cheese $2.79\n",
      "\t- [ ] whole milk $3.42\n",
      "\t- [ ] kefir $4.5\n",
      "\t- [ ] tofu four-pack $12.0\n",
      "\t- [ ] kale $2.75\n",
      "\t- [ ] oranges $3.64\n",
      "\t- [ ] ham $25.0\n",
      "\t- [ ] ben & jerry's $5.29\n"
     ]
    }
   ],
   "source": [
    "print(\"I need to buy: \")\n",
    "for item,cost in zip(items,costs):\n",
    "    print(\"\\t- [ ] \",item,' $',cost,sep='')"
   ]
  },
  {
   "cell_type": "code",
   "execution_count": 63,
   "metadata": {},
   "outputs": [
    {
     "data": {
      "text/plain": [
       "dict_keys(['cheese', 'whole milk', 'kefir', 'tofu four-pack', 'kale', 'oranges', 'ham', \"ben & jerry's\"])"
      ]
     },
     "execution_count": 63,
     "metadata": {},
     "output_type": "execute_result"
    }
   ],
   "source": [
    "x = (zip(items,costs)) # zip is another type\n",
    "grocery_dict = dict(x) # can be fed to dictionary\n",
    "grocery_dict.keys()"
   ]
  },
  {
   "cell_type": "code",
   "execution_count": 41,
   "metadata": {},
   "outputs": [
    {
     "name": "stdout",
     "output_type": "stream",
     "text": [
      "I need to buy:\n",
      "\t- [ ] cheese ($5.29)\n",
      "\t- [ ] whole milk ($5.29)\n",
      "\t- [ ] kefir ($5.29)\n",
      "\t- [ ] tofu four-pack ($5.29)\n",
      "\t- [ ] kale ($5.29)\n",
      "\t- [ ] oranges ($5.29)\n",
      "\t- [ ] ham ($5.29)\n",
      "\t- [ ] ben & jerry's ($5.29)\n"
     ]
    }
   ],
   "source": [
    "# Another way to print this list\n",
    "print('I need to buy:')\n",
    "for x,y in grocery_dict.items():\n",
    "    print(\"\\t- [ ] \",x,' ($',cost,')',sep='')"
   ]
  },
  {
   "cell_type": "markdown",
   "metadata": {},
   "source": [
    "So let's now add the total grocery bill at the end:"
   ]
  },
  {
   "cell_type": "code",
   "execution_count": 43,
   "metadata": {},
   "outputs": [
    {
     "name": "stdout",
     "output_type": "stream",
     "text": [
      "The total is $59.39\n"
     ]
    }
   ],
   "source": [
    "print('The total is $',sum(grocery_dict.values()),sep='')"
   ]
  },
  {
   "cell_type": "markdown",
   "metadata": {},
   "source": [
    "Does this look reasonable?\n",
    "\n",
    "What if you only had $25? \n",
    "\n",
    "How can you build it out to stop adding items when the total is over $25?\n",
    "\n",
    "### While, break, and continue\n",
    "What does a while loop look like in Python?"
   ]
  },
  {
   "cell_type": "code",
   "execution_count": 47,
   "metadata": {},
   "outputs": [
    {
     "name": "stdout",
     "output_type": "stream",
     "text": [
      "1\n",
      "2\n",
      "3\n",
      "4\n",
      "5\n"
     ]
    }
   ],
   "source": [
    "i = 1\n",
    "while i < 6:\n",
    "    print(i)\n",
    "    i += 1"
   ]
  },
  {
   "cell_type": "markdown",
   "metadata": {},
   "source": [
    "- What is break and continue?\n",
    "- Are they different? How?\n",
    "- Run the following code:"
   ]
  },
  {
   "cell_type": "code",
   "execution_count": 57,
   "metadata": {},
   "outputs": [
    {
     "name": "stdout",
     "output_type": "stream",
     "text": [
      "1\n",
      "2\n",
      "foo\n",
      "4\n",
      "5\n",
      "6\n"
     ]
    }
   ],
   "source": [
    "i = 0\n",
    "while i < 6:\n",
    "    i += 1\n",
    "    if i == 3:\n",
    "        print(\"foo\")\n",
    "        continue # continue allows exceptional results to a loop, but allows it to pass over the rest of loop\n",
    "    print(i)\n",
    "    \n",
    "# this doesn't seem like that good of an example of continue because this is an else condition. \n",
    "# does it help you avoid some deeply nested loops? "
   ]
  },
  {
   "cell_type": "markdown",
   "metadata": {},
   "source": [
    "How does the code above work?\n",
    "\n",
    "Now run this code:"
   ]
  },
  {
   "cell_type": "code",
   "execution_count": null,
   "metadata": {},
   "outputs": [],
   "source": [
    "i = 0\n",
    "while i < 6:\n",
    "    i += 1\n",
    "    if i == 3:\n",
    "        print(\"foo\")\n",
    "        break\n",
    "    print(i)"
   ]
  },
  {
   "cell_type": "markdown",
   "metadata": {},
   "source": [
    "Why is the output different?\n",
    "\n",
    "It stopped at foo, why?\n",
    "\n",
    "We can also include `breaks` in for-loops.\n",
    "\n",
    "What would we use to **stop** the for loop if the total reached $25?"
   ]
  },
  {
   "cell_type": "raw",
   "metadata": {},
   "source": []
  },
  {
   "cell_type": "code",
   "execution_count": 73,
   "metadata": {},
   "outputs": [
    {
     "name": "stdout",
     "output_type": "stream",
     "text": [
      "The total is $22.71\n"
     ]
    }
   ],
   "source": [
    "total = 0\n",
    "for key,val in grocery_dict.items():\n",
    "    if total + val > 25:\n",
    "        break\n",
    "    else:\n",
    "        total += val\n",
    "print('The total is $',total,sep='')"
   ]
  },
  {
   "cell_type": "markdown",
   "metadata": {},
   "source": [
    "What if we wanted to use continue and break to stop the program if an item costs more than **$10** ?"
   ]
  },
  {
   "cell_type": "code",
   "execution_count": 79,
   "metadata": {},
   "outputs": [
    {
     "name": "stdout",
     "output_type": "stream",
     "text": [
      "For under $10 I can buy:\n",
      "cheese ($2.79)\n",
      "whole milk ($3.42)\n",
      "kefir ($4.5)\n",
      "kale ($2.75)\n",
      "oranges ($3.64)\n",
      "ben & jerry's ($5.29)\n"
     ]
    }
   ],
   "source": [
    "limit = 10;\n",
    "print('For under $',limit,' I can buy:',sep='')\n",
    "for key,val in grocery_dict.items():\n",
    "    if val < limit:\n",
    "        print(key,' ($',val,')',sep='')"
   ]
  },
  {
   "cell_type": "markdown",
   "metadata": {},
   "source": [
    "### Nested Loops"
   ]
  },
  {
   "cell_type": "code",
   "execution_count": 3,
   "metadata": {},
   "outputs": [
    {
     "name": "stdout",
     "output_type": "stream",
     "text": [
      "loop1: 1\n",
      "loop2--- 1\n",
      "loop2--- 2\n",
      "loop2--- 3\n",
      "loop2--- 4\n",
      "loop2--- 5\n",
      "loop1: 2\n",
      "loop2--- 1\n",
      "loop2--- 2\n",
      "loop2--- 3\n",
      "loop2--- 4\n",
      "loop2--- 5\n",
      "loop1: 3\n",
      "loop2--- 1\n",
      "loop2--- 2\n",
      "loop2--- 3\n",
      "loop2--- 4\n",
      "loop2--- 5\n",
      "loop1: 4\n",
      "loop2--- 1\n",
      "loop2--- 2\n",
      "loop2--- 3\n",
      "loop2--- 4\n",
      "loop2--- 5\n",
      "loop1: 5\n",
      "loop2--- 1\n",
      "loop2--- 2\n",
      "loop2--- 3\n",
      "loop2--- 4\n",
      "loop2--- 5\n"
     ]
    }
   ],
   "source": [
    "list2 = [1,2,3,4,5]\n",
    "\n",
    "for x in list2:\n",
    "    print('loop1:', x)\n",
    "    for y in list2:\n",
    "        print('loop2---', y)"
   ]
  },
  {
   "cell_type": "markdown",
   "metadata": {},
   "source": [
    "What do you expect to see? Why?\n",
    "\n",
    "Here's a more complicated example, what is it doing?"
   ]
  },
  {
   "cell_type": "code",
   "execution_count": 182,
   "metadata": {},
   "outputs": [
    {
     "data": {
      "text/plain": [
       "True"
      ]
     },
     "execution_count": 182,
     "metadata": {},
     "output_type": "execute_result"
    }
   ],
   "source": [
    "not(12%6)"
   ]
  },
  {
   "cell_type": "code",
   "execution_count": 80,
   "metadata": {},
   "outputs": [
    {
     "name": "stdout",
     "output_type": "stream",
     "text": [
      "2  is prime\n",
      "3  is prime\n",
      "5  is prime\n",
      "7  is prime\n",
      "11  is prime\n",
      "13  is prime\n",
      "17  is prime\n",
      "19  is prime\n",
      "23  is prime\n",
      "29  is prime\n",
      "31  is prime\n",
      "37  is prime\n",
      "41  is prime\n",
      "43  is prime\n",
      "47  is prime\n",
      "53  is prime\n",
      "59  is prime\n",
      "61  is prime\n",
      "67  is prime\n",
      "71  is prime\n",
      "73  is prime\n",
      "79  is prime\n",
      "83  is prime\n",
      "89  is prime\n",
      "97  is prime\n",
      "Good bye!\n"
     ]
    }
   ],
   "source": [
    "i = 2 # dividened (also the number we are checking to see if it's a prime)\n",
    "while(i < 100): # test values up to 100\n",
    "    j = 2 # divisor (increases by 1)\n",
    "    while(j <= (i/j)):# while there are bigger factors out there...\n",
    "        if not(i%j): break # and as long as i is not a multiple of j (if so break out of the while loop and jump to i = i + 1 (i.e. skip j iterations, skip prime alert))\n",
    "        j = j + 1 # keep increasing j to find the bigger factors\n",
    "    if (j > i/j) : print( i, \" is prime\")# if the final j of this round is larger than the quotient thus far, it has not been divided out thus must be prime\n",
    "    i = i + 1 # increase the counter\n",
    "\n",
    "print (\"Good bye!\")"
   ]
  },
  {
   "cell_type": "markdown",
   "metadata": {},
   "source": [
    "Here is a more robust shopping list of nested dictionaries:\n",
    "```\n",
    "shopping_dict = {'Grocieries': {'ben & jerrys': 5.29, 'cheese': 2.79,'ham': 25.0, 'kale': 2.75,'kefir': 4.5,'oranges': 3.64,'tofu four-pack': 12.0,'whole milk': 3.42},\n",
    "                 'House supplies': {'toilet paper pack': 16.50, 'clorox spray': 6.43, 'kleenex': 2.50,},\n",
    "                 'Pet supplies': {'Taste of the Wild': 65.20, 'squeaky toy': 4.50, 'duck feet': 8.45}}\n",
    "```\n",
    "\n",
    "write the nested for loops to print out each grocery list with its total\n",
    "\n",
    "_Hint_\n",
    "\n",
    "- use [this link](https://pyformat.info/#number) for help in formatting the total to two decimal places"
   ]
  },
  {
   "cell_type": "code",
   "execution_count": 81,
   "metadata": {},
   "outputs": [],
   "source": [
    "shopping_dict = {'Grocieries': {'ben & jerrys': 5.29, 'cheese': 2.79,'ham': 25.0, 'kale': 2.75,'kefir': 4.5,'oranges': 3.64,'tofu four-pack': 12.0,'whole milk': 3.42},\n",
    "                 'House supplies': {'toilet paper pack': 16.50, 'clorox spray': 6.43, 'kleenex': 2.50,},\n",
    "                 'Pet supplies': {'Taste of the Wild': 65.20, 'squeaky toy': 4.50, 'duck feet': 8.45}}\n"
   ]
  },
  {
   "cell_type": "code",
   "execution_count": 111,
   "metadata": {},
   "outputs": [
    {
     "name": "stdout",
     "output_type": "stream",
     "text": [
      "dict_values([5.29, 2.79, 25.0, 2.75, 4.5, 3.64, 12.0, 3.42])\n"
     ]
    }
   ],
   "source": [
    "x = shopping_dict['Grocieries']\n",
    "print(x.values())\n"
   ]
  },
  {
   "cell_type": "code",
   "execution_count": 147,
   "metadata": {},
   "outputs": [
    {
     "name": "stdout",
     "output_type": "stream",
     "text": [
      "I need to buy items, in the follow categories:\n",
      "\tGrocieries:\n",
      "\t\tben & jerrys - $5.29\n",
      "\t\tcheese - $2.79\n",
      "\t\tham - $25.0\n",
      "\t\tkale - $2.75\n",
      "\t\tkefir - $4.5\n",
      "\t\toranges - $3.64\n",
      "\t\ttofu four-pack - $12.0\n",
      "\t\twhole milk - $3.42\n",
      "\tThe category total is $59.39 \n",
      "\n",
      "\tHouse supplies:\n",
      "\t\ttoilet paper pack - $16.5\n",
      "\t\tclorox spray - $6.43\n",
      "\t\tkleenex - $2.5\n",
      "\tThe category total is $25.43 \n",
      "\n",
      "\tPet supplies:\n",
      "\t\tTaste of the Wild - $65.2\n",
      "\t\tsqueaky toy - $4.5\n",
      "\t\tduck feet - $8.45\n",
      "\tThe category total is $78.15 \n",
      "\n",
      "The total is $162.97\n"
     ]
    }
   ],
   "source": [
    "print(\"I need to buy items, in the follow categories:\")\n",
    "total = 0\n",
    "for cat,list in shopping_dict.items():\n",
    "    cat_total = 0\n",
    "    print('\\t',cat,':',sep='')\n",
    "    #print(list)\n",
    "    for items,values in list.items():\n",
    "        cat_total += values\n",
    "        print('\\t\\t',items,' - $',values,sep = '')        \n",
    "        total += values\n",
    "    print('\\tThe category total is $%.2f'%cat_total,'\\n')\n",
    "print('The total is $%.2f'%total)"
   ]
  },
  {
   "cell_type": "code",
   "execution_count": 163,
   "metadata": {},
   "outputs": [
    {
     "name": "stdout",
     "output_type": "stream",
     "text": [
      "\tGrocieries:\n",
      "\t\tben & jerrys - $5.29\n",
      "\t\tcheese - $2.79\n",
      "\t\tham - $25.0\n",
      "\t\tkale - $2.75\n",
      "\t\tkefir - $4.5\n",
      "\t\toranges - $3.64\n",
      "\t\ttofu four-pack - $12.0\n",
      "\t\twhole milk - $3.42\n",
      "\tThe category total is $59.39 \n",
      "\n",
      "\tHouse supplies:\n",
      "\t\ttoilet paper pack - $16.5\n",
      "\t\tclorox spray - $6.43\n",
      "\t\tkleenex - $2.5\n",
      "\tThe category total is $25.43 \n",
      "\n",
      "\tPet supplies:\n",
      "\t\tTaste of the Wild - $65.2\n",
      "\t\tsqueaky toy - $4.5\n",
      "\t\tduck feet - $8.45\n",
      "\tThe category total is $78.15 \n",
      "\n",
      "The total is $162.97\n"
     ]
    }
   ],
   "source": [
    "# But make it a function\n",
    "def shoppingListPrint(argument):\n",
    "    total = 0\n",
    "    for cat,list in argument.items():\n",
    "        cat_total = 0\n",
    "        print('\\t',cat,':',sep='')\n",
    "        #print(list)\n",
    "        for items,values in list.items():\n",
    "            cat_total += values\n",
    "            print('\\t\\t',items,' - $',values,sep = '')        \n",
    "            total += values\n",
    "        print('\\tThe category total is $%.2f'%cat_total,'\\n')\n",
    "    print('The total is $%.2f'%total)\n",
    "    \n",
    "shoppingListPrint(shopping_dict)"
   ]
  },
  {
   "cell_type": "markdown",
   "metadata": {},
   "source": [
    "### Functions\n",
    "\n",
    "**Built-in functions** <br>\n",
    "Many useful functions are already built into Python:<br>\n",
    "\n",
    "`print()`: print the given string or variable's value<br>\n",
    "`type()`: returns the datatype of the argument<br>\n",
    "`len()`: returns the length of an array<br>\n",
    "`sum()`: returns the sum of the array's values<br>\n",
    "`min()`: returns the smallest member of an array <br>\n",
    "`max()`: returns the largest member of an array<br>\n",
    "\n",
    "\n",
    "**Writing your own functions**\n",
    "\n",
    "```\n",
    "def sayHello():\n",
    "  print(\"Hello!\")\n",
    "```\n",
    "How do we run it?\n",
    "\n",
    "```\n",
    "sayHello()\n",
    "```\n",
    "\n",
    "Let's talk about arguments or parameters. Let's say we want to make this function more dynamic and print out whatever we want! How would we do that?\n",
    "```\n",
    "def shout(phrase):\n",
    "  print(phrase + \"!!!\")\n",
    "shout(\"oh hai\")\n",
    "```"
   ]
  },
  {
   "cell_type": "code",
   "execution_count": 150,
   "metadata": {},
   "outputs": [
    {
     "name": "stdout",
     "output_type": "stream",
     "text": [
      "Hello!\n"
     ]
    }
   ],
   "source": [
    "def sayHello():\n",
    "    print(\"Hello!\")\n",
    "    \n",
    "sayHello()"
   ]
  },
  {
   "cell_type": "code",
   "execution_count": 152,
   "metadata": {},
   "outputs": [
    {
     "name": "stdout",
     "output_type": "stream",
     "text": [
      "oh hai!!!\n"
     ]
    }
   ],
   "source": [
    "def shout(phrase):\n",
    "    print(phrase + \"!!!\")\n",
    "    \n",
    "shout(\"oh hai\")"
   ]
  },
  {
   "cell_type": "markdown",
   "metadata": {},
   "source": [
    "What if we don't pass in an argument? What happens?\n",
    "Maybe we can establish a default value for the argument in case it isn't passed in.\n",
    "\n",
    "```\n",
    "def shout(phrase = \"oh hai\"):\n",
    "  print(phrase + \"!!!\")\n",
    "\n",
    "shout()\n",
    "shout(\"bye\")\n",
    "```"
   ]
  },
  {
   "cell_type": "code",
   "execution_count": 177,
   "metadata": {},
   "outputs": [
    {
     "ename": "TypeError",
     "evalue": "shout() missing 1 required positional argument: 'phrase'",
     "output_type": "error",
     "traceback": [
      "\u001b[1;31m---------------------------------------------------------------------------\u001b[0m",
      "\u001b[1;31mTypeError\u001b[0m                                 Traceback (most recent call last)",
      "\u001b[1;32m<ipython-input-177-0b76b82f8bb9>\u001b[0m in \u001b[0;36m<module>\u001b[1;34m\u001b[0m\n\u001b[1;32m----> 1\u001b[1;33m \u001b[0mshout\u001b[0m\u001b[1;33m(\u001b[0m\u001b[1;33m)\u001b[0m\u001b[1;33m\u001b[0m\u001b[1;33m\u001b[0m\u001b[0m\n\u001b[0m",
      "\u001b[1;31mTypeError\u001b[0m: shout() missing 1 required positional argument: 'phrase'"
     ]
    }
   ],
   "source": [
    "shout() # very helpfully formats the error to the function's argument as defined in the script ('phrase')"
   ]
  },
  {
   "cell_type": "markdown",
   "metadata": {},
   "source": [
    "What if we wanted to run a function, take its output and put it in to another function?\n",
    "\n",
    "```\n",
    "def add_one(number):\n",
    "  return number + 1\n",
    "\n",
    "def times_five(number):\n",
    "  return number * 5\n",
    "\n",
    "number_plus_one = add_one(1)\n",
    "answer = times_five(number_plus_one)\n",
    "print(answer)\n",
    "```\n",
    "\n",
    "What will the above code return?"
   ]
  },
  {
   "cell_type": "code",
   "execution_count": 153,
   "metadata": {},
   "outputs": [
    {
     "name": "stdout",
     "output_type": "stream",
     "text": [
      "10\n"
     ]
    }
   ],
   "source": [
    "def add_one(number):\n",
    "    return number + 1 # passes it on to the calling script, can set a value to a variable (output)\n",
    "\n",
    "def times_five(number):\n",
    "    return number * 5\n",
    "\n",
    "number_plus_one = add_one(1)\n",
    "answer = times_five(number_plus_one)\n",
    "print(answer)"
   ]
  },
  {
   "cell_type": "markdown",
   "metadata": {},
   "source": [
    "Adapt your shopping list nested for-loop to be wrapped in a function you could call on any shopping list of nested dictionaries."
   ]
  },
  {
   "cell_type": "code",
   "execution_count": 160,
   "metadata": {},
   "outputs": [
    {
     "name": "stdout",
     "output_type": "stream",
     "text": [
      "6\n",
      "7\n",
      "(6, 7)\n"
     ]
    }
   ],
   "source": [
    "def add_one_two(number):\n",
    "    return number + 1, number + 2  # passes more than one answer through\n",
    "\n",
    "six, seven =add_one_two(5)\n",
    "print(six)\n",
    "print(seven)\n",
    "\n",
    "# or \n",
    "\n",
    "vector_of_six_seven = add_one_two(5)\n",
    "print(vector_of_six_seven)"
   ]
  },
  {
   "cell_type": "markdown",
   "metadata": {},
   "source": [
    "### Mathematical Notation and Measures of Central Tendency \n",
    "\n",
    "median vs mode vs mean<br>\n",
    "What's the difference?\n",
    "\n",
    "\n",
    "`samp_list = [1,1,1,1,2,2,2,3,3,10,44]`\n",
    "\n",
    "How could you write a for loop to calculate the mean?"
   ]
  },
  {
   "cell_type": "code",
   "execution_count": 176,
   "metadata": {},
   "outputs": [
    {
     "name": "stdout",
     "output_type": "stream",
     "text": [
      "6.36\n"
     ]
    }
   ],
   "source": [
    "samp_list = [1,1,1,1,2,2,2,3,3,10,44]\n",
    "\n",
    "def mean(list):\n",
    "    total = 0\n",
    "    for number in samp_list:\n",
    "        total += number\n",
    "    print('{0:.2f}'.format(total/len(samp_list)))\n",
    "    #return(total/len(samp_list))\n",
    "\n",
    "mean(samp_list)"
   ]
  },
  {
   "cell_type": "markdown",
   "metadata": {},
   "source": [
    "### Integration\n",
    "\n",
    "adapt your function to do the following:\n",
    "- stop the nested loop if a grocery total goes over $30\n",
    "- print out the average cost of per item in your cart"
   ]
  },
  {
   "cell_type": "markdown",
   "metadata": {},
   "source": [
    "## Jupyter Bonus\n",
    "\n",
    "This doesn't really fit in with the rest of Python 102, but Jupyter is incredibly flexible! Here are two examples of embedding beautiful LaTex scripting in a notebook."
   ]
  },
  {
   "cell_type": "code",
   "execution_count": 178,
   "metadata": {},
   "outputs": [
    {
     "data": {
      "text/latex": [
       "$$\\lim\\limits_{x \\to \\infty} \\exp(-x) = 0$$\n"
      ],
      "text/plain": [
       "<IPython.core.display.Latex object>"
      ]
     },
     "metadata": {},
     "output_type": "display_data"
    }
   ],
   "source": [
    "%%latex # this will make the entire cell LaTeX syntax\n",
    "$$\\lim\\limits_{x \\to \\infty} \\exp(-x) = 0$$"
   ]
  },
  {
   "cell_type": "code",
   "execution_count": 2,
   "metadata": {},
   "outputs": [
    {
     "data": {
      "text/latex": [
       "$\\displaystyle F(k) = \\int_{-\\infty}^{\\infty} f(x) e^{2\\pi i k} dx$"
      ],
      "text/plain": [
       "<IPython.core.display.Math object>"
      ]
     },
     "execution_count": 2,
     "metadata": {},
     "output_type": "execute_result"
    }
   ],
   "source": [
    "from IPython.display import Math\n",
    "# this imports a function called Math() in which you can pass in a raw string of LaTeX\n",
    "Math('F(k) = \\int_{-\\infty}^{\\infty} f(x) e^{2\\pi i k} dx')"
   ]
  }
 ],
 "metadata": {
  "kernelspec": {
   "display_name": "Python 3",
   "language": "python",
   "name": "python3"
  },
  "language_info": {
   "codemirror_mode": {
    "name": "ipython",
    "version": 3
   },
   "file_extension": ".py",
   "mimetype": "text/x-python",
   "name": "python",
   "nbconvert_exporter": "python",
   "pygments_lexer": "ipython3",
   "version": "3.7.3"
  }
 },
 "nbformat": 4,
 "nbformat_minor": 2
}
